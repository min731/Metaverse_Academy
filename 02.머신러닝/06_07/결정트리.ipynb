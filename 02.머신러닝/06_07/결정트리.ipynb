{
 "cells": [
  {
   "attachments": {},
   "cell_type": "markdown",
   "metadata": {},
   "source": [
    "### 결정트리 학습법"
   ]
  },
  {
   "cell_type": "code",
   "execution_count": 1,
   "metadata": {},
   "outputs": [],
   "source": [
    "# 트리구조는 빠름, 단 공간을 많이 씀"
   ]
  },
  {
   "cell_type": "code",
   "execution_count": 3,
   "metadata": {},
   "outputs": [],
   "source": [
    "# Decision Tree\n",
    "# 분류 or 회귀 가능\n",
    "# 가지치기 (pruning) \n",
    "# 불순도 (impurity) , 불확실성 (uncertainty)\n",
    "# depth가 깊어질수록 오래걸림\n",
    "\n",
    "# 섞여있는 비율이 같을 수록 순도는 낮아짐\n",
    "# 불순도 지표는 엔트로피 or 지니계수 or 오분류오차가 있음\n",
    "\n",
    "# RandomForest는 DT가 여러개 있는 것임\n",
    "# 데이터를 일정량 꺼낸 DT가 여러개 있는 것임\n",
    "\n",
    "# 엔트로피 ==1 => 불순도 최고\n",
    "# 원하는 데이터와 원하지않는 데이터가 반반임. 최악\n",
    "\n",
    "# 정보획득 : 엔트로피가 1인 상태에서 0.7인 상태로 바뀌었을 때 정보획득 == 0.3\n",
    "# 결정트리 알고리즘은 정보획득을 최대화하는 방향으로 학습됌,\n",
    "# 어느 feature에서 최대화 되는지 알아냄\n",
    "\n",
    "# 가지치기는 오버피팅을 막기 위한 전략임\n",
    "# ex) min_sample_split : 하나의 노드에 들어있는 최소 데이터 수를 정해줄 수 있음"
   ]
  },
  {
   "cell_type": "code",
   "execution_count": 4,
   "metadata": {},
   "outputs": [],
   "source": [
    "# XGBoost , RandomForest 는 분류, 회귀 둘 다 가능"
   ]
  },
  {
   "cell_type": "code",
   "execution_count": null,
   "metadata": {},
   "outputs": [],
   "source": []
  }
 ],
 "metadata": {
  "kernelspec": {
   "display_name": "py",
   "language": "python",
   "name": "python3"
  },
  "language_info": {
   "codemirror_mode": {
    "name": "ipython",
    "version": 3
   },
   "file_extension": ".py",
   "mimetype": "text/x-python",
   "name": "python",
   "nbconvert_exporter": "python",
   "pygments_lexer": "ipython3",
   "version": "3.11.3"
  },
  "orig_nbformat": 4
 },
 "nbformat": 4,
 "nbformat_minor": 2
}
