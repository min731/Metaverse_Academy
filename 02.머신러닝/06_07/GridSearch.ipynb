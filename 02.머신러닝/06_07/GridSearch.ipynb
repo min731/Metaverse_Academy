{
 "cells": [
  {
   "attachments": {},
   "cell_type": "markdown",
   "metadata": {},
   "source": [
    "### Gradient Boost"
   ]
  },
  {
   "cell_type": "code",
   "execution_count": null,
   "metadata": {},
   "outputs": [],
   "source": [
    "# 경사하강\n",
    "# (편미분을 통한 오차제곱을 최소화하는 지점을 찾는 모듈)\n",
    "# w,b 계속 바꿔가면서 갱신함"
   ]
  },
  {
   "cell_type": "code",
   "execution_count": 2,
   "metadata": {},
   "outputs": [],
   "source": [
    "# Gradient Boost\n",
    "# LightGBM\n",
    "# 옵션이 매우 많음\n",
    "# '토닥토닥 머신러닝'에서 옵션값 확인"
   ]
  },
  {
   "cell_type": "code",
   "execution_count": 3,
   "metadata": {},
   "outputs": [],
   "source": [
    "import numpy as np\n",
    "from sklearn.model_selection import train_test_split\n",
    "from sklearn.linear_model import Lasso\n",
    "#from sklearn.metrics import r2_score\n",
    "#from sklearn.metrics import make_scorer\n",
    "from sklearn.model_selection import GridSearchCV\n",
    "import pandas as pd"
   ]
  },
  {
   "cell_type": "code",
   "execution_count": 4,
   "metadata": {},
   "outputs": [],
   "source": [
    "##########데이터 로드\n",
    "\n",
    "x_data = np.array([\n",
    "    [2, 1],\n",
    "    [3, 2],\n",
    "    [3, 4],\n",
    "    [5, 5],\n",
    "    [7, 5],\n",
    "    [2, 5],\n",
    "    [8, 9],\n",
    "    [9, 10],\n",
    "    [6, 12],\n",
    "    [9, 2],\n",
    "    [6, 10],\n",
    "    [2, 4]\n",
    "])\n",
    "y_data = np.array([3, 5, 7, 10 ,12, 7, 13, 13, 12, 13, 12, 6])\n",
    "\n",
    "##########데이터 분석\n",
    "\n",
    "##########데이터 전처리\n",
    "\n",
    "#x_train, x_test, y_train, y_test = train_test_split(x_data, y_data, test_size=0.3, random_state=777)"
   ]
  },
  {
   "cell_type": "code",
   "execution_count": 5,
   "metadata": {},
   "outputs": [
    {
     "name": "stdout",
     "output_type": "stream",
     "text": [
      "dict_keys(['alpha', 'copy_X', 'fit_intercept', 'max_iter', 'positive', 'precompute', 'random_state', 'selection', 'tol', 'warm_start'])\n"
     ]
    }
   ],
   "source": [
    "##########모델 생성\n",
    "\n",
    "model = Lasso()\n",
    "\n",
    "##########모델 학습\n",
    "\n",
    "##########모델 검증\n",
    "\n",
    "print(model.get_params().keys()) #\n",
    "\n",
    "param_grid = {\n",
    "    'alpha': [0.5, 1, 1.5]\n",
    "}\n",
    "grid_search = GridSearchCV(model, param_grid=param_grid) \n",
    "#grid_search = GridSearchCV(model, param_grid=param_grid, cv=5, scoring='r2') \n",
    "#grid_search = GridSearchCV(model, param_grid=param_grid, cv=KFold(n_splits=5), scoring='r2') \n",
    "#grid_search = GridSearchCV(model, param_grid=param_grid, cv=5, scoring=make_scorer(r2_score))\n",
    "#grid_search = GridSearchCV(model, param_grid=param_grid, cv=KFold(n_splits=5), scoring=make_scorer(r2_score))"
   ]
  },
  {
   "cell_type": "code",
   "execution_count": 6,
   "metadata": {},
   "outputs": [
    {
     "name": "stdout",
     "output_type": "stream",
     "text": [
      "{'alpha': 0.5}\n",
      "-2.893834505364599\n",
      "           params  mean_test_score\n",
      "0  {'alpha': 0.5}        -2.893835\n",
      "1    {'alpha': 1}        -3.618589\n",
      "2  {'alpha': 1.5}        -4.449471\n",
      "8.34598670632434\n"
     ]
    }
   ],
   "source": [
    "grid_search.fit(x_data, y_data)\n",
    "\n",
    "print(grid_search.best_params_) #{'alpha': 0.5}\n",
    "print(grid_search.best_score_) #-2.8938345053645973\n",
    "df = pd.DataFrame(grid_search.cv_results_)\n",
    "df = df.sort_values(by='mean_test_score', ascending=False)\n",
    "print(df[['params', 'mean_test_score']])   \n",
    "'''\n",
    "           params  mean_test_score\n",
    "0  {'alpha': 0.5}        -2.893835\n",
    "1    {'alpha': 1}        -3.618589\n",
    "2  {'alpha': 1.5}        -4.449471\n",
    "'''\n",
    "\n",
    "##########모델 예측\n",
    "\n",
    "x_test = np.array([\n",
    "    [4, 6]\n",
    "])\n",
    "\n",
    "best_model = grid_search.best_estimator_\n",
    "y_predict = best_model.predict(x_test)\n",
    "\n",
    "print(y_predict[0]) #8.279504382440336"
   ]
  },
  {
   "cell_type": "code",
   "execution_count": 7,
   "metadata": {},
   "outputs": [],
   "source": [
    "##########모델 검증\n",
    "\n",
    "param_grid = {\n",
    "    'alpha': [0.5, 1, 1.5, 2, 2.5, 3, 3.5 ,4 ,4.5 ,5]\n",
    "}\n",
    "grid_search = GridSearchCV(model, param_grid=param_grid, return_train_score=True) \n",
    "#grid_search = GridSearchCV(model, param_grid=param_grid, cv=5, scoring='r2', return_train_score=True) \n",
    "#grid_search = GridSearchCV(model, param_grid=param_grid, cv=KFold(n_splits=5), scoring='r2', return_train_score=True) \n",
    "#grid_search = GridSearchCV(model, param_grid=param_grid, cv=5, scoring=make_scorer(r2_score), return_train_score=True)\n",
    "#grid_search = GridSearchCV(model, param_grid=param_grid, cv=KFold(n_splits=5), scoring=make_scorer(r2_score), return_train_score=True)"
   ]
  },
  {
   "cell_type": "code",
   "execution_count": 8,
   "metadata": {},
   "outputs": [
    {
     "name": "stdout",
     "output_type": "stream",
     "text": [
      "{'alpha': 0.5}\n",
      "-2.893834505364599\n",
      "           params  mean_train_score  mean_test_score\n",
      "0  {'alpha': 0.5}          0.932386        -2.893835\n",
      "1    {'alpha': 1}          0.919276        -3.618589\n",
      "2  {'alpha': 1.5}          0.897426        -4.449471\n",
      "3    {'alpha': 2}          0.866836        -5.387232\n",
      "4  {'alpha': 2.5}          0.829522        -6.384940\n",
      "5    {'alpha': 3}          0.785590        -7.444023\n",
      "6  {'alpha': 3.5}          0.733670        -8.597371\n",
      "7    {'alpha': 4}          0.673762        -9.844984\n",
      "8  {'alpha': 4.5}          0.605866       -11.186865\n",
      "9    {'alpha': 5}          0.529982       -12.623008\n"
     ]
    }
   ],
   "source": [
    "grid_search.fit(x_data, y_data)\n",
    "\n",
    "print(grid_search.best_params_) #\n",
    "print(grid_search.best_score_) #\n",
    "df = pd.DataFrame(grid_search.cv_results_)\n",
    "df = df.sort_values(by=['mean_test_score', 'mean_train_score'], ascending=False)\n",
    "print(df[['params', 'mean_train_score', 'mean_test_score']])  "
   ]
  },
  {
   "cell_type": "code",
   "execution_count": 10,
   "metadata": {},
   "outputs": [
    {
     "name": "stdout",
     "output_type": "stream",
     "text": [
      "dict_keys(['mean_fit_time', 'std_fit_time', 'mean_score_time', 'std_score_time', 'param_alpha', 'params', 'split0_test_score', 'split1_test_score', 'split2_test_score', 'split3_test_score', 'split4_test_score', 'mean_test_score', 'std_test_score', 'rank_test_score', 'split0_train_score', 'split1_train_score', 'split2_train_score', 'split3_train_score', 'split4_train_score', 'mean_train_score', 'std_train_score'])\n",
      "[{'alpha': 0.5}, {'alpha': 1}, {'alpha': 1.5}, {'alpha': 2}, {'alpha': 2.5}, {'alpha': 3}, {'alpha': 3.5}, {'alpha': 4}, {'alpha': 4.5}, {'alpha': 5}]\n",
      "[0.93238629 0.91927639 0.89742647 0.86683554 0.82952219 0.78559014\n",
      " 0.73367023 0.67376247 0.60586564 0.5299821 ]\n",
      "[ -2.89383451  -3.6185893   -4.44947124  -5.38723229  -6.38494019\n",
      "  -7.44402313  -8.59737112  -9.84498417 -11.18686471 -12.62300811]\n",
      "{'alpha': 0.5}\n",
      "-2.893834505364599\n"
     ]
    }
   ],
   "source": [
    "#https://stats.stackexchange.com/questions/439485/how-to-evaluate-whether-model-is-overfitting-or-underfitting-when-using-cross-va\n",
    "#https://www.google.com/search?q=gridsearchcv+overfitting&rlz=1C5CHFA_enKR902KR902&oq=GridSearchCV+overfitting&aqs=chrome.0.0l3.7707j0j7&sourceid=chrome&ie=UTF-8\n",
    "\n",
    "print(grid_search.cv_results_.keys()) #dict_keys(['mean_fit_time', 'std_fit_time', 'mean_score_time', 'std_score_time', 'param_criterion', 'param_max_depth', 'params', 'split0_test_score', 'split1_test_score', 'split2_test_score', 'split3_test_score', 'split4_test_score', 'mean_test_score', 'std_test_score', 'rank_test_score', 'split0_train_score', 'split1_train_score', 'split2_train_score', 'split3_train_score', 'split4_train_score', 'mean_train_score', 'std_train_score'])\n",
    "print(grid_search.cv_results_[\"params\"]) #[[{'criterion': 'gini', 'max_depth': None}, {'criterion': 'gini', 'max_depth': 2}, {'criterion': 'gini', 'max_depth': 3}, {'criterion': 'gini', 'max_depth': 4}, {'criterion': 'gini', 'max_depth': 5}, {'criterion': 'gini', 'max_depth': 6}, {'criterion': 'entropy', 'max_depth': None}, {'criterion': 'entropy', 'max_depth': 2}, {'criterion': 'entropy', 'max_depth': 3}, {'criterion': 'entropy', 'max_depth': 4}, {'criterion': 'entropy', 'max_depth': 5}, {'criterion': 'entropy', 'max_depth': 6}]\n",
    "print(grid_search.cv_results_[\"mean_train_score\"]) #[1. 1. 1. 1. 1. 1. 1. 1. 1. 1. 1. 1.]\n",
    "print(grid_search.cv_results_[\"mean_test_score\"]) #[1.  0.9 1.  1.  1.  1.  1.  0.9 0.9 1.  1.  1. ]\n",
    "\n",
    "print(grid_search.best_params_)\n",
    "print(grid_search.best_score_)\n",
    "\n",
    "# print(grid_search.score(x_train, y_train)) #\n",
    "# print(grid_search.score(x_test, y_test)) #1.0"
   ]
  },
  {
   "cell_type": "markdown",
   "metadata": {},
   "source": [
    "### 데이터 전처리"
   ]
  },
  {
   "cell_type": "code",
   "execution_count": 12,
   "metadata": {},
   "outputs": [],
   "source": [
    "# 문자 -> 숫자\n",
    "# 결측치 -> 변환\n",
    "# 스케일링\n",
    "\n",
    "# 테스트 데이터도 학습할 때 내용으로 적용\n",
    "# 이를 내용을 기억하기 위해 pickle로 저장\n",
    "# 모델 저장시 pickle.dump()\n",
    "# https://wikidocs.net/43037"
   ]
  },
  {
   "cell_type": "code",
   "execution_count": null,
   "metadata": {},
   "outputs": [],
   "source": []
  }
 ],
 "metadata": {
  "kernelspec": {
   "display_name": "py",
   "language": "python",
   "name": "python3"
  },
  "language_info": {
   "codemirror_mode": {
    "name": "ipython",
    "version": 3
   },
   "file_extension": ".py",
   "mimetype": "text/x-python",
   "name": "python",
   "nbconvert_exporter": "python",
   "pygments_lexer": "ipython3",
   "version": "3.11.3"
  },
  "orig_nbformat": 4
 },
 "nbformat": 4,
 "nbformat_minor": 2
}
