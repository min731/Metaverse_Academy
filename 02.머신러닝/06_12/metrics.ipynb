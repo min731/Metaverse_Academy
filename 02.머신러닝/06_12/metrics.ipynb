{
 "cells": [
  {
   "attachments": {},
   "cell_type": "markdown",
   "metadata": {},
   "source": [
    "### 정밀도 & 재현율"
   ]
  },
  {
   "cell_type": "code",
   "execution_count": 1,
   "metadata": {},
   "outputs": [],
   "source": [
    "# 재현율 : Positive 인데 Negative로 예측하면 안되는 경우\n",
    "# 1 인데 0으로 예측하면 안되는 경우\n",
    "# FN을 낮춰야함\n",
    "# ex) 암환자 분류"
   ]
  },
  {
   "cell_type": "code",
   "execution_count": 2,
   "metadata": {},
   "outputs": [],
   "source": [
    "# 정밀도 : Negative를 Positive로 예측하면 안되는 경우\n",
    "# ex) 스팸메일 분류"
   ]
  },
  {
   "cell_type": "code",
   "execution_count": null,
   "metadata": {},
   "outputs": [],
   "source": [
    "# 정밀도와 재현율의 반비례 : Traced-Off"
   ]
  },
  {
   "attachments": {},
   "cell_type": "markdown",
   "metadata": {},
   "source": [
    "### 정형 데이터의 증강"
   ]
  },
  {
   "cell_type": "code",
   "execution_count": 22,
   "metadata": {},
   "outputs": [],
   "source": [
    "# 같은 데이터를 가지고 나누어 교차 검증\n",
    "# K-Fold\n",
    "# sklearn에서는 cross validation 사용"
   ]
  },
  {
   "cell_type": "code",
   "execution_count": 3,
   "metadata": {},
   "outputs": [
    {
     "name": "stdout",
     "output_type": "stream",
     "text": [
      "1.2.2\n"
     ]
    }
   ],
   "source": [
    "import sklearn\n",
    "\n",
    "print(sklearn.__version__)"
   ]
  },
  {
   "cell_type": "code",
   "execution_count": 23,
   "metadata": {},
   "outputs": [],
   "source": [
    "import numpy as np\n",
    "from sklearn.base import BaseEstimator\n",
    "\n",
    "class MyDummyClassifier(BaseEstimator):\n",
    "    # fit( ) 메소드는 아무것도 학습하지 않음. \n",
    "    def fit(self, X , y=None):\n",
    "        pass\n",
    "    \n",
    "    # predict( ) 메소드는 단순히 Sex feature가 1 이면 0 , 그렇지 않으면 1 로 예측함. \n",
    "    def predict(self, X):\n",
    "        pred = np.zeros( ( X.shape[0], 1 ))\n",
    "        for i in range (X.shape[0]) :\n",
    "            if X['Sex'].iloc[i] == 1:\n",
    "                pred[i] = 0\n",
    "            else :\n",
    "                pred[i] = 1\n",
    "        \n",
    "        return pred\n",
    "    \n",
    "# pred : x데이터만큼 0으로 세팅 [[0.][0.]..[0.]]\n",
    "# 성별이 0이면 0으로 예측\n",
    "# 성별이 1이면 1으로 예측"
   ]
  },
  {
   "cell_type": "code",
   "execution_count": 5,
   "metadata": {},
   "outputs": [],
   "source": [
    "\n",
    "from sklearn.preprocessing import LabelEncoder \n",
    "\n",
    "# Null 처리 함수\n",
    "def fillna(df):\n",
    "    df['Age'].fillna(df['Age'].mean(), inplace=True)\n",
    "    df['Cabin'].fillna('N', inplace=True)\n",
    "    df['Embarked'].fillna('N', inplace=True)\n",
    "    df['Fare'].fillna(0, inplace=True)\n",
    "    return df\n",
    "\n",
    "# 머신러닝 알고리즘에 불필요한 피처 제거\n",
    "def drop_features(df):\n",
    "    df.drop(['PassengerId', 'Name', 'Ticket'], axis=1, inplace=True)\n",
    "    return df\n",
    "\n",
    "# 레이블 인코딩 수행.\n",
    "def format_features(df):\n",
    "    df['Cabin'] = df['Cabin'].str[:1]\n",
    "    features = ['Cabin', 'Sex', 'Embarked']\n",
    "    for feature in features:\n",
    "        le = LabelEncoder()\n",
    "        le = le.fit(df[feature])\n",
    "        df[feature] = le.transform(df[feature])\n",
    "    return df\n",
    "\n",
    "# 앞에서 설정한 데이터 전처리 함수 호출\n",
    "def transform_features(df):\n",
    "    df = fillna(df)\n",
    "    df = drop_features(df)\n",
    "    df = format_features(df)\n",
    "    return df"
   ]
  },
  {
   "cell_type": "code",
   "execution_count": 44,
   "metadata": {},
   "outputs": [
    {
     "name": "stdout",
     "output_type": "stream",
     "text": [
      "Dummy Classifier의 정확도는: 0.7877\n"
     ]
    }
   ],
   "source": [
    "import pandas as pd\n",
    "from sklearn.model_selection import train_test_split\n",
    "from sklearn.metrics import accuracy_score\n",
    "\n",
    "# 원본 데이터를 재로딩, 데이터 가공, 학습 데이터/테스트 데이터 분할.\n",
    "titanic_df = pd.read_csv('..//06_08//titanic//train.csv')\n",
    "y_titanic_df = titanic_df['Survived']\n",
    "X_titanic_df= titanic_df.drop('Survived', axis=1)\n",
    "X_titanic_df = transform_features(X_titanic_df)\n",
    "X_train, X_test, y_train, y_test=train_test_split(X_titanic_df, y_titanic_df,\n",
    "                                                  test_size=0.2, random_state=0)\n",
    "\n",
    "# 위에서 생성한 Dummy Classifier를 이용해 학습/예측/평가 수행.\n",
    "myclf = MyDummyClassifier()\n",
    "# myclf.fit(X_train, y_train)\n",
    "\n",
    "mypredictions = myclf.predict(X_test)\n",
    "print('Dummy Classifier의 정확도는: {0:.4f}'.format(accuracy_score(y_test, mypredictions)))"
   ]
  },
  {
   "cell_type": "code",
   "execution_count": 45,
   "metadata": {},
   "outputs": [
    {
     "data": {
      "text/plain": [
       "0.0009992122650146484"
      ]
     },
     "execution_count": 45,
     "metadata": {},
     "output_type": "execute_result"
    }
   ],
   "source": [
    "import time\n",
    "\n",
    "start = time.time()\n",
    "\n",
    "X = X_test.copy()\n",
    "pred = []\n",
    "\n",
    "for i in X['Sex']:\n",
    "    if i ==1:\n",
    "        pred.append(0)\n",
    "    else:\n",
    "        pred.append(1)\n",
    "pd.DataFrame({'성별':X['Sex'],'pred':pred})\n",
    "\n",
    "time.time()- start"
   ]
  },
  {
   "cell_type": "code",
   "execution_count": 9,
   "metadata": {},
   "outputs": [
    {
     "name": "stdout",
     "output_type": "stream",
     "text": [
      "[[ 0.  0.  5. ...  0.  0.  0.]\n",
      " [ 0.  0.  0. ... 10.  0.  0.]\n",
      " [ 0.  0.  0. ... 16.  9.  0.]\n",
      " ...\n",
      " [ 0.  0.  1. ...  6.  0.  0.]\n",
      " [ 0.  0.  2. ... 12.  0.  0.]\n",
      " [ 0.  0. 10. ... 12.  1.  0.]]\n",
      "### digits.data.shape: (1797, 64)\n",
      "[0 1 2 ... 8 9 8]\n",
      "### digits.target.shape: (1797,)\n"
     ]
    }
   ],
   "source": [
    "from sklearn.datasets import load_digits\n",
    "from sklearn.model_selection import train_test_split\n",
    "from sklearn.base import BaseEstimator\n",
    "from sklearn.metrics import accuracy_score\n",
    "import numpy as np\n",
    "import pandas as pd\n",
    "\n",
    "class MyFakeClassifier(BaseEstimator):\n",
    "    def fit(self,X,y):\n",
    "        pass\n",
    "    \n",
    "    # 입력값으로 들어오는 X 데이터 셋의 크기만큼 모두 0값으로 만들어서 반환\n",
    "    def predict(self,X):\n",
    "        return np.zeros( (len(X), 1) , dtype=bool)\n",
    "\n",
    "# 사이킷런의 내장 데이터 셋인 load_digits( )를 이용하여 MNIST 데이터 로딩\n",
    "digits = load_digits()\n",
    "\n",
    "print(digits.data)\n",
    "print(\"### digits.data.shape:\", digits.data.shape)\n",
    "print(digits.target)\n",
    "print(\"### digits.target.shape:\", digits.target.shape)"
   ]
  },
  {
   "cell_type": "code",
   "execution_count": 46,
   "metadata": {},
   "outputs": [
    {
     "data": {
      "text/plain": [
       "array([False, False, False, ..., False, False, False])"
      ]
     },
     "execution_count": 46,
     "metadata": {},
     "output_type": "execute_result"
    }
   ],
   "source": [
    "digits.target == 7"
   ]
  },
  {
   "cell_type": "code",
   "execution_count": 47,
   "metadata": {},
   "outputs": [],
   "source": [
    "# digits번호가 7번이면 True이고 이를 astype(int)로 1로 변환, 7번이 아니면 False이고 0으로 변환. \n",
    "y = (digits.target == 7).astype(int)\n",
    "X_train, X_test, y_train, y_test = train_test_split( digits.data, y, random_state=11)"
   ]
  },
  {
   "cell_type": "code",
   "execution_count": 49,
   "metadata": {},
   "outputs": [
    {
     "name": "stdout",
     "output_type": "stream",
     "text": [
      "레이블 테스트 세트 크기 : (450,)\n",
      "테스트 세트 레이블 0 과 1의 분포도\n",
      "0    405\n",
      "1     45\n",
      "Name: count, dtype: int64\n",
      "모든 예측을 0으로 하여도 정확도는:0.900\n"
     ]
    }
   ],
   "source": [
    "# 불균형한 레이블 데이터 분포도 확인. \n",
    "print('레이블 테스트 세트 크기 :', y_test.shape)\n",
    "print('테스트 세트 레이블 0 과 1의 분포도')\n",
    "print(pd.Series(y_test).value_counts())\n",
    "\n",
    "# Dummy Classifier로 학습/예측/정확도 평가\n",
    "fakeclf = MyFakeClassifier()\n",
    "# fakeclf.fit(X_train , y_train)\n",
    "fakepred = fakeclf.predict(X_test)\n",
    "print('모든 예측을 0으로 하여도 정확도는:{:.3f}'.format(accuracy_score(y_test , fakepred)))"
   ]
  },
  {
   "attachments": {},
   "cell_type": "markdown",
   "metadata": {},
   "source": [
    "### Confusion Matrix"
   ]
  },
  {
   "cell_type": "code",
   "execution_count": 50,
   "metadata": {},
   "outputs": [
    {
     "data": {
      "text/plain": [
       "array([[405,   0],\n",
       "       [ 45,   0]], dtype=int64)"
      ]
     },
     "execution_count": 50,
     "metadata": {},
     "output_type": "execute_result"
    }
   ],
   "source": [
    "from sklearn.metrics import confusion_matrix\n",
    "\n",
    "# 앞절의 예측 결과인 fakepred와 실제 결과인 y_test의 Confusion Matrix출력\n",
    "confusion_matrix(y_test , fakepred)"
   ]
  },
  {
   "cell_type": "code",
   "execution_count": 51,
   "metadata": {},
   "outputs": [
    {
     "name": "stdout",
     "output_type": "stream",
     "text": [
      "정밀도: 0.0\n",
      "재현율: 0.0\n"
     ]
    },
    {
     "name": "stderr",
     "output_type": "stream",
     "text": [
      "c:\\Users\\user\\miniconda3\\envs\\py\\Lib\\site-packages\\sklearn\\metrics\\_classification.py:1344: UndefinedMetricWarning: Precision is ill-defined and being set to 0.0 due to no predicted samples. Use `zero_division` parameter to control this behavior.\n",
      "  _warn_prf(average, modifier, msg_start, len(result))\n"
     ]
    }
   ],
   "source": [
    "from sklearn.metrics import accuracy_score, precision_score , recall_score\n",
    "\n",
    "print(\"정밀도:\", precision_score(y_test, fakepred))\n",
    "print(\"재현율:\", recall_score(y_test, fakepred))"
   ]
  },
  {
   "attachments": {},
   "cell_type": "markdown",
   "metadata": {},
   "source": [
    "### LogisticRegression 활용"
   ]
  },
  {
   "cell_type": "code",
   "execution_count": 36,
   "metadata": {},
   "outputs": [
    {
     "data": {
      "text/plain": [
       "<bound method BaseEstimator.get_params of LogisticRegression()>"
      ]
     },
     "execution_count": 36,
     "metadata": {},
     "output_type": "execute_result"
    }
   ],
   "source": [
    "# 라이브러리 우클릭 - 'Go to define' - 상속 확인 가능\n",
    "# baseEstimator 상속함\n",
    "from sklearn.linear_model import LogisticRegression\n",
    "# Sparse Matrix : 희소행렬, 0이 많은 행렬\n",
    "\n",
    "model = LogisticRegression()\n",
    "# 어떤 모델 썼는지 나옴, 하이퍼 파라미터 하나도 사용하지 않음\n",
    "model.get_params"
   ]
  },
  {
   "cell_type": "code",
   "execution_count": 52,
   "metadata": {},
   "outputs": [
    {
     "data": {
      "text/plain": [
       "(<bound method BaseEstimator.get_params of LogisticRegression(solver='libinear')>,\n",
       " sklearn.linear_model._logistic.LogisticRegression)"
      ]
     },
     "execution_count": 52,
     "metadata": {},
     "output_type": "execute_result"
    }
   ],
   "source": [
    "from sklearn.linear_model import LogisticRegression\n",
    "\n",
    "model = LogisticRegression(solver='libinear')\n",
    "# 모델,하이퍼 파라미터 확인 가능\n",
    "model.get_params , model.__class__ "
   ]
  },
  {
   "cell_type": "code",
   "execution_count": 29,
   "metadata": {},
   "outputs": [],
   "source": [
    "from sklearn.metrics import accuracy_score, precision_score , recall_score , confusion_matrix\n",
    "\n",
    "def get_clf_eval(y_test , pred):\n",
    "    confusion = confusion_matrix( y_test, pred)\n",
    "    accuracy = accuracy_score(y_test , pred)\n",
    "    precision = precision_score(y_test , pred)\n",
    "    recall = recall_score(y_test , pred)\n",
    "    print('오차 행렬')\n",
    "    print(confusion)\n",
    "    print('정확도: {0:.4f}, 정밀도: {1:.4f}, 재현율: {2:.4f}'.format(accuracy , precision ,recall))"
   ]
  },
  {
   "cell_type": "code",
   "execution_count": 53,
   "metadata": {},
   "outputs": [],
   "source": [
    "import numpy as np\n",
    "import pandas as pd\n",
    "\n",
    "from sklearn.model_selection import train_test_split \n",
    "from sklearn.linear_model import LogisticRegression\n",
    "\n",
    "# 원본 데이터를 재로딩, 데이터 가공, 학습데이터/테스트 데이터 분할. \n",
    "titanic_df = pd.read_csv('../06_08/titanic/train.csv')\n",
    "y_titanic_df = titanic_df['Survived']\n",
    "X_titanic_df= titanic_df.drop('Survived', axis=1)\n",
    "X_titanic_df = transform_features(X_titanic_df)\n",
    "\n",
    "X_train, X_test, y_train, y_test = train_test_split(X_titanic_df, y_titanic_df, \\\n",
    "                                                    test_size=0.20, random_state=11)\n",
    "\n",
    "# LogisticRegression 고전적 분류\n",
    "# liblinear 가 성능이 좋은 경향이 있다.\n",
    "# LogisticRegression 은 공식이 딱1개임\n",
    "# XGBoost는 공식을 변환해감 (인공지능과 유사)\n",
    "\n",
    "\n",
    "lr_clf = LogisticRegression(solver='liblinear')\n",
    "\n",
    "lr_clf.fit(X_train , y_train)\n",
    "pred = lr_clf.predict(X_test)\n",
    "# get_clf_eval(y_test , pred)"
   ]
  },
  {
   "cell_type": "code",
   "execution_count": 54,
   "metadata": {},
   "outputs": [
    {
     "data": {
      "text/plain": [
       "array([[0.44935228, 0.55064772],\n",
       "       [0.86335513, 0.13664487],\n",
       "       [0.86429645, 0.13570355],\n",
       "       [0.84968519, 0.15031481],\n",
       "       [0.82343411, 0.17656589],\n",
       "       [0.84231224, 0.15768776],\n",
       "       [0.87095491, 0.12904509],\n",
       "       [0.27228604, 0.72771396],\n",
       "       [0.78185129, 0.21814871],\n",
       "       [0.33185992, 0.66814008],\n",
       "       [0.86178764, 0.13821236],\n",
       "       [0.870581  , 0.129419  ],\n",
       "       [0.86425952, 0.13574048],\n",
       "       [0.87065946, 0.12934054],\n",
       "       [0.56033547, 0.43966453],\n",
       "       [0.85003024, 0.14996976],\n",
       "       [0.88954174, 0.11045826],\n",
       "       [0.74250732, 0.25749268],\n",
       "       [0.71120225, 0.28879775],\n",
       "       [0.23776272, 0.76223728],\n",
       "       [0.75684106, 0.24315894],\n",
       "       [0.62428169, 0.37571831],\n",
       "       [0.84655248, 0.15344752],\n",
       "       [0.82711259, 0.17288741],\n",
       "       [0.8682563 , 0.1317437 ],\n",
       "       [0.77003828, 0.22996172],\n",
       "       [0.82946349, 0.17053651],\n",
       "       [0.9033613 , 0.0966387 ],\n",
       "       [0.73372048, 0.26627952],\n",
       "       [0.68847388, 0.31152612],\n",
       "       [0.07646869, 0.92353131],\n",
       "       [0.2253212 , 0.7746788 ],\n",
       "       [0.87161942, 0.12838058],\n",
       "       [0.24075415, 0.75924585],\n",
       "       [0.62711735, 0.37288265],\n",
       "       [0.77003828, 0.22996172],\n",
       "       [0.90554276, 0.09445724],\n",
       "       [0.40602576, 0.59397424],\n",
       "       [0.93043587, 0.06956413],\n",
       "       [0.87650522, 0.12349478],\n",
       "       [0.69797423, 0.30202577],\n",
       "       [0.89664594, 0.10335406],\n",
       "       [0.21993378, 0.78006622],\n",
       "       [0.31565709, 0.68434291],\n",
       "       [0.37942229, 0.62057771],\n",
       "       [0.37932892, 0.62067108],\n",
       "       [0.07161279, 0.92838721],\n",
       "       [0.55777566, 0.44222434],\n",
       "       [0.07914487, 0.92085513],\n",
       "       [0.86803084, 0.13196916],\n",
       "       [0.50790061, 0.49209939],\n",
       "       [0.87065946, 0.12934054],\n",
       "       [0.85576407, 0.14423593],\n",
       "       [0.3487013 , 0.6512987 ],\n",
       "       [0.71558417, 0.28441583],\n",
       "       [0.78853201, 0.21146799],\n",
       "       [0.7461921 , 0.2538079 ],\n",
       "       [0.86429002, 0.13570998],\n",
       "       [0.84079005, 0.15920995],\n",
       "       [0.59838062, 0.40161938],\n",
       "       [0.73532081, 0.26467919],\n",
       "       [0.88705598, 0.11294402],\n",
       "       [0.54552802, 0.45447198],\n",
       "       [0.5532634 , 0.4467366 ],\n",
       "       [0.62583528, 0.37416472],\n",
       "       [0.88363279, 0.11636721],\n",
       "       [0.35181256, 0.64818744],\n",
       "       [0.39903352, 0.60096648],\n",
       "       [0.08300812, 0.91699188],\n",
       "       [0.85072525, 0.14927475],\n",
       "       [0.86778821, 0.13221179],\n",
       "       [0.83070926, 0.16929074],\n",
       "       [0.87649044, 0.12350956],\n",
       "       [0.05959914, 0.94040086],\n",
       "       [0.78735759, 0.21264241],\n",
       "       [0.87065946, 0.12934054],\n",
       "       [0.716541  , 0.283459  ],\n",
       "       [0.79159804, 0.20840196],\n",
       "       [0.20303096, 0.79696904],\n",
       "       [0.86429002, 0.13570998],\n",
       "       [0.2400505 , 0.7599495 ],\n",
       "       [0.3712358 , 0.6287642 ],\n",
       "       [0.08369624, 0.91630376],\n",
       "       [0.84018613, 0.15981387],\n",
       "       [0.07766718, 0.92233282],\n",
       "       [0.08973248, 0.91026752],\n",
       "       [0.84723079, 0.15276921],\n",
       "       [0.86241532, 0.13758468],\n",
       "       [0.16539726, 0.83460274],\n",
       "       [0.87065946, 0.12934054],\n",
       "       [0.87065946, 0.12934054],\n",
       "       [0.77003828, 0.22996172],\n",
       "       [0.75416741, 0.24583259],\n",
       "       [0.87065946, 0.12934054],\n",
       "       [0.37932892, 0.62067108],\n",
       "       [0.89883891, 0.10116109],\n",
       "       [0.07361401, 0.92638599],\n",
       "       [0.87897227, 0.12102773],\n",
       "       [0.60197829, 0.39802171],\n",
       "       [0.06738996, 0.93261004],\n",
       "       [0.47948277, 0.52051723],\n",
       "       [0.90469272, 0.09530728],\n",
       "       [0.05673721, 0.94326279],\n",
       "       [0.88180789, 0.11819211],\n",
       "       [0.45587967, 0.54412033],\n",
       "       [0.86133439, 0.13866561],\n",
       "       [0.84974931, 0.15025069],\n",
       "       [0.850727  , 0.149273  ],\n",
       "       [0.5550275 , 0.4449725 ],\n",
       "       [0.88426899, 0.11573101],\n",
       "       [0.84747419, 0.15252581],\n",
       "       [0.87269564, 0.12730436],\n",
       "       [0.67538691, 0.32461309],\n",
       "       [0.4827525 , 0.5172475 ],\n",
       "       [0.8682563 , 0.1317437 ],\n",
       "       [0.91597192, 0.08402808],\n",
       "       [0.84194204, 0.15805796],\n",
       "       [0.78872838, 0.21127162],\n",
       "       [0.11141752, 0.88858248],\n",
       "       [0.90534856, 0.09465144],\n",
       "       [0.87071645, 0.12928355],\n",
       "       [0.86905441, 0.13094559],\n",
       "       [0.91525793, 0.08474207],\n",
       "       [0.58196816, 0.41803184],\n",
       "       [0.98025013, 0.01974987],\n",
       "       [0.87071645, 0.12928355],\n",
       "       [0.8721902 , 0.1278098 ],\n",
       "       [0.71194639, 0.28805361],\n",
       "       [0.34348895, 0.65651105],\n",
       "       [0.70226698, 0.29773302],\n",
       "       [0.06738996, 0.93261004],\n",
       "       [0.59805546, 0.40194454],\n",
       "       [0.32885343, 0.67114657],\n",
       "       [0.48644743, 0.51355257],\n",
       "       [0.42864816, 0.57135184],\n",
       "       [0.56346552, 0.43653448],\n",
       "       [0.25853142, 0.74146858],\n",
       "       [0.77643225, 0.22356775],\n",
       "       [0.87632449, 0.12367551],\n",
       "       [0.15009272, 0.84990728],\n",
       "       [0.13434695, 0.86565305],\n",
       "       [0.850727  , 0.149273  ],\n",
       "       [0.86772104, 0.13227896],\n",
       "       [0.89628756, 0.10371244],\n",
       "       [0.88613341, 0.11386659],\n",
       "       [0.34797626, 0.65202374],\n",
       "       [0.89917049, 0.10082951],\n",
       "       [0.72997339, 0.27002661],\n",
       "       [0.12221446, 0.87778554],\n",
       "       [0.81719691, 0.18280309],\n",
       "       [0.61865109, 0.38134891],\n",
       "       [0.37370298, 0.62629702],\n",
       "       [0.38348343, 0.61651657],\n",
       "       [0.864633  , 0.135367  ],\n",
       "       [0.25161297, 0.74838703],\n",
       "       [0.10388329, 0.89611671],\n",
       "       [0.5764806 , 0.4235194 ],\n",
       "       [0.8547685 , 0.1452315 ],\n",
       "       [0.31415124, 0.68584876],\n",
       "       [0.33907973, 0.66092027],\n",
       "       [0.84347721, 0.15652279],\n",
       "       [0.23261125, 0.76738875],\n",
       "       [0.88859275, 0.11140725],\n",
       "       [0.35220568, 0.64779432],\n",
       "       [0.5855486 , 0.4144514 ],\n",
       "       [0.36143288, 0.63856712],\n",
       "       [0.13634058, 0.86365942],\n",
       "       [0.67797002, 0.32202998],\n",
       "       [0.88600085, 0.11399915],\n",
       "       [0.13946114, 0.86053886],\n",
       "       [0.87095491, 0.12904509],\n",
       "       [0.2061602 , 0.7938398 ],\n",
       "       [0.76719904, 0.23280096],\n",
       "       [0.77437245, 0.22562755],\n",
       "       [0.50324026, 0.49675974],\n",
       "       [0.9107984 , 0.0892016 ],\n",
       "       [0.8497074 , 0.1502926 ],\n",
       "       [0.54874088, 0.45125912],\n",
       "       [0.48192068, 0.51807932]])"
      ]
     },
     "execution_count": 54,
     "metadata": {},
     "output_type": "execute_result"
    }
   ],
   "source": [
    "lr_clf.predict_proba(X_test)"
   ]
  },
  {
   "cell_type": "code",
   "execution_count": 55,
   "metadata": {},
   "outputs": [
    {
     "data": {
      "text/plain": [
       "array([1, 0, 0, 0, 0, 0, 0, 1, 0, 1, 0, 0, 0, 0, 0, 0, 0, 0, 0, 1, 0, 0,\n",
       "       0, 0, 0, 0, 0, 0, 0, 0, 1, 1, 0, 1, 0, 0, 0, 1, 0, 0, 0, 0, 1, 1,\n",
       "       1, 1, 1, 0, 1, 0, 0, 0, 0, 1, 0, 0, 0, 0, 0, 0, 0, 0, 0, 0, 0, 0,\n",
       "       1, 1, 1, 0, 0, 0, 0, 1, 0, 0, 0, 0, 1, 0, 1, 1, 1, 0, 1, 1, 0, 0,\n",
       "       1, 0, 0, 0, 0, 0, 1, 0, 1, 0, 0, 1, 1, 0, 1, 0, 1, 0, 0, 0, 0, 0,\n",
       "       0, 0, 0, 1, 0, 0, 0, 0, 1, 0, 0, 0, 0, 0, 0, 0, 0, 0, 1, 0, 1, 0,\n",
       "       1, 1, 1, 0, 1, 0, 0, 1, 1, 0, 0, 0, 0, 1, 0, 0, 1, 0, 0, 1, 1, 0,\n",
       "       1, 1, 0, 0, 1, 1, 0, 1, 0, 1, 0, 1, 1, 0, 0, 1, 0, 1, 0, 0, 0, 0,\n",
       "       0, 0, 1], dtype=int64)"
      ]
     },
     "execution_count": 55,
     "metadata": {},
     "output_type": "execute_result"
    }
   ],
   "source": [
    "pred"
   ]
  },
  {
   "cell_type": "code",
   "execution_count": 67,
   "metadata": {},
   "outputs": [
    {
     "data": {
      "text/html": [
       "<div>\n",
       "<style scoped>\n",
       "    .dataframe tbody tr th:only-of-type {\n",
       "        vertical-align: middle;\n",
       "    }\n",
       "\n",
       "    .dataframe tbody tr th {\n",
       "        vertical-align: top;\n",
       "    }\n",
       "\n",
       "    .dataframe thead th {\n",
       "        text-align: right;\n",
       "    }\n",
       "</style>\n",
       "<table border=\"1\" class=\"dataframe\">\n",
       "  <thead>\n",
       "    <tr style=\"text-align: right;\">\n",
       "      <th></th>\n",
       "      <th>실제값</th>\n",
       "      <th>예측값</th>\n",
       "    </tr>\n",
       "  </thead>\n",
       "  <tbody>\n",
       "    <tr>\n",
       "      <th>431</th>\n",
       "      <td>1</td>\n",
       "      <td>1</td>\n",
       "    </tr>\n",
       "    <tr>\n",
       "      <th>821</th>\n",
       "      <td>1</td>\n",
       "      <td>0</td>\n",
       "    </tr>\n",
       "    <tr>\n",
       "      <th>629</th>\n",
       "      <td>0</td>\n",
       "      <td>0</td>\n",
       "    </tr>\n",
       "    <tr>\n",
       "      <th>626</th>\n",
       "      <td>0</td>\n",
       "      <td>0</td>\n",
       "    </tr>\n",
       "    <tr>\n",
       "      <th>665</th>\n",
       "      <td>0</td>\n",
       "      <td>0</td>\n",
       "    </tr>\n",
       "    <tr>\n",
       "      <th>...</th>\n",
       "      <td>...</td>\n",
       "      <td>...</td>\n",
       "    </tr>\n",
       "    <tr>\n",
       "      <th>638</th>\n",
       "      <td>0</td>\n",
       "      <td>0</td>\n",
       "    </tr>\n",
       "    <tr>\n",
       "      <th>771</th>\n",
       "      <td>0</td>\n",
       "      <td>0</td>\n",
       "    </tr>\n",
       "    <tr>\n",
       "      <th>521</th>\n",
       "      <td>0</td>\n",
       "      <td>0</td>\n",
       "    </tr>\n",
       "    <tr>\n",
       "      <th>711</th>\n",
       "      <td>0</td>\n",
       "      <td>0</td>\n",
       "    </tr>\n",
       "    <tr>\n",
       "      <th>484</th>\n",
       "      <td>1</td>\n",
       "      <td>1</td>\n",
       "    </tr>\n",
       "  </tbody>\n",
       "</table>\n",
       "<p>179 rows × 2 columns</p>\n",
       "</div>"
      ],
      "text/plain": [
       "     실제값   예측값\n",
       "431     1    1\n",
       "821     1    0\n",
       "629     0    0\n",
       "626     0    0\n",
       "665     0    0\n",
       "..    ...  ...\n",
       "638     0    0\n",
       "771     0    0\n",
       "521     0    0\n",
       "711     0    0\n",
       "484     1    1\n",
       "\n",
       "[179 rows x 2 columns]"
      ]
     },
     "execution_count": 67,
     "metadata": {},
     "output_type": "execute_result"
    }
   ],
   "source": [
    "pd.DataFrame({'실제값 ':y_test,'예측값':pred})"
   ]
  },
  {
   "cell_type": "code",
   "execution_count": 70,
   "metadata": {},
   "outputs": [
    {
     "data": {
      "text/plain": [
       "['TP',\n",
       " 'FN',\n",
       " 'TN',\n",
       " 'TN',\n",
       " 'TN',\n",
       " 'TN',\n",
       " 'TN',\n",
       " 'TP',\n",
       " 'TN',\n",
       " 'TP',\n",
       " 'TN',\n",
       " 'TN',\n",
       " 'TN',\n",
       " 'TN',\n",
       " 'TN',\n",
       " 'TN',\n",
       " 'TN',\n",
       " 'TN',\n",
       " 'TN',\n",
       " 'TP',\n",
       " 'TN',\n",
       " 'TN',\n",
       " 'TN',\n",
       " 'TN',\n",
       " 'TN',\n",
       " 'TN',\n",
       " 'TN',\n",
       " 'TN',\n",
       " 'TN',\n",
       " 'TN',\n",
       " 'TP',\n",
       " 'TP',\n",
       " 'TN',\n",
       " 'TP',\n",
       " 'FN',\n",
       " 'TN',\n",
       " 'TN',\n",
       " 'FP',\n",
       " 'TN',\n",
       " 'FN',\n",
       " 'TN',\n",
       " 'TN',\n",
       " 'TP',\n",
       " 'TP',\n",
       " 'FP',\n",
       " 'TP',\n",
       " 'TP',\n",
       " 'FN',\n",
       " 'TP',\n",
       " 'TN',\n",
       " 'TN',\n",
       " 'TN',\n",
       " 'TN',\n",
       " 'TP',\n",
       " 'TN',\n",
       " 'TN',\n",
       " 'TN',\n",
       " 'TN',\n",
       " 'TN',\n",
       " 'TN',\n",
       " 'TN',\n",
       " 'TN',\n",
       " 'FN',\n",
       " 'TN',\n",
       " 'FN',\n",
       " 'TN',\n",
       " 'TP',\n",
       " 'TP',\n",
       " 'TP',\n",
       " 'TN',\n",
       " 'TN',\n",
       " 'TN',\n",
       " 'TN',\n",
       " 'TP',\n",
       " 'TN',\n",
       " 'TN',\n",
       " 'FN',\n",
       " 'TN',\n",
       " 'TP',\n",
       " 'FN',\n",
       " 'TP',\n",
       " 'TP',\n",
       " 'TP',\n",
       " 'TN',\n",
       " 'TP',\n",
       " 'TP',\n",
       " 'TN',\n",
       " 'FN',\n",
       " 'TP',\n",
       " 'TN',\n",
       " 'TN',\n",
       " 'TN',\n",
       " 'TN',\n",
       " 'TN',\n",
       " 'TP',\n",
       " 'TN',\n",
       " 'TP',\n",
       " 'TN',\n",
       " 'TN',\n",
       " 'TP',\n",
       " 'FP',\n",
       " 'TN',\n",
       " 'TP',\n",
       " 'TN',\n",
       " 'FP',\n",
       " 'FN',\n",
       " 'TN',\n",
       " 'TN',\n",
       " 'TN',\n",
       " 'FN',\n",
       " 'TN',\n",
       " 'TN',\n",
       " 'FN',\n",
       " 'TP',\n",
       " 'TN',\n",
       " 'TN',\n",
       " 'TN',\n",
       " 'TN',\n",
       " 'TP',\n",
       " 'TN',\n",
       " 'TN',\n",
       " 'TN',\n",
       " 'TN',\n",
       " 'TN',\n",
       " 'TN',\n",
       " 'TN',\n",
       " 'TN',\n",
       " 'TN',\n",
       " 'TP',\n",
       " 'TN',\n",
       " 'TP',\n",
       " 'FN',\n",
       " 'TP',\n",
       " 'FP',\n",
       " 'FP',\n",
       " 'TN',\n",
       " 'TP',\n",
       " 'TN',\n",
       " 'TN',\n",
       " 'TP',\n",
       " 'FP',\n",
       " 'TN',\n",
       " 'TN',\n",
       " 'TN',\n",
       " 'TN',\n",
       " 'TP',\n",
       " 'TN',\n",
       " 'TN',\n",
       " 'TP',\n",
       " 'TN',\n",
       " 'TN',\n",
       " 'TP',\n",
       " 'FP',\n",
       " 'TN',\n",
       " 'TP',\n",
       " 'TP',\n",
       " 'TN',\n",
       " 'TN',\n",
       " 'FP',\n",
       " 'TP',\n",
       " 'TN',\n",
       " 'TP',\n",
       " 'TN',\n",
       " 'TP',\n",
       " 'TN',\n",
       " 'FP',\n",
       " 'TP',\n",
       " 'FN',\n",
       " 'TN',\n",
       " 'TP',\n",
       " 'TN',\n",
       " 'TP',\n",
       " 'TN',\n",
       " 'TN',\n",
       " 'TN',\n",
       " 'TN',\n",
       " 'TN',\n",
       " 'TN',\n",
       " 'TP']"
      ]
     },
     "execution_count": 70,
     "metadata": {},
     "output_type": "execute_result"
    }
   ],
   "source": [
    "confusion_list = []\n",
    "for 실제,예측 in zip(y_test,pred):\n",
    "    if 실제 == 1 and  예측 == 1:\n",
    "        confusion_list.append('TP')\n",
    "    elif 실제 == 0 and  예측 == 0:\n",
    "        confusion_list.append('TN')\n",
    "    elif 실제 == 1 and  예측 == 0:\n",
    "        confusion_list.append('FN')\n",
    "    elif 실제 == 0 and  예측 == 1:\n",
    "        confusion_list.append('FP')\n",
    "confusion_list"
   ]
  },
  {
   "cell_type": "code",
   "execution_count": 73,
   "metadata": {},
   "outputs": [
    {
     "data": {
      "text/plain": [
       "(array(['FN', 'FP', 'TN', 'TP'], dtype='<U2'),\n",
       " array([ 14,  10, 108,  47], dtype=int64))"
      ]
     },
     "execution_count": 73,
     "metadata": {},
     "output_type": "execute_result"
    }
   ],
   "source": [
    "np.unique(confusion_list,return_counts=True)"
   ]
  },
  {
   "cell_type": "code",
   "execution_count": 72,
   "metadata": {},
   "outputs": [
    {
     "data": {
      "text/plain": [
       "(0.8659217877094972, 0.8245614035087719, 0.7704918032786885)"
      ]
     },
     "execution_count": 72,
     "metadata": {},
     "output_type": "execute_result"
    }
   ],
   "source": [
    "# 정확도\n",
    "accuray = sum([1 for x in confusion_list if x == \"TN\" or x == \"TP\" ])/len(confusion_list)\n",
    "# 정밀도\n",
    "precison = sum([1 for x in confusion_list if  x == \"TP\" ])/ sum([1 for x in confusion_list if  x == \"TP\" or x == \"FP\" ])\n",
    "# 재현율\n",
    "recall = sum([1 for x in confusion_list if  x == \"TP\" ])/ sum([1 for x in confusion_list if  x == \"TP\" or x == \"FN\" ])\n",
    "accuray, precison, recall"
   ]
  },
  {
   "cell_type": "code",
   "execution_count": 42,
   "metadata": {},
   "outputs": [],
   "source": [
    "# 혼동 행렬 리포트"
   ]
  },
  {
   "cell_type": "code",
   "execution_count": 82,
   "metadata": {},
   "outputs": [],
   "source": [
    "from sklearn.metrics import classification_report\n",
    "\n",
    "report1 = classification_report(y_test,pred)\n",
    "report2 = report1.split(\"\\n\")"
   ]
  },
  {
   "cell_type": "code",
   "execution_count": 83,
   "metadata": {},
   "outputs": [
    {
     "data": {
      "text/plain": [
       "['              precision    recall  f1-score   support',\n",
       " '',\n",
       " '           0       0.89      0.92      0.90       118',\n",
       " '           1       0.82      0.77      0.80        61',\n",
       " '',\n",
       " '    accuracy                           0.87       179',\n",
       " '   macro avg       0.85      0.84      0.85       179',\n",
       " 'weighted avg       0.86      0.87      0.86       179',\n",
       " '']"
      ]
     },
     "execution_count": 83,
     "metadata": {},
     "output_type": "execute_result"
    }
   ],
   "source": [
    "report2"
   ]
  },
  {
   "cell_type": "code",
   "execution_count": 87,
   "metadata": {},
   "outputs": [
    {
     "data": {
      "text/plain": [
       "<Axes: >"
      ]
     },
     "execution_count": 87,
     "metadata": {},
     "output_type": "execute_result"
    },
    {
     "data": {
      "image/png": "[encoded data removed]",
      "text/plain": [
       "<Figure size 640x480 with 2 Axes>"
      ]
     },
     "metadata": {},
     "output_type": "display_data"
    }
   ],
   "source": [
    "import seaborn as sns\n",
    "\n",
    "sns.heatmap(confusion_matrix(y_test,pred))"
   ]
  },
  {
   "cell_type": "code",
   "execution_count": 88,
   "metadata": {},
   "outputs": [
    {
     "data": {
      "text/plain": [
       "<Axes: >"
      ]
     },
     "execution_count": 88,
     "metadata": {},
     "output_type": "execute_result"
    },
    {
     "data": {
      "image/png": "[encoded data removed]",
      "text/plain": [
       "<Figure size 640x480 with 2 Axes>"
      ]
     },
     "metadata": {},
     "output_type": "display_data"
    }
   ],
   "source": [
    "sns.heatmap(confusion_matrix(y_test,pred),annot=True)"
   ]
  },
  {
   "cell_type": "code",
   "execution_count": 89,
   "metadata": {},
   "outputs": [
    {
     "data": {
      "text/plain": [
       "<Axes: >"
      ]
     },
     "execution_count": 89,
     "metadata": {},
     "output_type": "execute_result"
    },
    {
     "data": {
      "image/png": "[encoded data removed]",
      "text/plain": [
       "<Figure size 640x480 with 2 Axes>"
      ]
     },
     "metadata": {},
     "output_type": "display_data"
    }
   ],
   "source": [
    "sns.heatmap(confusion_matrix(y_test,pred),annot=True,fmt='d')"
   ]
  },
  {
   "cell_type": "code",
   "execution_count": 66,
   "metadata": {},
   "outputs": [
    {
     "name": "stdout",
     "output_type": "stream",
     "text": [
      "오차 행렬\n",
      "[[108  10]\n",
      " [ 14  47]]\n",
      "정확도: 0.8659, 정밀도: 0.8246, 재현율: 0.7705\n"
     ]
    }
   ],
   "source": [
    "get_clf_eval(y_test , pred)"
   ]
  },
  {
   "cell_type": "code",
   "execution_count": 92,
   "metadata": {},
   "outputs": [
    {
     "name": "stdout",
     "output_type": "stream",
     "text": [
      "pred_proba()결과 Shape : (179, 2)\n",
      "pred_proba array에서 앞 3개만 샘플로 추출 \n",
      ": [[0.44935228 0.55064772]\n",
      " [0.86335513 0.13664487]\n",
      " [0.86429645 0.13570355]]\n",
      "두개의 class 중에서 더 큰 확률을 클래스 값으로 예측 \n",
      " [[0.44935228 0.55064772 1.        ]\n",
      " [0.86335513 0.13664487 0.        ]\n",
      " [0.86429645 0.13570355 0.        ]]\n"
     ]
    }
   ],
   "source": [
    "pred_proba = lr_clf.predict_proba(X_test)\n",
    "pred  = lr_clf.predict(X_test)\n",
    "print('pred_proba()결과 Shape : {0}'.format(pred_proba.shape))\n",
    "print('pred_proba array에서 앞 3개만 샘플로 추출 \\n:', pred_proba[:3])\n",
    "\n",
    "# 예측 확률 array 와 예측 결과값 array 를 concatenate 하여 예측 확률과 결과값을 한눈에 확인\n",
    "pred_proba_result = np.concatenate([pred_proba , pred.reshape(-1,1)],axis=1)\n",
    "print('두개의 class 중에서 더 큰 확률을 클래스 값으로 예측 \\n',pred_proba_result[:3])"
   ]
  },
  {
   "cell_type": "code",
   "execution_count": 93,
   "metadata": {},
   "outputs": [
    {
     "name": "stdout",
     "output_type": "stream",
     "text": [
      "[[0. 0. 1.]\n",
      " [1. 0. 0.]\n",
      " [0. 0. 1.]]\n"
     ]
    }
   ],
   "source": [
    "from sklearn.preprocessing import Binarizer\n",
    "\n",
    "X = [[ 1, -1,  2],\n",
    "     [ 2,  0,  0],\n",
    "     [ 0,  1.1, 1.2]]\n",
    "\n",
    "# threshold 기준값보다 같거나 작으면 0을, 크면 1을 반환\n",
    "binarizer = Binarizer(threshold=1.1)                     \n",
    "print(binarizer.fit_transform(X))"
   ]
  },
  {
   "cell_type": "code",
   "execution_count": 94,
   "metadata": {},
   "outputs": [
    {
     "name": "stdout",
     "output_type": "stream",
     "text": [
      "오차 행렬\n",
      "[[108  10]\n",
      " [ 14  47]]\n",
      "정확도: 0.8659, 정밀도: 0.8246, 재현율: 0.7705\n"
     ]
    }
   ],
   "source": [
    "from sklearn.preprocessing import Binarizer\n",
    "\n",
    "#Binarizer의 threshold 설정값. 분류 결정 임곗값임.  \n",
    "custom_threshold = 0.5\n",
    "\n",
    "# predict_proba( ) 반환값의 두번째 컬럼 , 즉 Positive 클래스 컬럼 하나만 추출하여 Binarizer를 적용\n",
    "pred_proba_1 = pred_proba[:,1].reshape(-1,1)\n",
    "\n",
    "binarizer = Binarizer(threshold=custom_threshold).fit(pred_proba_1) \n",
    "custom_predict = binarizer.transform(pred_proba_1)\n",
    "\n",
    "get_clf_eval(y_test, custom_predict)"
   ]
  },
  {
   "cell_type": "code",
   "execution_count": 97,
   "metadata": {},
   "outputs": [
    {
     "name": "stdout",
     "output_type": "stream",
     "text": [
      "-------임곗값: 0.4\n",
      "              precision    recall  f1-score   support\n",
      "\n",
      "           0       0.90      0.82      0.86       118\n",
      "           1       0.70      0.82      0.76        61\n",
      "\n",
      "    accuracy                           0.82       179\n",
      "   macro avg       0.80      0.82      0.81       179\n",
      "weighted avg       0.83      0.82      0.82       179\n",
      "\n",
      "-------임곗값: 0.45\n",
      "              precision    recall  f1-score   support\n",
      "\n",
      "           0       0.89      0.89      0.89       118\n",
      "           1       0.79      0.79      0.79        61\n",
      "\n",
      "    accuracy                           0.85       179\n",
      "   macro avg       0.84      0.84      0.84       179\n",
      "weighted avg       0.85      0.85      0.85       179\n",
      "\n",
      "-------임곗값: 0.5\n",
      "              precision    recall  f1-score   support\n",
      "\n",
      "           0       0.89      0.92      0.90       118\n",
      "           1       0.82      0.77      0.80        61\n",
      "\n",
      "    accuracy                           0.87       179\n",
      "   macro avg       0.85      0.84      0.85       179\n",
      "weighted avg       0.86      0.87      0.86       179\n",
      "\n",
      "-------임곗값: 0.55\n",
      "              precision    recall  f1-score   support\n",
      "\n",
      "           0       0.87      0.94      0.91       118\n",
      "           1       0.87      0.74      0.80        61\n",
      "\n",
      "    accuracy                           0.87       179\n",
      "   macro avg       0.87      0.84      0.85       179\n",
      "weighted avg       0.87      0.87      0.87       179\n",
      "\n",
      "-------임곗값: 0.6\n",
      "              precision    recall  f1-score   support\n",
      "\n",
      "           0       0.87      0.96      0.91       118\n",
      "           1       0.90      0.72      0.80        61\n",
      "\n",
      "    accuracy                           0.88       179\n",
      "   macro avg       0.88      0.84      0.86       179\n",
      "weighted avg       0.88      0.88      0.87       179\n",
      "\n"
     ]
    }
   ],
   "source": [
    "# 테스트를 수행할 모든 임곗값을 리스트 객체로 저장. \n",
    "thresholds = [0.4, 0.45, 0.50, 0.55, 0.60]\n",
    "\n",
    "def get_eval_by_threshold(y_test , pred_proba_c1, thresholds):\n",
    "    # thresholds list객체내의 값을 차례로 iteration하면서 Evaluation 수행.\n",
    "    for custom_threshold in thresholds:\n",
    "        binarizer = Binarizer(threshold=custom_threshold).fit(pred_proba_c1) \n",
    "        custom_predict = binarizer.transform(pred_proba_c1)\n",
    "        print('-------임곗값:',custom_threshold)\n",
    "        # get_clf_eval(y_test , custom_predict)\n",
    "        report = classification_report(y_test,custom_predict)\n",
    "        print(report)\n",
    "\n",
    "get_eval_by_threshold(y_test ,pred_proba[:,1].reshape(-1,1), thresholds )"
   ]
  },
  {
   "cell_type": "code",
   "execution_count": null,
   "metadata": {},
   "outputs": [],
   "source": []
  }
 ],
 "metadata": {
  "kernelspec": {
   "display_name": "py",
   "language": "python",
   "name": "python3"
  },
  "language_info": {
   "codemirror_mode": {
    "name": "ipython",
    "version": 3
   },
   "file_extension": ".py",
   "mimetype": "text/x-python",
   "name": "python",
   "nbconvert_exporter": "python",
   "pygments_lexer": "ipython3",
   "version": "3.11.3"
  },
  "orig_nbformat": 4
 },
 "nbformat": 4,
 "nbformat_minor": 2
}
