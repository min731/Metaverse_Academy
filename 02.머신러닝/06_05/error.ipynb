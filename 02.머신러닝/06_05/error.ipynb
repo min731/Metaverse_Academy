{
 "cells": [
  {
   "cell_type": "code",
   "execution_count": 6,
   "metadata": {},
   "outputs": [
    {
     "name": "stderr",
     "output_type": "stream",
     "text": [
      "c:\\Users\\user\\miniconda3\\envs\\py\\Lib\\site-packages\\sklearn\\linear_model\\_logistic.py:1173: FutureWarning: `penalty='none'`has been deprecated in 1.2 and will be removed in 1.4. To keep the past behaviour, set `penalty=None`.\n",
      "  warnings.warn(\n"
     ]
    },
    {
     "data": {
      "text/plain": [
       "array([0])"
      ]
     },
     "execution_count": 6,
     "metadata": {},
     "output_type": "execute_result"
    }
   ],
   "source": [
    "import numpy as np\n",
    "from sklearn.model_selection import train_test_split\n",
    "from sklearn.linear_model import LogisticRegression\n",
    "\n",
    "##########데이터 로드\n",
    "\n",
    "x_data = np.array([\n",
    "    [2, 1],\n",
    "    [3, 2],\n",
    "    [3, 4],\n",
    "    [5, 5],\n",
    "    [7, 5],\n",
    "    [2, 5],\n",
    "    [8, 9],\n",
    "    [9, 10],\n",
    "    [6, 12],\n",
    "    [9, 2],\n",
    "    [6, 10],\n",
    "    [2, 4]\n",
    "])\n",
    "y_data = np.array([0, 0, 0, 1, 1, 0, 1, 1, 1, 1, 1, 0])\n",
    "\n",
    "labels = ['fail', 'pass']\n",
    "\n",
    "##########데이터 분석\n",
    "\n",
    "##########데이터 전처리\n",
    "\n",
    "x_train, x_test, y_train, y_test = train_test_split(x_data, y_data, test_size=0.3, random_state=777)\n",
    "\n",
    "##########모델 생성\n",
    "\n",
    "model = LogisticRegression(penalty='none')\n",
    "\n",
    "##########모델 학습\n",
    "\n",
    "model.fit(x_train, y_train)\n",
    "\n",
    "##########모델 검증\n",
    "\n",
    "##########모델 예측\n",
    "\n",
    "x_test = np.array([\n",
    "    [4, 6]\n",
    "])\n",
    "\n",
    "y_predict = model.predict(x_test)\n",
    "y_predict"
   ]
  },
  {
   "cell_type": "code",
   "execution_count": 5,
   "metadata": {},
   "outputs": [
    {
     "name": "stdout",
     "output_type": "stream",
     "text": [
      "[[0.84430359 0.15569641]]\n",
      "[0.84430359 0.15569641]\n"
     ]
    }
   ],
   "source": [
    "print(y_predict) #[1]\n",
    "print(y_predict[0]) #1"
   ]
  },
  {
   "cell_type": "code",
   "execution_count": 7,
   "metadata": {},
   "outputs": [
    {
     "data": {
      "text/plain": [
       "array([[0.84430359, 0.15569641]])"
      ]
     },
     "execution_count": 7,
     "metadata": {},
     "output_type": "execute_result"
    }
   ],
   "source": [
    "label = labels[y_predict[0]]\n",
    "y_predict = model.predict_proba(x_test)\n",
    "y_predict"
   ]
  },
  {
   "cell_type": "code",
   "execution_count": 8,
   "metadata": {},
   "outputs": [
    {
     "name": "stdout",
     "output_type": "stream",
     "text": [
      "fail 0.8443035908681575\n"
     ]
    }
   ],
   "source": [
    "confidence = y_predict[0][y_predict[0].argmax()]\n",
    "print(label, confidence) #"
   ]
  },
  {
   "cell_type": "code",
   "execution_count": 9,
   "metadata": {},
   "outputs": [
    {
     "name": "stdout",
     "output_type": "stream",
     "text": [
      "[0 1]\n",
      "0\n"
     ]
    }
   ],
   "source": [
    "x_test = [\n",
    "    [4, 6], \n",
    "    [10, 11]\n",
    "]\n",
    "\n",
    "y_predict = model.predict(x_test)\n",
    "print(y_predict) #[1 1]\n",
    "print(y_predict[0]) #1"
   ]
  },
  {
   "cell_type": "code",
   "execution_count": 10,
   "metadata": {},
   "outputs": [
    {
     "data": {
      "text/plain": [
       "'fail'"
      ]
     },
     "execution_count": 10,
     "metadata": {},
     "output_type": "execute_result"
    }
   ],
   "source": [
    "label = labels[y_predict[0]]\n",
    "label"
   ]
  },
  {
   "cell_type": "code",
   "execution_count": 16,
   "metadata": {},
   "outputs": [
    {
     "name": "stdout",
     "output_type": "stream",
     "text": [
      "fail 0.8443035908681575\n",
      "[[0.84430359 0.15569641]]\n"
     ]
    }
   ],
   "source": [
    "y_predict = model.predict_proba(x_test)\n",
    "confidence = y_predict[0][y_predict[0].argmax()]\n",
    "print(label, confidence) #\n",
    "print(y_predict) #1"
   ]
  },
  {
   "cell_type": "code",
   "execution_count": 17,
   "metadata": {},
   "outputs": [
    {
     "ename": "IndexError",
     "evalue": "index 1 is out of bounds for axis 0 with size 1",
     "output_type": "error",
     "traceback": [
      "\u001b[1;31m---------------------------------------------------------------------------\u001b[0m",
      "\u001b[1;31mIndexError\u001b[0m                                Traceback (most recent call last)",
      "Cell \u001b[1;32mIn[17], line 1\u001b[0m\n\u001b[1;32m----> 1\u001b[0m label \u001b[39m=\u001b[39m labels[y_predict[\u001b[39m1\u001b[39m]]\n\u001b[0;32m      2\u001b[0m y_predict \u001b[39m=\u001b[39m model\u001b[39m.\u001b[39mpredict_proba(x_test)\n\u001b[0;32m      3\u001b[0m confidence \u001b[39m=\u001b[39m y_predict[\u001b[39m1\u001b[39m][y_predict[\u001b[39m1\u001b[39m]\u001b[39m.\u001b[39margmax()]\n",
      "\u001b[1;31mIndexError\u001b[0m: index 1 is out of bounds for axis 0 with size 1"
     ]
    }
   ],
   "source": [
    "label = labels[y_predict]\n",
    "y_predict = model.predict_proba(x_test)\n",
    "confidence = y_predict[1][y_predict[1].argmax()]\n",
    "print(label, confidence) #"
   ]
  }
 ],
 "metadata": {
  "kernelspec": {
   "display_name": "py",
   "language": "python",
   "name": "python3"
  },
  "language_info": {
   "codemirror_mode": {
    "name": "ipython",
    "version": 3
   },
   "file_extension": ".py",
   "mimetype": "text/x-python",
   "name": "python",
   "nbconvert_exporter": "python",
   "pygments_lexer": "ipython3",
   "version": "3.11.3"
  },
  "orig_nbformat": 4
 },
 "nbformat": 4,
 "nbformat_minor": 2
}
