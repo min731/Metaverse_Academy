{
 "cells": [
  {
   "attachments": {},
   "cell_type": "markdown",
   "metadata": {},
   "source": [
    "### 오차 행렬"
   ]
  },
  {
   "cell_type": "code",
   "execution_count": null,
   "metadata": {},
   "outputs": [],
   "source": [
    "# 사회적 현상 중 어떤 것이 FP or FN 을 중요하게 볼 것인지가 정밀도 or 재현율\n",
    "# 매우 중요@@@@@ \n",
    "# 너목보 음치1 (Positive), 정상0 (Negative)\n",
    "# 1을0으로 보는 FN가 중요"
   ]
  },
  {
   "cell_type": "code",
   "execution_count": null,
   "metadata": {},
   "outputs": [],
   "source": [
    "# roc_curve 곡선이 좌측 상단에 있을 때 좋음\n",
    "# roc_curve의 면적이 auc_score\n",
    "# 단 이항 분류에만 적용됌"
   ]
  }
 ],
 "metadata": {
  "kernelspec": {
   "display_name": "py",
   "language": "python",
   "name": "python3"
  },
  "language_info": {
   "name": "python",
   "version": "3.11.3"
  },
  "orig_nbformat": 4
 },
 "nbformat": 4,
 "nbformat_minor": 2
}
