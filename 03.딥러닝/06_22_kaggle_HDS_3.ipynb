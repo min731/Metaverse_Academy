{
 "cells": [
  {
   "attachments": {},
   "cell_type": "markdown",
   "metadata": {},
   "source": [
    "### Intel Image 분류 (Kaggle)"
   ]
  },
  {
   "attachments": {},
   "cell_type": "markdown",
   "metadata": {},
   "source": [
    "##### 데이터 로드"
   ]
  },
  {
   "cell_type": "code",
   "execution_count": 6,
   "metadata": {},
   "outputs": [
    {
     "data": {
      "text/plain": [
       "(27292, 70, 70)"
      ]
     },
     "execution_count": 6,
     "metadata": {},
     "output_type": "execute_result"
    }
   ],
   "source": [
    "import pickle\n",
    "import numpy as np\n",
    "\n",
    "save_path = 'C://backend_study//Metaverse//03.딥러닝//data//kaggle_HDS_rgb2gray//'\n",
    "\n",
    "X = np.load(save_path+'X_rgb2gray.npy')\n",
    "\n",
    "\n",
    "# python 변수(객체)를 pickle 파일로 저장\n",
    "with open(save_path+'y.pkl', 'rb') as f:\n",
    "    y = pickle.load(f)\n",
    "\n",
    "X.shape"
   ]
  },
  {
   "cell_type": "code",
   "execution_count": 7,
   "metadata": {},
   "outputs": [
    {
     "data": {
      "text/plain": [
       "['ellipse',\n",
       " 'ellipse',\n",
       " 'ellipse',\n",
       " 'ellipse',\n",
       " 'ellipse',\n",
       " 'ellipse',\n",
       " 'ellipse',\n",
       " 'ellipse',\n",
       " 'ellipse',\n",
       " 'ellipse']"
      ]
     },
     "execution_count": 7,
     "metadata": {},
     "output_type": "execute_result"
    }
   ],
   "source": [
    "y[:10]"
   ]
  },
  {
   "attachments": {},
   "cell_type": "markdown",
   "metadata": {},
   "source": [
    "##### 이미지 데이터 증강"
   ]
  },
  {
   "cell_type": "code",
   "execution_count": null,
   "metadata": {},
   "outputs": [],
   "source": [
    "\twith open(\"list.pickle\",\"rb\") as fi:\n",
    "    test = pickle.load(fi) # list.pickle 읽어서 출력 -> list 잘 불러와졌다."
   ]
  },
  {
   "cell_type": "code",
   "execution_count": 1,
   "metadata": {},
   "outputs": [],
   "source": [
    "import os\n",
    "\n",
    "path = 'C://backend_study//Metaverse//03.딥러닝//data//kaggle_HDS//preprocessed_data//'\n",
    "\n",
    "# tf.keras.preprocessing.image_dataset_from_directory"
   ]
  },
  {
   "cell_type": "code",
   "execution_count": 2,
   "metadata": {},
   "outputs": [
    {
     "data": {
      "text/plain": [
       "['ellipse', 'other', 'rectangle', 'triangle']"
      ]
     },
     "execution_count": 2,
     "metadata": {},
     "output_type": "execute_result"
    }
   ],
   "source": [
    "class_names = os.listdir(path)\n",
    "class_names"
   ]
  },
  {
   "attachments": {},
   "cell_type": "markdown",
   "metadata": {},
   "source": [
    "##### X,Y 데이터 분할"
   ]
  },
  {
   "cell_type": "code",
   "execution_count": 4,
   "metadata": {},
   "outputs": [
    {
     "name": "stdout",
     "output_type": "stream",
     "text": [
      "['C://backend_study//Metaverse//03.딥러닝//data//kaggle_HDS//preprocessed_data//ellipse\\\\ellipse.aly.0001.png', 'C://backend_study//Metaverse//03.딥러닝//data//kaggle_HDS//preprocessed_data//ellipse\\\\ellipse.aly.0002.png', 'C://backend_study//Metaverse//03.딥러닝//data//kaggle_HDS//preprocessed_data//ellipse\\\\ellipse.aly.0003.png', 'C://backend_study//Metaverse//03.딥러닝//data//kaggle_HDS//preprocessed_data//ellipse\\\\ellipse.aly.0004.png', 'C://backend_study//Metaverse//03.딥러닝//data//kaggle_HDS//preprocessed_data//ellipse\\\\ellipse.aly.0005.png', 'C://backend_study//Metaverse//03.딥러닝//data//kaggle_HDS//preprocessed_data//ellipse\\\\ellipse.aly.0006.png', 'C://backend_study//Metaverse//03.딥러닝//data//kaggle_HDS//preprocessed_data//ellipse\\\\ellipse.aly.0007.png', 'C://backend_study//Metaverse//03.딥러닝//data//kaggle_HDS//preprocessed_data//ellipse\\\\ellipse.aly.0008.png', 'C://backend_study//Metaverse//03.딥러닝//data//kaggle_HDS//preprocessed_data//ellipse\\\\ellipse.aly.0009.png', 'C://backend_study//Metaverse//03.딥러닝//data//kaggle_HDS//preprocessed_data//ellipse\\\\ellipse.aly.0010.png']\n",
      "['C://backend_study//Metaverse//03.딥러닝//data//kaggle_HDS//preprocessed_data//other\\\\other.if2.0001.png', 'C://backend_study//Metaverse//03.딥러닝//data//kaggle_HDS//preprocessed_data//other\\\\other.if2.0002.png', 'C://backend_study//Metaverse//03.딥러닝//data//kaggle_HDS//preprocessed_data//other\\\\other.if2.0003.png', 'C://backend_study//Metaverse//03.딥러닝//data//kaggle_HDS//preprocessed_data//other\\\\other.if2.0004.png', 'C://backend_study//Metaverse//03.딥러닝//data//kaggle_HDS//preprocessed_data//other\\\\other.if2.0005.png', 'C://backend_study//Metaverse//03.딥러닝//data//kaggle_HDS//preprocessed_data//other\\\\other.if2.0006.png', 'C://backend_study//Metaverse//03.딥러닝//data//kaggle_HDS//preprocessed_data//other\\\\other.if2.0007.png', 'C://backend_study//Metaverse//03.딥러닝//data//kaggle_HDS//preprocessed_data//other\\\\other.if2.0008.png', 'C://backend_study//Metaverse//03.딥러닝//data//kaggle_HDS//preprocessed_data//other\\\\other.if2.0009.png', 'C://backend_study//Metaverse//03.딥러닝//data//kaggle_HDS//preprocessed_data//other\\\\other.if2.0010.png']\n",
      "['C://backend_study//Metaverse//03.딥러닝//data//kaggle_HDS//preprocessed_data//rectangle\\\\rectangle.aly.0001.png', 'C://backend_study//Metaverse//03.딥러닝//data//kaggle_HDS//preprocessed_data//rectangle\\\\rectangle.aly.0002.png', 'C://backend_study//Metaverse//03.딥러닝//data//kaggle_HDS//preprocessed_data//rectangle\\\\rectangle.aly.0003.png', 'C://backend_study//Metaverse//03.딥러닝//data//kaggle_HDS//preprocessed_data//rectangle\\\\rectangle.aly.0004.png', 'C://backend_study//Metaverse//03.딥러닝//data//kaggle_HDS//preprocessed_data//rectangle\\\\rectangle.aly.0005.png', 'C://backend_study//Metaverse//03.딥러닝//data//kaggle_HDS//preprocessed_data//rectangle\\\\rectangle.aly.0006.png', 'C://backend_study//Metaverse//03.딥러닝//data//kaggle_HDS//preprocessed_data//rectangle\\\\rectangle.aly.0007.png', 'C://backend_study//Metaverse//03.딥러닝//data//kaggle_HDS//preprocessed_data//rectangle\\\\rectangle.aly.0008.png', 'C://backend_study//Metaverse//03.딥러닝//data//kaggle_HDS//preprocessed_data//rectangle\\\\rectangle.aly.0009.png', 'C://backend_study//Metaverse//03.딥러닝//data//kaggle_HDS//preprocessed_data//rectangle\\\\rectangle.aly.0010.png']\n",
      "['C://backend_study//Metaverse//03.딥러닝//data//kaggle_HDS//preprocessed_data//triangle\\\\triangle.aly.0001.png', 'C://backend_study//Metaverse//03.딥러닝//data//kaggle_HDS//preprocessed_data//triangle\\\\triangle.aly.0002.png', 'C://backend_study//Metaverse//03.딥러닝//data//kaggle_HDS//preprocessed_data//triangle\\\\triangle.aly.0003.png', 'C://backend_study//Metaverse//03.딥러닝//data//kaggle_HDS//preprocessed_data//triangle\\\\triangle.aly.0004.png', 'C://backend_study//Metaverse//03.딥러닝//data//kaggle_HDS//preprocessed_data//triangle\\\\triangle.aly.0005.png', 'C://backend_study//Metaverse//03.딥러닝//data//kaggle_HDS//preprocessed_data//triangle\\\\triangle.aly.0006.png', 'C://backend_study//Metaverse//03.딥러닝//data//kaggle_HDS//preprocessed_data//triangle\\\\triangle.aly.0007.png', 'C://backend_study//Metaverse//03.딥러닝//data//kaggle_HDS//preprocessed_data//triangle\\\\triangle.aly.0008.png', 'C://backend_study//Metaverse//03.딥러닝//data//kaggle_HDS//preprocessed_data//triangle\\\\triangle.aly.0009.png', 'C://backend_study//Metaverse//03.딥러닝//data//kaggle_HDS//preprocessed_data//triangle\\\\triangle.aly.0010.png']\n"
     ]
    }
   ],
   "source": [
    "from glob import glob\n",
    "import numpy as np\n",
    "from PIL import Image\n",
    "\n",
    "\n",
    "X = []\n",
    "y = []\n",
    "\n",
    "for class_name in class_names:\n",
    "    images = glob(path+class_name+'//*.png')\n",
    "    print(images[:10])\n",
    "\n",
    "    for image in images:\n",
    "        img = Image.open(image)\n",
    "        X.append(np.array(img))\n",
    "        y.append(class_name)"
   ]
  },
  {
   "cell_type": "code",
   "execution_count": 6,
   "metadata": {},
   "outputs": [
    {
     "name": "stdout",
     "output_type": "stream",
     "text": [
      "ellipse\n"
     ]
    },
    {
     "data": {
      "image/png": "[encoded data removed]",
      "text/plain": [
       "<Figure size 640x480 with 1 Axes>"
      ]
     },
     "metadata": {},
     "output_type": "display_data"
    }
   ],
   "source": [
    "import matplotlib.pyplot as plt\n",
    "\n",
    "plt.imshow(X[0])\n",
    "print(y[0])"
   ]
  },
  {
   "cell_type": "code",
   "execution_count": 7,
   "metadata": {},
   "outputs": [
    {
     "name": "stdout",
     "output_type": "stream",
     "text": [
      "ellipse\n"
     ]
    },
    {
     "data": {
      "image/png": "[encoded data removed]",
      "text/plain": [
       "<Figure size 640x480 with 1 Axes>"
      ]
     },
     "metadata": {},
     "output_type": "display_data"
    }
   ],
   "source": [
    "plt.imshow(X[0][:,:,:3])\n",
    "print(y[0])"
   ]
  },
  {
   "cell_type": "code",
   "execution_count": 8,
   "metadata": {},
   "outputs": [
    {
     "name": "stdout",
     "output_type": "stream",
     "text": [
      "ellipse\n"
     ]
    },
    {
     "data": {
      "image/png": "[encoded data removed]",
      "text/plain": [
       "<Figure size 640x480 with 1 Axes>"
      ]
     },
     "metadata": {},
     "output_type": "display_data"
    }
   ],
   "source": [
    "plt.imshow(X[0][:,:,:4])\n",
    "print(y[0])"
   ]
  },
  {
   "cell_type": "code",
   "execution_count": 9,
   "metadata": {},
   "outputs": [
    {
     "data": {
      "text/plain": [
       "(70, 70, 4)"
      ]
     },
     "execution_count": 9,
     "metadata": {},
     "output_type": "execute_result"
    }
   ],
   "source": [
    "X[0].shape"
   ]
  },
  {
   "cell_type": "code",
   "execution_count": 13,
   "metadata": {},
   "outputs": [
    {
     "data": {
      "text/plain": [
       "(27292, 70, 70, 4)"
      ]
     },
     "execution_count": 13,
     "metadata": {},
     "output_type": "execute_result"
    }
   ],
   "source": [
    "X = np.array(X)\n",
    "X.shape"
   ]
  },
  {
   "cell_type": "markdown",
   "metadata": {},
   "source": [
    "##### png 이미지 4번쨰 채널 제거"
   ]
  },
  {
   "cell_type": "code",
   "execution_count": 14,
   "metadata": {},
   "outputs": [
    {
     "data": {
      "text/plain": [
       "(27292, 70, 70, 3)"
      ]
     },
     "execution_count": 14,
     "metadata": {},
     "output_type": "execute_result"
    }
   ],
   "source": [
    "X = X[:,:,:,:3]\n",
    "X.shape"
   ]
  },
  {
   "cell_type": "code",
   "execution_count": 15,
   "metadata": {},
   "outputs": [
    {
     "data": {
      "text/plain": [
       "['ellipse',\n",
       " 'ellipse',\n",
       " 'ellipse',\n",
       " 'ellipse',\n",
       " 'ellipse',\n",
       " 'ellipse',\n",
       " 'ellipse',\n",
       " 'ellipse',\n",
       " 'ellipse',\n",
       " 'ellipse']"
      ]
     },
     "execution_count": 15,
     "metadata": {},
     "output_type": "execute_result"
    }
   ],
   "source": [
    "y[:10]"
   ]
  },
  {
   "attachments": {},
   "cell_type": "markdown",
   "metadata": {},
   "source": [
    "##### Label Encoding"
   ]
  },
  {
   "cell_type": "code",
   "execution_count": 17,
   "metadata": {},
   "outputs": [
    {
     "data": {
      "text/plain": [
       "array([0, 0, 0, 0, 0, 0, 0, 0, 0, 0])"
      ]
     },
     "execution_count": 17,
     "metadata": {},
     "output_type": "execute_result"
    }
   ],
   "source": [
    "from sklearn.preprocessing import LabelEncoder\n",
    "\n",
    "label_names = class_names\n",
    "encoder = LabelEncoder()\n",
    "encoder.fit(label_names)\n",
    "y = encoder.transform(y)\n",
    "y[:10]"
   ]
  },
  {
   "attachments": {},
   "cell_type": "markdown",
   "metadata": {},
   "source": [
    "##### 스케일링 (/255)"
   ]
  },
  {
   "cell_type": "code",
   "execution_count": 18,
   "metadata": {},
   "outputs": [
    {
     "data": {
      "text/plain": [
       "array([[[1., 1., 1.],\n",
       "        [1., 1., 1.],\n",
       "        [1., 1., 1.],\n",
       "        ...,\n",
       "        [1., 1., 1.],\n",
       "        [1., 1., 1.],\n",
       "        [1., 1., 1.]],\n",
       "\n",
       "       [[1., 1., 1.],\n",
       "        [1., 1., 1.],\n",
       "        [1., 1., 1.],\n",
       "        ...,\n",
       "        [1., 1., 1.],\n",
       "        [1., 1., 1.],\n",
       "        [1., 1., 1.]],\n",
       "\n",
       "       [[1., 1., 1.],\n",
       "        [1., 1., 1.],\n",
       "        [1., 1., 1.],\n",
       "        ...,\n",
       "        [1., 1., 1.],\n",
       "        [1., 1., 1.],\n",
       "        [1., 1., 1.]],\n",
       "\n",
       "       ...,\n",
       "\n",
       "       [[1., 1., 1.],\n",
       "        [1., 1., 1.],\n",
       "        [1., 1., 1.],\n",
       "        ...,\n",
       "        [1., 1., 1.],\n",
       "        [1., 1., 1.],\n",
       "        [1., 1., 1.]],\n",
       "\n",
       "       [[1., 1., 1.],\n",
       "        [1., 1., 1.],\n",
       "        [1., 1., 1.],\n",
       "        ...,\n",
       "        [1., 1., 1.],\n",
       "        [1., 1., 1.],\n",
       "        [1., 1., 1.]],\n",
       "\n",
       "       [[1., 1., 1.],\n",
       "        [1., 1., 1.],\n",
       "        [1., 1., 1.],\n",
       "        ...,\n",
       "        [1., 1., 1.],\n",
       "        [1., 1., 1.],\n",
       "        [1., 1., 1.]]])"
      ]
     },
     "execution_count": 18,
     "metadata": {},
     "output_type": "execute_result"
    }
   ],
   "source": [
    "X = X/255\n",
    "X[0]"
   ]
  },
  {
   "cell_type": "code",
   "execution_count": 19,
   "metadata": {},
   "outputs": [
    {
     "name": "stdout",
     "output_type": "stream",
     "text": [
      "0\n"
     ]
    },
    {
     "data": {
      "image/png": "[encoded data removed]",
      "text/plain": [
       "<Figure size 640x480 with 1 Axes>"
      ]
     },
     "metadata": {},
     "output_type": "display_data"
    }
   ],
   "source": [
    "import matplotlib.pyplot as plt\n",
    "\n",
    "plt.imshow(X[0])\n",
    "print(y[0])"
   ]
  },
  {
   "cell_type": "code",
   "execution_count": 22,
   "metadata": {},
   "outputs": [
    {
     "data": {
      "text/plain": [
       "((27292, 70, 70, 3), (27292,))"
      ]
     },
     "execution_count": 22,
     "metadata": {},
     "output_type": "execute_result"
    }
   ],
   "source": [
    "X.shape ,y.shape"
   ]
  },
  {
   "attachments": {},
   "cell_type": "markdown",
   "metadata": {},
   "source": [
    "##### train / test 분할"
   ]
  },
  {
   "cell_type": "code",
   "execution_count": 24,
   "metadata": {},
   "outputs": [],
   "source": [
    "from sklearn.model_selection import train_test_split\n",
    "\n",
    "X_train ,X_test, y_train, y_test = train_test_split(X,y,test_size=0.2,random_state=100,shuffle=True)"
   ]
  },
  {
   "cell_type": "code",
   "execution_count": 25,
   "metadata": {},
   "outputs": [
    {
     "data": {
      "text/plain": [
       "((21833, 70, 70, 3), (21833,), (5459, 70, 70, 3), (5459,))"
      ]
     },
     "execution_count": 25,
     "metadata": {},
     "output_type": "execute_result"
    }
   ],
   "source": [
    "X_train.shape , y_train.shape , X_test.shape , y_test.shape"
   ]
  },
  {
   "attachments": {},
   "cell_type": "markdown",
   "metadata": {},
   "source": [
    "##### 학습 layers = 6, epochs = 10"
   ]
  },
  {
   "cell_type": "code",
   "execution_count": 31,
   "metadata": {},
   "outputs": [
    {
     "name": "stdout",
     "output_type": "stream",
     "text": [
      "Epoch 1/10\n",
      "683/683 [==============================] - 90s 127ms/step - loss: 1.3345 - acc: 0.4224\n",
      "Epoch 2/10\n",
      "683/683 [==============================] - 91s 133ms/step - loss: 1.0326 - acc: 0.5657\n",
      "Epoch 3/10\n",
      "683/683 [==============================] - 88s 128ms/step - loss: 0.9160 - acc: 0.6341\n",
      "Epoch 4/10\n",
      "683/683 [==============================] - 83s 121ms/step - loss: 0.8551 - acc: 0.6668\n",
      "Epoch 5/10\n",
      "683/683 [==============================] - 82s 120ms/step - loss: 0.7790 - acc: 0.7008\n",
      "Epoch 6/10\n",
      "683/683 [==============================] - 80s 116ms/step - loss: 0.7248 - acc: 0.7208\n",
      "Epoch 7/10\n",
      "683/683 [==============================] - 82s 120ms/step - loss: 0.6753 - acc: 0.7388\n",
      "Epoch 8/10\n",
      "683/683 [==============================] - 81s 118ms/step - loss: 0.6403 - acc: 0.7556\n",
      "Epoch 9/10\n",
      "683/683 [==============================] - 80s 117ms/step - loss: 0.6201 - acc: 0.7674\n",
      "Epoch 10/10\n",
      "683/683 [==============================] - 80s 117ms/step - loss: 0.5869 - acc: 0.7786\n"
     ]
    }
   ],
   "source": [
    "from tensorflow.keras.models import Sequential\n",
    "from tensorflow.keras.layers import Dense\n",
    "from tensorflow.keras.layers import Flatten\n",
    "\n",
    "\n",
    "model = Sequential()\n",
    "\n",
    "model.add(Flatten(input_shape=(70,70,3,)))\n",
    "model.add( Dense (512, activation = 'relu'))\n",
    "model.add( Dense (256, activation = 'relu'))\n",
    "model.add( Dense (128, activation = 'relu'))\n",
    "model.add( Dense (64,activation = 'relu'))\n",
    "model.add( Dense (32,activation= 'relu') )\n",
    "model.add( Dense (4,activation='softmax') )\n",
    "\n",
    "# 다중 분류시 loss : categorical_crossentropy\n",
    "# 단, Label Encdoing 시 : sparse_catogorical_crossentropy\n",
    "model.compile(optimizer='Adam',loss = 'sparse_categorical_crossentropy',metrics=['acc'])\n",
    "\n",
    "# history : 학습 내역 저장\n",
    "history = model.fit(X_train,y_train,epochs=10)"
   ]
  },
  {
   "cell_type": "code",
   "execution_count": 33,
   "metadata": {},
   "outputs": [],
   "source": [
    "import matplotlib.pyplot as plt\n",
    "\n",
    "acc = history.history['acc']\n",
    "loss = history.history['loss']\n",
    "\n",
    "# val_acc = history.history['val_acc']\n",
    "# val_loss = history.history['val_loss']"
   ]
  },
  {
   "cell_type": "code",
   "execution_count": 34,
   "metadata": {},
   "outputs": [
    {
     "data": {
      "text/plain": [
       "[<matplotlib.lines.Line2D at 0x24208219048>]"
      ]
     },
     "execution_count": 34,
     "metadata": {},
     "output_type": "execute_result"
    },
    {
     "data": {
      "image/png": "[encoded data removed]",
      "text/plain": [
       "<Figure size 640x480 with 1 Axes>"
      ]
     },
     "metadata": {},
     "output_type": "display_data"
    }
   ],
   "source": [
    "plt.figure()\n",
    "plt.plot(range(len(loss)),loss)\n",
    "plt.plot(range(len(acc)),acc)"
   ]
  },
  {
   "cell_type": "code",
   "execution_count": 35,
   "metadata": {},
   "outputs": [
    {
     "name": "stdout",
     "output_type": "stream",
     "text": [
      "171/171 [==============================] - 2s 10ms/step - loss: 0.5759 - acc: 0.7774\n"
     ]
    },
    {
     "data": {
      "text/plain": [
       "[0.5758880972862244, 0.7774317860603333]"
      ]
     },
     "execution_count": 35,
     "metadata": {},
     "output_type": "execute_result"
    }
   ],
   "source": [
    "model.evaluate(X_test,y_test)"
   ]
  },
  {
   "attachments": {},
   "cell_type": "markdown",
   "metadata": {},
   "source": [
    "##### rgb2gray 전처리 후 학습"
   ]
  },
  {
   "cell_type": "code",
   "execution_count": 45,
   "metadata": {},
   "outputs": [
    {
     "data": {
      "text/plain": [
       "(70, 70)"
      ]
     },
     "execution_count": 45,
     "metadata": {},
     "output_type": "execute_result"
    }
   ],
   "source": [
    "from skimage import color\n",
    "from skimage import io\n",
    "\n",
    "imgGray = color.rgb2gray(X_train[0])\n",
    "\n",
    "imgGray.shape"
   ]
  },
  {
   "cell_type": "code",
   "execution_count": 46,
   "metadata": {},
   "outputs": [
    {
     "data": {
      "text/plain": [
       "<matplotlib.image.AxesImage at 0x242131e7cc8>"
      ]
     },
     "execution_count": 46,
     "metadata": {},
     "output_type": "execute_result"
    },
    {
     "data": {
      "image/png": "[encoded data removed]",
      "text/plain": [
       "<Figure size 640x480 with 1 Axes>"
      ]
     },
     "metadata": {},
     "output_type": "display_data"
    }
   ],
   "source": [
    "plt.imshow(imgGray)"
   ]
  },
  {
   "cell_type": "code",
   "execution_count": 47,
   "metadata": {},
   "outputs": [
    {
     "data": {
      "text/plain": [
       "(21833, 70, 70)"
      ]
     },
     "execution_count": 47,
     "metadata": {},
     "output_type": "execute_result"
    }
   ],
   "source": [
    "X_train = color.rgb2gray(X_train)\n",
    "X_train.shape"
   ]
  },
  {
   "cell_type": "code",
   "execution_count": 48,
   "metadata": {},
   "outputs": [
    {
     "data": {
      "text/plain": [
       "(5459, 70, 70)"
      ]
     },
     "execution_count": 48,
     "metadata": {},
     "output_type": "execute_result"
    }
   ],
   "source": [
    "X_test = color.rgb2gray(X_test)\n",
    "X_test.shape"
   ]
  },
  {
   "cell_type": "code",
   "execution_count": 49,
   "metadata": {},
   "outputs": [
    {
     "name": "stdout",
     "output_type": "stream",
     "text": [
      "Epoch 1/10\n",
      "683/683 [==============================] - 34s 49ms/step - loss: 1.2494 - acc: 0.4179\n",
      "Epoch 2/10\n",
      "683/683 [==============================] - 29s 43ms/step - loss: 1.0127 - acc: 0.5785\n",
      "Epoch 3/10\n",
      "683/683 [==============================] - 30s 44ms/step - loss: 0.8910 - acc: 0.6406\n",
      "Epoch 4/10\n",
      "683/683 [==============================] - 30s 43ms/step - loss: 0.7969 - acc: 0.6890\n",
      "Epoch 5/10\n",
      "683/683 [==============================] - 29s 42ms/step - loss: 0.7230 - acc: 0.7207\n",
      "Epoch 6/10\n",
      "683/683 [==============================] - 29s 42ms/step - loss: 0.6724 - acc: 0.7410\n",
      "Epoch 7/10\n",
      "683/683 [==============================] - 29s 42ms/step - loss: 0.6616 - acc: 0.7449\n",
      "Epoch 8/10\n",
      "683/683 [==============================] - 29s 43ms/step - loss: 0.6099 - acc: 0.7671\n",
      "Epoch 9/10\n",
      "683/683 [==============================] - 29s 42ms/step - loss: 0.5923 - acc: 0.7773\n",
      "Epoch 10/10\n",
      "683/683 [==============================] - 29s 43ms/step - loss: 0.5655 - acc: 0.7875\n"
     ]
    }
   ],
   "source": [
    "from tensorflow.keras.models import Sequential\n",
    "from tensorflow.keras.layers import Dense\n",
    "from tensorflow.keras.layers import Flatten\n",
    "\n",
    "\n",
    "model_rgb2gray = Sequential()\n",
    "\n",
    "model_rgb2gray.add(Flatten(input_shape=(70,70,)))\n",
    "model_rgb2gray.add( Dense (512, activation = 'relu'))\n",
    "model_rgb2gray.add( Dense (256, activation = 'relu'))\n",
    "model_rgb2gray.add( Dense (128, activation = 'relu'))\n",
    "model_rgb2gray.add( Dense (64,activation = 'relu'))\n",
    "model_rgb2gray.add( Dense (32,activation= 'relu') )\n",
    "model_rgb2gray.add( Dense (4,activation='softmax') )\n",
    "\n",
    "# 다중 분류시 loss : categorical_crossentropy\n",
    "# 단, Label Encdoing 시 : sparse_catogorical_crossentropy\n",
    "model_rgb2gray.compile(optimizer='Adam',loss = 'sparse_categorical_crossentropy',metrics=['acc'])\n",
    "\n",
    "# history : 학습 내역 저장\n",
    "history = model_rgb2gray.fit(X_train,y_train,epochs=10)"
   ]
  },
  {
   "cell_type": "code",
   "execution_count": 53,
   "metadata": {},
   "outputs": [],
   "source": [
    "import matplotlib.pyplot as plt\n",
    "\n",
    "acc = history.history['acc']\n",
    "loss = history.history['loss']"
   ]
  },
  {
   "cell_type": "code",
   "execution_count": 54,
   "metadata": {},
   "outputs": [
    {
     "data": {
      "text/plain": [
       "[<matplotlib.lines.Line2D at 0x24206ff3708>]"
      ]
     },
     "execution_count": 54,
     "metadata": {},
     "output_type": "execute_result"
    },
    {
     "data": {
      "image/png": "[encoded data removed]",
      "text/plain": [
       "<Figure size 640x480 with 1 Axes>"
      ]
     },
     "metadata": {},
     "output_type": "display_data"
    }
   ],
   "source": [
    "plt.figure()\n",
    "plt.plot(range(len(loss)),loss)\n",
    "plt.plot(range(len(acc)),acc)"
   ]
  },
  {
   "cell_type": "code",
   "execution_count": 55,
   "metadata": {},
   "outputs": [
    {
     "name": "stdout",
     "output_type": "stream",
     "text": [
      "171/171 [==============================] - 1s 5ms/step - loss: 0.5172 - acc: 0.8091\n"
     ]
    },
    {
     "data": {
      "text/plain": [
       "[0.5172008275985718, 0.8091225624084473]"
      ]
     },
     "execution_count": 55,
     "metadata": {},
     "output_type": "execute_result"
    }
   ],
   "source": [
    "model_rgb2gray.evaluate(X_test,y_test)"
   ]
  },
  {
   "attachments": {},
   "cell_type": "markdown",
   "metadata": {},
   "source": [
    "##### rgb2gray 형태로 데이터 저장"
   ]
  },
  {
   "cell_type": "code",
   "execution_count": 59,
   "metadata": {},
   "outputs": [],
   "source": [
    "import os\n",
    "\n",
    "path = 'C://backend_study//Metaverse//03.딥러닝//data//kaggle_HDS//preprocessed_data//'\n",
    "\n",
    "# tf.keras.preprocessing.image_dataset_from_directory"
   ]
  },
  {
   "cell_type": "code",
   "execution_count": 60,
   "metadata": {},
   "outputs": [
    {
     "data": {
      "text/plain": [
       "['ellipse', 'other', 'rectangle', 'triangle']"
      ]
     },
     "execution_count": 60,
     "metadata": {},
     "output_type": "execute_result"
    }
   ],
   "source": [
    "class_names = os.listdir(path)\n",
    "class_names"
   ]
  },
  {
   "cell_type": "code",
   "execution_count": 61,
   "metadata": {},
   "outputs": [
    {
     "name": "stderr",
     "output_type": "stream",
     "text": [
      "  0%|          | 0/4 [00:00<?, ?it/s]"
     ]
    },
    {
     "name": "stdout",
     "output_type": "stream",
     "text": [
      "['C://backend_study//Metaverse//03.딥러닝//data//kaggle_HDS//preprocessed_data//ellipse\\\\ellipse.aly.0001.png', 'C://backend_study//Metaverse//03.딥러닝//data//kaggle_HDS//preprocessed_data//ellipse\\\\ellipse.aly.0002.png', 'C://backend_study//Metaverse//03.딥러닝//data//kaggle_HDS//preprocessed_data//ellipse\\\\ellipse.aly.0003.png', 'C://backend_study//Metaverse//03.딥러닝//data//kaggle_HDS//preprocessed_data//ellipse\\\\ellipse.aly.0004.png', 'C://backend_study//Metaverse//03.딥러닝//data//kaggle_HDS//preprocessed_data//ellipse\\\\ellipse.aly.0005.png', 'C://backend_study//Metaverse//03.딥러닝//data//kaggle_HDS//preprocessed_data//ellipse\\\\ellipse.aly.0006.png', 'C://backend_study//Metaverse//03.딥러닝//data//kaggle_HDS//preprocessed_data//ellipse\\\\ellipse.aly.0007.png', 'C://backend_study//Metaverse//03.딥러닝//data//kaggle_HDS//preprocessed_data//ellipse\\\\ellipse.aly.0008.png', 'C://backend_study//Metaverse//03.딥러닝//data//kaggle_HDS//preprocessed_data//ellipse\\\\ellipse.aly.0009.png', 'C://backend_study//Metaverse//03.딥러닝//data//kaggle_HDS//preprocessed_data//ellipse\\\\ellipse.aly.0010.png']\n"
     ]
    },
    {
     "name": "stderr",
     "output_type": "stream",
     "text": [
      " 25%|██▌       | 1/4 [00:05<00:16,  5.67s/it]"
     ]
    },
    {
     "name": "stdout",
     "output_type": "stream",
     "text": [
      "['C://backend_study//Metaverse//03.딥러닝//data//kaggle_HDS//preprocessed_data//other\\\\other.if2.0001.png', 'C://backend_study//Metaverse//03.딥러닝//data//kaggle_HDS//preprocessed_data//other\\\\other.if2.0002.png', 'C://backend_study//Metaverse//03.딥러닝//data//kaggle_HDS//preprocessed_data//other\\\\other.if2.0003.png', 'C://backend_study//Metaverse//03.딥러닝//data//kaggle_HDS//preprocessed_data//other\\\\other.if2.0004.png', 'C://backend_study//Metaverse//03.딥러닝//data//kaggle_HDS//preprocessed_data//other\\\\other.if2.0005.png', 'C://backend_study//Metaverse//03.딥러닝//data//kaggle_HDS//preprocessed_data//other\\\\other.if2.0006.png', 'C://backend_study//Metaverse//03.딥러닝//data//kaggle_HDS//preprocessed_data//other\\\\other.if2.0007.png', 'C://backend_study//Metaverse//03.딥러닝//data//kaggle_HDS//preprocessed_data//other\\\\other.if2.0008.png', 'C://backend_study//Metaverse//03.딥러닝//data//kaggle_HDS//preprocessed_data//other\\\\other.if2.0009.png', 'C://backend_study//Metaverse//03.딥러닝//data//kaggle_HDS//preprocessed_data//other\\\\other.if2.0010.png']\n"
     ]
    },
    {
     "name": "stderr",
     "output_type": "stream",
     "text": [
      " 50%|█████     | 2/4 [00:12<00:13,  6.59s/it]"
     ]
    },
    {
     "name": "stdout",
     "output_type": "stream",
     "text": [
      "['C://backend_study//Metaverse//03.딥러닝//data//kaggle_HDS//preprocessed_data//rectangle\\\\rectangle.aly.0001.png', 'C://backend_study//Metaverse//03.딥러닝//data//kaggle_HDS//preprocessed_data//rectangle\\\\rectangle.aly.0002.png', 'C://backend_study//Metaverse//03.딥러닝//data//kaggle_HDS//preprocessed_data//rectangle\\\\rectangle.aly.0003.png', 'C://backend_study//Metaverse//03.딥러닝//data//kaggle_HDS//preprocessed_data//rectangle\\\\rectangle.aly.0004.png', 'C://backend_study//Metaverse//03.딥러닝//data//kaggle_HDS//preprocessed_data//rectangle\\\\rectangle.aly.0005.png', 'C://backend_study//Metaverse//03.딥러닝//data//kaggle_HDS//preprocessed_data//rectangle\\\\rectangle.aly.0006.png', 'C://backend_study//Metaverse//03.딥러닝//data//kaggle_HDS//preprocessed_data//rectangle\\\\rectangle.aly.0007.png', 'C://backend_study//Metaverse//03.딥러닝//data//kaggle_HDS//preprocessed_data//rectangle\\\\rectangle.aly.0008.png', 'C://backend_study//Metaverse//03.딥러닝//data//kaggle_HDS//preprocessed_data//rectangle\\\\rectangle.aly.0009.png', 'C://backend_study//Metaverse//03.딥러닝//data//kaggle_HDS//preprocessed_data//rectangle\\\\rectangle.aly.0010.png']\n"
     ]
    },
    {
     "name": "stderr",
     "output_type": "stream",
     "text": [
      " 75%|███████▌  | 3/4 [00:19<00:06,  6.45s/it]"
     ]
    },
    {
     "name": "stdout",
     "output_type": "stream",
     "text": [
      "['C://backend_study//Metaverse//03.딥러닝//data//kaggle_HDS//preprocessed_data//triangle\\\\triangle.aly.0001.png', 'C://backend_study//Metaverse//03.딥러닝//data//kaggle_HDS//preprocessed_data//triangle\\\\triangle.aly.0002.png', 'C://backend_study//Metaverse//03.딥러닝//data//kaggle_HDS//preprocessed_data//triangle\\\\triangle.aly.0003.png', 'C://backend_study//Metaverse//03.딥러닝//data//kaggle_HDS//preprocessed_data//triangle\\\\triangle.aly.0004.png', 'C://backend_study//Metaverse//03.딥러닝//data//kaggle_HDS//preprocessed_data//triangle\\\\triangle.aly.0005.png', 'C://backend_study//Metaverse//03.딥러닝//data//kaggle_HDS//preprocessed_data//triangle\\\\triangle.aly.0006.png', 'C://backend_study//Metaverse//03.딥러닝//data//kaggle_HDS//preprocessed_data//triangle\\\\triangle.aly.0007.png', 'C://backend_study//Metaverse//03.딥러닝//data//kaggle_HDS//preprocessed_data//triangle\\\\triangle.aly.0008.png', 'C://backend_study//Metaverse//03.딥러닝//data//kaggle_HDS//preprocessed_data//triangle\\\\triangle.aly.0009.png', 'C://backend_study//Metaverse//03.딥러닝//data//kaggle_HDS//preprocessed_data//triangle\\\\triangle.aly.0010.png']\n"
     ]
    },
    {
     "name": "stderr",
     "output_type": "stream",
     "text": [
      "100%|██████████| 4/4 [00:23<00:00,  5.97s/it]\n"
     ]
    }
   ],
   "source": [
    "from glob import glob\n",
    "import numpy as np\n",
    "from PIL import Image\n",
    "from tqdm import tqdm\n",
    "\n",
    "\n",
    "X = []\n",
    "y = []\n",
    "\n",
    "for class_name in tqdm(class_names):\n",
    "    images = glob(path+class_name+'//*.png')\n",
    "    print(images[:10])\n",
    "\n",
    "    for image in images:\n",
    "        img = Image.open(image)\n",
    "        X.append(np.array(img))\n",
    "        y.append(class_name)"
   ]
  },
  {
   "cell_type": "code",
   "execution_count": 63,
   "metadata": {},
   "outputs": [
    {
     "data": {
      "text/plain": [
       "[array([[[255, 255, 255, 255],\n",
       "         [255, 255, 255, 255],\n",
       "         [255, 255, 255, 255],\n",
       "         ...,\n",
       "         [255, 255, 255, 255],\n",
       "         [255, 255, 255, 255],\n",
       "         [255, 255, 255, 255]],\n",
       " \n",
       "        [[255, 255, 255, 255],\n",
       "         [255, 255, 255, 255],\n",
       "         [255, 255, 255, 255],\n",
       "         ...,\n",
       "         [255, 255, 255, 255],\n",
       "         [255, 255, 255, 255],\n",
       "         [255, 255, 255, 255]],\n",
       " \n",
       "        [[255, 255, 255, 255],\n",
       "         [255, 255, 255, 255],\n",
       "         [255, 255, 255, 255],\n",
       "         ...,\n",
       "         [255, 255, 255, 255],\n",
       "         [255, 255, 255, 255],\n",
       "         [255, 255, 255, 255]],\n",
       " \n",
       "        ...,\n",
       " \n",
       "        [[255, 255, 255, 255],\n",
       "         [255, 255, 255, 255],\n",
       "         [255, 255, 255, 255],\n",
       "         ...,\n",
       "         [255, 255, 255, 255],\n",
       "         [255, 255, 255, 255],\n",
       "         [255, 255, 255, 255]],\n",
       " \n",
       "        [[255, 255, 255, 255],\n",
       "         [255, 255, 255, 255],\n",
       "         [255, 255, 255, 255],\n",
       "         ...,\n",
       "         [255, 255, 255, 255],\n",
       "         [255, 255, 255, 255],\n",
       "         [255, 255, 255, 255]],\n",
       " \n",
       "        [[255, 255, 255, 255],\n",
       "         [255, 255, 255, 255],\n",
       "         [255, 255, 255, 255],\n",
       "         ...,\n",
       "         [255, 255, 255, 255],\n",
       "         [255, 255, 255, 255],\n",
       "         [255, 255, 255, 255]]], dtype=uint8),\n",
       " array([[[255, 255, 255, 255],\n",
       "         [255, 255, 255, 255],\n",
       "         [255, 255, 255, 255],\n",
       "         ...,\n",
       "         [255, 255, 255, 255],\n",
       "         [255, 255, 255, 255],\n",
       "         [255, 255, 255, 255]],\n",
       " \n",
       "        [[255, 255, 255, 255],\n",
       "         [255, 255, 255, 255],\n",
       "         [255, 255, 255, 255],\n",
       "         ...,\n",
       "         [255, 255, 255, 255],\n",
       "         [255, 255, 255, 255],\n",
       "         [255, 255, 255, 255]],\n",
       " \n",
       "        [[255, 255, 255, 255],\n",
       "         [255, 255, 255, 255],\n",
       "         [255, 255, 255, 255],\n",
       "         ...,\n",
       "         [255, 255, 255, 255],\n",
       "         [255, 255, 255, 255],\n",
       "         [255, 255, 255, 255]],\n",
       " \n",
       "        ...,\n",
       " \n",
       "        [[255, 255, 255, 255],\n",
       "         [255, 255, 255, 255],\n",
       "         [255, 255, 255, 255],\n",
       "         ...,\n",
       "         [255, 255, 255, 255],\n",
       "         [255, 255, 255, 255],\n",
       "         [255, 255, 255, 255]],\n",
       " \n",
       "        [[255, 255, 255, 255],\n",
       "         [255, 255, 255, 255],\n",
       "         [255, 255, 255, 255],\n",
       "         ...,\n",
       "         [255, 255, 255, 255],\n",
       "         [255, 255, 255, 255],\n",
       "         [255, 255, 255, 255]],\n",
       " \n",
       "        [[255, 255, 255, 255],\n",
       "         [255, 255, 255, 255],\n",
       "         [255, 255, 255, 255],\n",
       "         ...,\n",
       "         [255, 255, 255, 255],\n",
       "         [255, 255, 255, 255],\n",
       "         [255, 255, 255, 255]]], dtype=uint8),\n",
       " array([[[255, 255, 255, 255],\n",
       "         [255, 255, 255, 255],\n",
       "         [255, 255, 255, 255],\n",
       "         ...,\n",
       "         [255, 255, 255, 255],\n",
       "         [255, 255, 255, 255],\n",
       "         [255, 255, 255, 255]],\n",
       " \n",
       "        [[255, 255, 255, 255],\n",
       "         [255, 255, 255, 255],\n",
       "         [255, 255, 255, 255],\n",
       "         ...,\n",
       "         [255, 255, 255, 255],\n",
       "         [255, 255, 255, 255],\n",
       "         [255, 255, 255, 255]],\n",
       " \n",
       "        [[255, 255, 255, 255],\n",
       "         [255, 255, 255, 255],\n",
       "         [255, 255, 255, 255],\n",
       "         ...,\n",
       "         [255, 255, 255, 255],\n",
       "         [255, 255, 255, 255],\n",
       "         [255, 255, 255, 255]],\n",
       " \n",
       "        ...,\n",
       " \n",
       "        [[255, 255, 255, 255],\n",
       "         [255, 255, 255, 255],\n",
       "         [255, 255, 255, 255],\n",
       "         ...,\n",
       "         [255, 255, 255, 255],\n",
       "         [255, 255, 255, 255],\n",
       "         [255, 255, 255, 255]],\n",
       " \n",
       "        [[255, 255, 255, 255],\n",
       "         [255, 255, 255, 255],\n",
       "         [255, 255, 255, 255],\n",
       "         ...,\n",
       "         [255, 255, 255, 255],\n",
       "         [255, 255, 255, 255],\n",
       "         [255, 255, 255, 255]],\n",
       " \n",
       "        [[255, 255, 255, 255],\n",
       "         [255, 255, 255, 255],\n",
       "         [255, 255, 255, 255],\n",
       "         ...,\n",
       "         [255, 255, 255, 255],\n",
       "         [255, 255, 255, 255],\n",
       "         [255, 255, 255, 255]]], dtype=uint8)]"
      ]
     },
     "execution_count": 63,
     "metadata": {},
     "output_type": "execute_result"
    }
   ],
   "source": [
    "X[:3]"
   ]
  },
  {
   "cell_type": "code",
   "execution_count": 64,
   "metadata": {},
   "outputs": [
    {
     "data": {
      "text/plain": [
       "(27292, 70, 70, 4)"
      ]
     },
     "execution_count": 64,
     "metadata": {},
     "output_type": "execute_result"
    }
   ],
   "source": [
    "X = np.array(X)\n",
    "X.shape"
   ]
  },
  {
   "cell_type": "code",
   "execution_count": 65,
   "metadata": {},
   "outputs": [
    {
     "data": {
      "text/plain": [
       "(27292, 70, 70, 3)"
      ]
     },
     "execution_count": 65,
     "metadata": {},
     "output_type": "execute_result"
    }
   ],
   "source": [
    "X = X[:,:,:,:3]\n",
    "X.shape"
   ]
  },
  {
   "cell_type": "code",
   "execution_count": 66,
   "metadata": {},
   "outputs": [
    {
     "data": {
      "text/plain": [
       "(27292, 70, 70)"
      ]
     },
     "execution_count": 66,
     "metadata": {},
     "output_type": "execute_result"
    }
   ],
   "source": [
    "from skimage import color\n",
    "from skimage import io\n",
    "\n",
    "X = color.rgb2gray(X)\n",
    "X.shape"
   ]
  },
  {
   "cell_type": "code",
   "execution_count": 69,
   "metadata": {},
   "outputs": [
    {
     "data": {
      "text/plain": [
       "['ellipse',\n",
       " 'ellipse',\n",
       " 'ellipse',\n",
       " 'ellipse',\n",
       " 'ellipse',\n",
       " 'ellipse',\n",
       " 'ellipse',\n",
       " 'ellipse',\n",
       " 'ellipse',\n",
       " 'ellipse']"
      ]
     },
     "execution_count": 69,
     "metadata": {},
     "output_type": "execute_result"
    }
   ],
   "source": [
    "y[:10]"
   ]
  },
  {
   "cell_type": "code",
   "execution_count": 71,
   "metadata": {},
   "outputs": [],
   "source": [
    "import pickle\n",
    "\n",
    "save_path = 'C://backend_study//Metaverse//03.딥러닝//data//kaggle_HDS_rgb2gray//'\n",
    "\n",
    "np.save(save_path+'X_rgb2gray',X)\n",
    "\n",
    "\n",
    "# python 변수(객체)를 pickle 파일로 저장\n",
    "with open(save_path+'y.pickle', 'wb') as f:\n",
    "    pickle.dump(y, f)\n",
    " \n",
    "# pickle 파일 불러오기\n",
    "# with open([파일], 'rb') as f:\n",
    "#     var = pickle.load(f)"
   ]
  }
 ],
 "metadata": {
  "kernelspec": {
   "display_name": "Python 3",
   "language": "python",
   "name": "python3"
  },
  "language_info": {
   "codemirror_mode": {
    "name": "ipython",
    "version": 3
   },
   "file_extension": ".py",
   "mimetype": "text/x-python",
   "name": "python",
   "nbconvert_exporter": "python",
   "pygments_lexer": "ipython3",
   "version": "3.7.16"
  },
  "orig_nbformat": 4
 },
 "nbformat": 4,
 "nbformat_minor": 2
}
