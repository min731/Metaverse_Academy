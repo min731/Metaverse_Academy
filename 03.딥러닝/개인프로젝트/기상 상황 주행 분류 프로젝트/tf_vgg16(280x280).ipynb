{
 "cells": [
  {
   "attachments": {},
   "cell_type": "markdown",
   "metadata": {},
   "source": [
    "# 기상 상황 주행 분류 프로젝트 (개인)"
   ]
  },
  {
   "attachments": {},
   "cell_type": "markdown",
   "metadata": {},
   "source": [
    "### Tensorflow vgg16(280x280) 구현 이미지 분류"
   ]
  },
  {
   "attachments": {},
   "cell_type": "markdown",
   "metadata": {},
   "source": [
    "##### 1.데이터 로드"
   ]
  },
  {
   "cell_type": "code",
   "execution_count": 15,
   "metadata": {},
   "outputs": [],
   "source": [
    "from glob import glob\n",
    "\n",
    "path = 'D://기상 상황 주행 분류 데이터'\n",
    "\n",
    "train_data = glob(path+'//Train')\n"
   ]
  },
  {
   "cell_type": "code",
   "execution_count": 16,
   "metadata": {},
   "outputs": [],
   "source": [
    "import tensorflow as tf\n",
    "# from tensorflow.keras.preprocessing import image_dataset_from_directory\n",
    "from tensorflow.keras.preprocessing.image import ImageDataGenerator"
   ]
  },
  {
   "cell_type": "code",
   "execution_count": 17,
   "metadata": {},
   "outputs": [],
   "source": [
    "train_generator = ImageDataGenerator(rescale=1./255,validation_split=0.2)\n",
    "val_generator = ImageDataGenerator(rescale=1./255,validation_split=0.2)"
   ]
  },
  {
   "cell_type": "code",
   "execution_count": 18,
   "metadata": {},
   "outputs": [
    {
     "name": "stdout",
     "output_type": "stream",
     "text": [
      "Found 36723 images belonging to 4 classes.\n",
      "Found 9180 images belonging to 4 classes.\n"
     ]
    }
   ],
   "source": [
    "train_data_gen = train_generator.flow_from_directory(\n",
    "    directory=path+'//Train',\n",
    "    target_size=(280,280),\n",
    "    color_mode='rgb',\n",
    "    class_mode='categorical',\n",
    "    batch_size=16,\n",
    "    seed=100,\n",
    "    subset='training'\n",
    ")\n",
    "val_data_gen = val_generator.flow_from_directory(\n",
    "    directory=path+'//Train',\n",
    "    target_size=(280,280),\n",
    "    color_mode='rgb',\n",
    "    class_mode='categorical',\n",
    "    batch_size=16,\n",
    "    seed=100,\n",
    "    subset='validation'\n",
    ")"
   ]
  },
  {
   "cell_type": "code",
   "execution_count": 19,
   "metadata": {},
   "outputs": [
    {
     "data": {
      "text/plain": [
       "array([0, 0, 0, ..., 3, 3, 3])"
      ]
     },
     "execution_count": 19,
     "metadata": {},
     "output_type": "execute_result"
    }
   ],
   "source": [
    "train_data_gen.classes"
   ]
  },
  {
   "cell_type": "markdown",
   "metadata": {},
   "source": [
    "##### 2. 데이터 split"
   ]
  },
  {
   "cell_type": "code",
   "execution_count": 20,
   "metadata": {},
   "outputs": [],
   "source": [
    "test_generator = ImageDataGenerator(rescale=1./255)"
   ]
  },
  {
   "cell_type": "code",
   "execution_count": 21,
   "metadata": {},
   "outputs": [
    {
     "name": "stdout",
     "output_type": "stream",
     "text": [
      "Found 5738 images belonging to 4 classes.\n"
     ]
    }
   ],
   "source": [
    "test_data_gen = test_generator.flow_from_directory(\n",
    "    directory=path+'//Validation',\n",
    "    target_size=(280,280),\n",
    "    color_mode='rgb',\n",
    "    class_mode='categorical',\n",
    "    batch_size=16,\n",
    "    seed=100,\n",
    ")"
   ]
  },
  {
   "cell_type": "code",
   "execution_count": 22,
   "metadata": {},
   "outputs": [
    {
     "data": {
      "text/plain": [
       "array([0, 0, 0, ..., 3, 3, 3])"
      ]
     },
     "execution_count": 22,
     "metadata": {},
     "output_type": "execute_result"
    }
   ],
   "source": [
    "test_data_gen.classes"
   ]
  },
  {
   "attachments": {},
   "cell_type": "markdown",
   "metadata": {},
   "source": [
    "##### 3. 모델 구성"
   ]
  },
  {
   "cell_type": "code",
   "execution_count": 23,
   "metadata": {},
   "outputs": [
    {
     "name": "stdout",
     "output_type": "stream",
     "text": [
      "[PhysicalDevice(name='/physical_device:GPU:0', device_type='GPU')]\n"
     ]
    }
   ],
   "source": [
    "print(tf.config.list_physical_devices('GPU'))"
   ]
  },
  {
   "cell_type": "code",
   "execution_count": 24,
   "metadata": {},
   "outputs": [],
   "source": [
    "from tensorflow.keras.models import Sequential\n",
    "from tensorflow.keras.layers import Flatten,Dense\n",
    "from tensorflow.keras.applications.vgg16 import VGG16\n",
    "\n",
    "vgg16 = VGG16(weights='imagenet',include_top = False,input_shape=(280,280,3))\n",
    "vgg16.trainable =True\n",
    "\n",
    "model = Sequential(\n",
    "\n",
    "    [\n",
    "    vgg16,\n",
    "    Flatten(),\n",
    "    Dense(64,activation='relu'),\n",
    "    Dense(4,activation='softmax')\n",
    "    ]\n",
    ")"
   ]
  },
  {
   "cell_type": "code",
   "execution_count": 25,
   "metadata": {},
   "outputs": [
    {
     "name": "stdout",
     "output_type": "stream",
     "text": [
      "Model: \"sequential_1\"\n",
      "_________________________________________________________________\n",
      " Layer (type)                Output Shape              Param #   \n",
      "=================================================================\n",
      " vgg16 (Functional)          (None, 8, 8, 512)         14714688  \n",
      "                                                                 \n",
      " flatten_1 (Flatten)         (None, 32768)             0         \n",
      "                                                                 \n",
      " dense_2 (Dense)             (None, 64)                2097216   \n",
      "                                                                 \n",
      " dense_3 (Dense)             (None, 4)                 260       \n",
      "                                                                 \n",
      "=================================================================\n",
      "Total params: 16,812,164\n",
      "Trainable params: 16,812,164\n",
      "Non-trainable params: 0\n",
      "_________________________________________________________________\n"
     ]
    }
   ],
   "source": [
    "model.summary()"
   ]
  },
  {
   "cell_type": "code",
   "execution_count": 26,
   "metadata": {},
   "outputs": [],
   "source": [
    "model.compile(optimizer='Adam',loss='categorical_crossentropy',metrics=['acc'])"
   ]
  },
  {
   "cell_type": "markdown",
   "metadata": {},
   "source": [
    "##### 4. 학습"
   ]
  },
  {
   "cell_type": "code",
   "execution_count": 27,
   "metadata": {},
   "outputs": [
    {
     "name": "stdout",
     "output_type": "stream",
     "text": [
      "Epoch 1/10\n"
     ]
    },
    {
     "name": "stderr",
     "output_type": "stream",
     "text": [
      "c:\\Users\\user\\miniconda3\\envs\\DL_06_22\\lib\\site-packages\\ipykernel_launcher.py:8: UserWarning: `Model.fit_generator` is deprecated and will be removed in a future version. Please use `Model.fit`, which supports generators.\n",
      "  \n"
     ]
    },
    {
     "name": "stdout",
     "output_type": "stream",
     "text": [
      "2296/2296 [==============================] - 1058s 453ms/step - loss: 0.4492 - acc: 0.8883 - val_loss: 0.4194 - val_acc: 0.8614\n",
      "Epoch 2/10\n",
      "2296/2296 [==============================] - 979s 426ms/step - loss: 0.1866 - acc: 0.9363 - val_loss: 0.8836 - val_acc: 0.8101\n",
      "Epoch 3/10\n",
      "2296/2296 [==============================] - 990s 431ms/step - loss: 0.1752 - acc: 0.9417 - val_loss: 1.6922 - val_acc: 0.7936\n",
      "Epoch 4/10\n",
      "2296/2296 [==============================] - 970s 423ms/step - loss: 0.1328 - acc: 0.9550 - val_loss: 0.6218 - val_acc: 0.8270\n",
      "Epoch 5/10\n",
      "2296/2296 [==============================] - 961s 418ms/step - loss: 0.1238 - acc: 0.9596 - val_loss: 1.6181 - val_acc: 0.7862\n",
      "Epoch 6/10\n",
      "2296/2296 [==============================] - 951s 414ms/step - loss: 0.0808 - acc: 0.9731 - val_loss: 0.7198 - val_acc: 0.8390\n",
      "Epoch 7/10\n",
      "2296/2296 [==============================] - 948s 413ms/step - loss: 0.1248 - acc: 0.9699 - val_loss: 0.8760 - val_acc: 0.8317\n",
      "Epoch 8/10\n",
      "2296/2296 [==============================] - 947s 412ms/step - loss: 0.0642 - acc: 0.9787 - val_loss: 1.4550 - val_acc: 0.8136\n",
      "Epoch 9/10\n",
      "2296/2296 [==============================] - 945s 411ms/step - loss: 0.0748 - acc: 0.9769 - val_loss: 1.3769 - val_acc: 0.8478\n",
      "Epoch 10/10\n",
      "2296/2296 [==============================] - 945s 412ms/step - loss: 0.0743 - acc: 0.9813 - val_loss: 1.1945 - val_acc: 0.8004\n"
     ]
    }
   ],
   "source": [
    "# pip install scipy\n",
    "\n",
    "history = model.fit_generator(train_data_gen,\n",
    "                              validation_data=val_data_gen,\n",
    "                            #   steps_per_epoch=train_data_gen.n//train_data_gen.batch_size,\n",
    "                            #   validation_steps = val_data_gen.n//val_data_gen.batch_size,\n",
    "                              epochs=10)\n",
    "\n",
    "# history = model.fit(train_data_gen.flow(),validation_data=val_data_gen,epochs=10)"
   ]
  },
  {
   "cell_type": "code",
   "execution_count": 31,
   "metadata": {},
   "outputs": [
    {
     "data": {
      "image/png": "[encoded data removed]",
      "text/plain": [
       "<Figure size 640x480 with 2 Axes>"
      ]
     },
     "metadata": {},
     "output_type": "display_data"
    }
   ],
   "source": [
    "import matplotlib.pyplot as plt\n",
    "\n",
    "acc = history.history['acc']\n",
    "val_acc = history.history['val_acc']\n",
    "\n",
    "loss = history.history['loss']\n",
    "val_loss = history.history['val_loss']\n",
    "\n",
    "plt.subplot(1,2,1)\n",
    "plt.plot(range(1,len(loss)+1),loss,color='blue',label='loss')\n",
    "plt.plot(range(1,len(loss)+1),val_loss,color='red',label='val_loss')\n",
    "plt.ylim(0,2.0)\n",
    "plt.title(\"Loss\")\n",
    "plt.legend()\n",
    "\n",
    "plt.subplot(1,2,2)\n",
    "plt.plot(range(1,len(acc)+1),acc,color='blue',label='acc')\n",
    "plt.plot(range(1,len(acc)+1),val_acc,color='red',label='val_acc')\n",
    "plt.ylim(0,1)\n",
    "plt.title(\"Accuracy\")\n",
    "plt.legend()\n",
    "plt.show()"
   ]
  },
  {
   "cell_type": "markdown",
   "metadata": {},
   "source": [
    "##### 5.검증"
   ]
  },
  {
   "cell_type": "code",
   "execution_count": 32,
   "metadata": {},
   "outputs": [
    {
     "name": "stdout",
     "output_type": "stream",
     "text": [
      "359/359 [==============================] - 118s 328ms/step - loss: 0.3023 - acc: 0.9376\n"
     ]
    },
    {
     "data": {
      "text/plain": [
       "[0.302259236574173, 0.9376088976860046]"
      ]
     },
     "execution_count": 32,
     "metadata": {},
     "output_type": "execute_result"
    }
   ],
   "source": [
    "model.evaluate(test_data_gen)"
   ]
  },
  {
   "attachments": {},
   "cell_type": "markdown",
   "metadata": {},
   "source": [
    "##### 6.저장"
   ]
  },
  {
   "cell_type": "code",
   "execution_count": 34,
   "metadata": {},
   "outputs": [],
   "source": [
    "model.save_weights('.//models//vgg16_weights')"
   ]
  },
  {
   "cell_type": "code",
   "execution_count": null,
   "metadata": {},
   "outputs": [],
   "source": []
  }
 ],
 "metadata": {
  "kernelspec": {
   "display_name": "py",
   "language": "python",
   "name": "python3"
  },
  "language_info": {
   "codemirror_mode": {
    "name": "ipython",
    "version": 3
   },
   "file_extension": ".py",
   "mimetype": "text/x-python",
   "name": "python",
   "nbconvert_exporter": "python",
   "pygments_lexer": "ipython3",
   "version": "3.7.16"
  },
  "orig_nbformat": 4
 },
 "nbformat": 4,
 "nbformat_minor": 2
}
