{
 "cells": [
  {
   "cell_type": "markdown",
   "metadata": {},
   "source": [
    "### 텐서보드 사용 시 주의"
   ]
  },
  {
   "cell_type": "code",
   "execution_count": null,
   "metadata": {},
   "outputs": [],
   "source": [
    "# conda prompt\n",
    "#tensorboard --logdir=runs\n",
    "\n",
    "\n",
    "# cmd 실행 후 taskkill\n",
    "# taskkill /im tensorboard.exe /f\n",
    "# del /q %TMP%\\.tensorboard-info\\*"
   ]
  }
 ],
 "metadata": {
  "language_info": {
   "name": "python"
  },
  "orig_nbformat": 4
 },
 "nbformat": 4,
 "nbformat_minor": 2
}
