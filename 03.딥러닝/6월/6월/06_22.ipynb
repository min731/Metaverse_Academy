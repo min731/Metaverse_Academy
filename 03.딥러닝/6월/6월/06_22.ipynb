{
 "cells": [
  {
   "attachments": {},
   "cell_type": "markdown",
   "metadata": {},
   "source": [
    "##### 인공신경망 요약"
   ]
  },
  {
   "cell_type": "code",
   "execution_count": 3,
   "metadata": {},
   "outputs": [],
   "source": [
    "# 학습데이터셋 + 기계 학습 알고리즘 + 모델\n",
    "\n",
    "# 데이터 수집\n",
    "# Kaggle, AI hub, 구글 이미지 검색"
   ]
  },
  {
   "cell_type": "code",
   "execution_count": 4,
   "metadata": {},
   "outputs": [],
   "source": [
    "# Batch size\n",
    "# 데이터가 1만건 있으면 100개씩 나누어 학습한다"
   ]
  },
  {
   "cell_type": "code",
   "execution_count": 5,
   "metadata": {},
   "outputs": [],
   "source": [
    "# Loss 값이 쭉 떨어지다가 높아지는 구간이 생기면\n",
    "# 그전에 끊어버리면 됌"
   ]
  },
  {
   "cell_type": "code",
   "execution_count": 7,
   "metadata": {},
   "outputs": [],
   "source": [
    "# 데이터셋 용어\n",
    "# Train , Valid , Test\n",
    "# 학습 시키는 Datasets = Train\n",
    "# 마지막 확인용 = Test\n",
    "\n",
    "# Valid 하는 이유\n",
    "# 학습할때 Valid(검증)도 같이 떨어지지 않으면 학습을 끊어야함"
   ]
  },
  {
   "cell_type": "code",
   "execution_count": 9,
   "metadata": {},
   "outputs": [],
   "source": [
    "# Anaconda Prompt\n",
    "\n",
    "# conda activate\n",
    "# conda env list\n",
    "# conda list\n",
    "# pip freeze\n",
    "\n",
    "# 가상환경 패키지 관리\n",
    "\n",
    "# 1) \n",
    "# pip freeze > requirements.txt : requirements txt 파일\n",
    "# pop install -r requirements.txt : requirements 설치\n",
    "\n",
    "# 2)\n",
    "# conda list --export > packagelist.txt\n",
    "# conda install --file packagelist.txt\n",
    "\n",
    "# conda acativate \"가상환경명\"\n",
    "# 후 pip 설치하면 적용안됌"
   ]
  },
  {
   "cell_type": "code",
   "execution_count": null,
   "metadata": {},
   "outputs": [],
   "source": [
    "# 주피터 노트북 설치\n",
    "# pip install "
   ]
  }
 ],
 "metadata": {
  "kernelspec": {
   "display_name": "py",
   "language": "python",
   "name": "python3"
  },
  "language_info": {
   "codemirror_mode": {
    "name": "ipython",
    "version": 3
   },
   "file_extension": ".py",
   "mimetype": "text/x-python",
   "name": "python",
   "nbconvert_exporter": "python",
   "pygments_lexer": "ipython3",
   "version": "3.11.3"
  },
  "orig_nbformat": 4
 },
 "nbformat": 4,
 "nbformat_minor": 2
}
