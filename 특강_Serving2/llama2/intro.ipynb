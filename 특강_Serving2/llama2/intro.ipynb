{
 "cells": [
  {
   "cell_type": "markdown",
   "metadata": {},
   "source": [
    "# Llama2"
   ]
  },
  {
   "cell_type": "code",
   "execution_count": null,
   "metadata": {},
   "outputs": [],
   "source": [
    "# 2조개 토큰으로 학습\n",
    "\n",
    "# 모델 크기\n",
    "# 7B(24GB 필요), 13B, 70B (B = 1,000,000,000 , 10억)\n",
    "\n",
    "# 상업적 사용 가능\n",
    "# 4096 기본 컨텍스트 창 사용 가능\n",
    "# hugging face에서 사용 가능 (hugging chat)"
   ]
  },
  {
   "cell_type": "code",
   "execution_count": null,
   "metadata": {},
   "outputs": [],
   "source": [
    "# chatgpt api 쓸 줄 알아야함\n",
    "# openai platform - playground 활용해야함\n",
    "# deeplearning.ai 강의\n",
    "# context learning, multi-turn\n",
    "\n",
    "# gpt 3.5 turbo 16k ==> 16000 컨텍스트 사용가능\n",
    "# gpt 4 는 32k\n",
    "# context 안에서 정보를 알려줄 수 있음 (in context learning) (chatgpt 자체를 학습시키는 것이 아니라 하나의 질문안에서 알려줄 수 있음)\n",
    "# 게임 안의 npc, 자아를 부여할 수도 있음\n",
    "\n",
    "# 프롬프트 엔지니어링\n",
    "# ex) CoT"
   ]
  }
 ],
 "metadata": {
  "language_info": {
   "name": "python"
  },
  "orig_nbformat": 4
 },
 "nbformat": 4,
 "nbformat_minor": 2
}
