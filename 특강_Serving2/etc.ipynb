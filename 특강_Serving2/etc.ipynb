{
 "cells": [
  {
   "cell_type": "markdown",
   "metadata": {},
   "source": [
    "# 중요\n",
    "\n",
    "## 1. chatgpt - playground (chatgpt api 활용)\n",
    "## 2. huggingface (모델, 클라우드 서비스 활용)\n",
    "## 3. streamlit, gradio (UI)"
   ]
  },
  {
   "cell_type": "markdown",
   "metadata": {},
   "source": [
    "### 서빙"
   ]
  },
  {
   "cell_type": "code",
   "execution_count": null,
   "metadata": {},
   "outputs": [],
   "source": [
    "# chatgpt \n",
    "# huggingface\n",
    "# streamlit, gradio (UI)"
   ]
  },
  {
   "cell_type": "code",
   "execution_count": null,
   "metadata": {},
   "outputs": [],
   "source": [
    "# replicate (!=AWS)\n",
    "# huggingface에 있는 모델을 호출해서 씀\n",
    "# https://replicate.com/\n",
    "\n",
    "# pricing Nvidia A40 GPU RAM(48GB) 0.0013/min"
   ]
  },
  {
   "cell_type": "code",
   "execution_count": null,
   "metadata": {},
   "outputs": [],
   "source": [
    "# streamlit (UI)\n",
    "# gradio (UI)"
   ]
  },
  {
   "cell_type": "code",
   "execution_count": null,
   "metadata": {},
   "outputs": [],
   "source": [
    "# huggingface inference api"
   ]
  },
  {
   "cell_type": "code",
   "execution_count": null,
   "metadata": {},
   "outputs": [],
   "source": [
    "# huggingface - transformers - text classification - 파인튜닝 가능"
   ]
  },
  {
   "cell_type": "code",
   "execution_count": null,
   "metadata": {},
   "outputs": [],
   "source": [
    "# chatgpt \n",
    "# huggingface\n",
    "# streamlit, gradio (UI)"
   ]
  }
 ],
 "metadata": {
  "language_info": {
   "name": "python"
  },
  "orig_nbformat": 4
 },
 "nbformat": 4,
 "nbformat_minor": 2
}
