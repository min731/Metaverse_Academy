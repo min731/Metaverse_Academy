{
 "cells": [
  {
   "cell_type": "markdown",
   "metadata": {},
   "source": [
    "# 도커"
   ]
  },
  {
   "cell_type": "code",
   "execution_count": null,
   "metadata": {},
   "outputs": [],
   "source": [
    "# https://hub.docker.com/r/pytorch/pytorch\n",
    "# 도커 이미지 선택\n",
    "# Tags - 2.0.1-cuda11.7-cudnn8-runtime"
   ]
  },
  {
   "cell_type": "code",
   "execution_count": null,
   "metadata": {},
   "outputs": [],
   "source": [
    "# Dockerfile\n",
    "\n",
    "# docker pytorch/pytorch:2.0.1-cuda11.7-cudnn8-runtime\n",
    "\n",
    "# requirements.txt\n",
    "\n",
    "# timm\n",
    "# transformers==4.15.0\n",
    "# fairscale\n",
    "# # pycocoevalcap\n",
    "# # torch\n",
    "# # torchvision\n",
    "# Pillow\n",
    "# scipy\n",
    "# git+https://github.com/openai/CLIP.git\n",
    "# fastapi\n",
    "# uvicon[standard]\n",
    "# pydantic\n",
    "# python-multipart"
   ]
  },
  {
   "cell_type": "code",
   "execution_count": null,
   "metadata": {},
   "outputs": [],
   "source": [
    "# Dockerfile\n",
    "\n",
    "# pytorch 이미지 중 선택\n",
    "# FROM pytorch/pytorch:2.0.1-cuda11.7-cudnn8-runtime\n",
    "\n",
    "# 깃 설치\n",
    "# RUN apt-get update && apt-get install -y git\n",
    "\n",
    "# WORKDIR /app\n",
    "\n",
    "# COPY . .\n",
    "\n",
    "# 환경 설치\n",
    "# RUN pip install -r requirements.txt\n",
    "\n",
    "# CMD [\"uvicorn\",\"main7(tag2text):app\"]\n",
    "\n",
    "# EXPOSE 8000"
   ]
  }
 ],
 "metadata": {
  "language_info": {
   "name": "python"
  },
  "orig_nbformat": 4
 },
 "nbformat": 4,
 "nbformat_minor": 2
}
