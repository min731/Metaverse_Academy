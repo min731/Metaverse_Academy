{
 "cells": [
  {
   "cell_type": "code",
   "execution_count": 7,
   "metadata": {},
   "outputs": [],
   "source": [
    "import sys\n",
    "import time\n",
    "from selenium import webdriver\n",
    "from selenium.webdriver import Keys\n",
    "from selenium.webdriver.common.by import By\n",
    "from selenium.webdriver.chrome.service import Service\n",
    "from webdriver_manager.chrome import ChromeDriverManager\n",
    "from bs4 import BeautifulSoup"
   ]
  },
  {
   "cell_type": "code",
   "execution_count": 8,
   "metadata": {},
   "outputs": [],
   "source": [
    "chrome_options = webdriver.ChromeOptions()"
   ]
  },
  {
   "cell_type": "code",
   "execution_count": 10,
   "metadata": {},
   "outputs": [],
   "source": [
    "# User Agent 바꿔주기\n",
    "# Mozilla/5.0 (Windows NT 10.0; Win64; x64) AppleWebKit/537.36 (KHTML, like Gecko) Chrome/114.0.0.0 Safari/537.36\n",
    "\n",
    "user_agent = 'Mozilla/5.0 (Windows NT 10.0; Win64; x64) AppleWebKit/537.36 (KHTML, like Gecko) Chrome/114.0.0.0 Safari/537.36'\n",
    "chrome_options.add_argument('user_agent='+user_agent)"
   ]
  },
  {
   "cell_type": "code",
   "execution_count": 12,
   "metadata": {},
   "outputs": [],
   "source": [
    "# 드라이버 설치\n",
    "chrome_options.add_experimental_option('detach',True)\n",
    "driver = webdriver.Chrome(service=Service(ChromeDriverManager().install()),options=chrome_options)\n",
    "driver.maximize_window() # 넣어도 되고 안넣어도 됌"
   ]
  },
  {
   "cell_type": "code",
   "execution_count": 13,
   "metadata": {},
   "outputs": [],
   "source": [
    "# 설정\n",
    "keyword = \"Me at the zoo\"\n",
    "count = 10 # 스크래핑할 댓글 개수, (값을 -1로 하면 한계까지 수집)"
   ]
  },
  {
   "cell_type": "code",
   "execution_count": 17,
   "metadata": {},
   "outputs": [
    {
     "ename": "NoSuchWindowException",
     "evalue": "Message: no such window: target window already closed\nfrom unknown error: web view not found\n  (Session info: chrome=114.0.5735.90)\nStacktrace:\nBacktrace:\n\tGetHandleVerifier [0x00C8A813+48355]\n\t(No symbol) [0x00C1C4B1]\n\t(No symbol) [0x00B25358]\n\t(No symbol) [0x00B0D293]\n\t(No symbol) [0x00B6E37B]\n\t(No symbol) [0x00B7C473]\n\t(No symbol) [0x00B6A536]\n\t(No symbol) [0x00B482DC]\n\t(No symbol) [0x00B493DD]\n\tGetHandleVerifier [0x00EEAABD+2539405]\n\tGetHandleVerifier [0x00F2A78F+2800735]\n\tGetHandleVerifier [0x00F2456C+2775612]\n\tGetHandleVerifier [0x00D151E0+616112]\n\t(No symbol) [0x00C25F8C]\n\t(No symbol) [0x00C22328]\n\t(No symbol) [0x00C2240B]\n\t(No symbol) [0x00C14FF7]\n\tBaseThreadInitThunk [0x76707D59+25]\n\tRtlInitializeExceptionChain [0x77BFB74B+107]\n\tRtlClearBits [0x77BFB6CF+191]\n",
     "output_type": "error",
     "traceback": [
      "\u001b[1;31m---------------------------------------------------------------------------\u001b[0m",
      "\u001b[1;31mNoSuchWindowException\u001b[0m                     Traceback (most recent call last)",
      "Cell \u001b[1;32mIn[17], line 2\u001b[0m\n\u001b[0;32m      1\u001b[0m \u001b[39m# 크롬 열기 및 주소 입력\u001b[39;00m\n\u001b[1;32m----> 2\u001b[0m driver\u001b[39m.\u001b[39mget(\u001b[39m'\u001b[39m\u001b[39mhttps://www.youtube.com/results?search_query=\u001b[39m\u001b[39m'\u001b[39m\u001b[39m+\u001b[39m keyword)\n\u001b[0;32m      3\u001b[0m driver\u001b[39m.\u001b[39mimplicitly_wait(\u001b[39m5\u001b[39m) \u001b[39m# 영상 로딩하는 시간\u001b[39;00m\n\u001b[0;32m      4\u001b[0m time\u001b[39m.\u001b[39msleep(\u001b[39m2\u001b[39m)\n",
      "File \u001b[1;32mc:\\Users\\user\\miniconda3\\envs\\py\\Lib\\site-packages\\selenium\\webdriver\\remote\\webdriver.py:449\u001b[0m, in \u001b[0;36mWebDriver.get\u001b[1;34m(self, url)\u001b[0m\n\u001b[0;32m    447\u001b[0m \u001b[39mdef\u001b[39;00m \u001b[39mget\u001b[39m(\u001b[39mself\u001b[39m, url: \u001b[39mstr\u001b[39m) \u001b[39m-\u001b[39m\u001b[39m>\u001b[39m \u001b[39mNone\u001b[39;00m:\n\u001b[0;32m    448\u001b[0m \u001b[39m    \u001b[39m\u001b[39m\"\"\"Loads a web page in the current browser session.\"\"\"\u001b[39;00m\n\u001b[1;32m--> 449\u001b[0m     \u001b[39mself\u001b[39m\u001b[39m.\u001b[39mexecute(Command\u001b[39m.\u001b[39mGET, {\u001b[39m\"\u001b[39m\u001b[39murl\u001b[39m\u001b[39m\"\u001b[39m: url})\n",
      "File \u001b[1;32mc:\\Users\\user\\miniconda3\\envs\\py\\Lib\\site-packages\\selenium\\webdriver\\remote\\webdriver.py:440\u001b[0m, in \u001b[0;36mWebDriver.execute\u001b[1;34m(self, driver_command, params)\u001b[0m\n\u001b[0;32m    438\u001b[0m response \u001b[39m=\u001b[39m \u001b[39mself\u001b[39m\u001b[39m.\u001b[39mcommand_executor\u001b[39m.\u001b[39mexecute(driver_command, params)\n\u001b[0;32m    439\u001b[0m \u001b[39mif\u001b[39;00m response:\n\u001b[1;32m--> 440\u001b[0m     \u001b[39mself\u001b[39m\u001b[39m.\u001b[39merror_handler\u001b[39m.\u001b[39mcheck_response(response)\n\u001b[0;32m    441\u001b[0m     response[\u001b[39m\"\u001b[39m\u001b[39mvalue\u001b[39m\u001b[39m\"\u001b[39m] \u001b[39m=\u001b[39m \u001b[39mself\u001b[39m\u001b[39m.\u001b[39m_unwrap_value(response\u001b[39m.\u001b[39mget(\u001b[39m\"\u001b[39m\u001b[39mvalue\u001b[39m\u001b[39m\"\u001b[39m, \u001b[39mNone\u001b[39;00m))\n\u001b[0;32m    442\u001b[0m     \u001b[39mreturn\u001b[39;00m response\n",
      "File \u001b[1;32mc:\\Users\\user\\miniconda3\\envs\\py\\Lib\\site-packages\\selenium\\webdriver\\remote\\errorhandler.py:245\u001b[0m, in \u001b[0;36mErrorHandler.check_response\u001b[1;34m(self, response)\u001b[0m\n\u001b[0;32m    243\u001b[0m         alert_text \u001b[39m=\u001b[39m value[\u001b[39m\"\u001b[39m\u001b[39malert\u001b[39m\u001b[39m\"\u001b[39m]\u001b[39m.\u001b[39mget(\u001b[39m\"\u001b[39m\u001b[39mtext\u001b[39m\u001b[39m\"\u001b[39m)\n\u001b[0;32m    244\u001b[0m     \u001b[39mraise\u001b[39;00m exception_class(message, screen, stacktrace, alert_text)  \u001b[39m# type: ignore[call-arg]  # mypy is not smart enough here\u001b[39;00m\n\u001b[1;32m--> 245\u001b[0m \u001b[39mraise\u001b[39;00m exception_class(message, screen, stacktrace)\n",
      "\u001b[1;31mNoSuchWindowException\u001b[0m: Message: no such window: target window already closed\nfrom unknown error: web view not found\n  (Session info: chrome=114.0.5735.90)\nStacktrace:\nBacktrace:\n\tGetHandleVerifier [0x00C8A813+48355]\n\t(No symbol) [0x00C1C4B1]\n\t(No symbol) [0x00B25358]\n\t(No symbol) [0x00B0D293]\n\t(No symbol) [0x00B6E37B]\n\t(No symbol) [0x00B7C473]\n\t(No symbol) [0x00B6A536]\n\t(No symbol) [0x00B482DC]\n\t(No symbol) [0x00B493DD]\n\tGetHandleVerifier [0x00EEAABD+2539405]\n\tGetHandleVerifier [0x00F2A78F+2800735]\n\tGetHandleVerifier [0x00F2456C+2775612]\n\tGetHandleVerifier [0x00D151E0+616112]\n\t(No symbol) [0x00C25F8C]\n\t(No symbol) [0x00C22328]\n\t(No symbol) [0x00C2240B]\n\t(No symbol) [0x00C14FF7]\n\tBaseThreadInitThunk [0x76707D59+25]\n\tRtlInitializeExceptionChain [0x77BFB74B+107]\n\tRtlClearBits [0x77BFB6CF+191]\n"
     ]
    }
   ],
   "source": [
    "# 크롬 열기 및 주소 입력\n",
    "driver.get('https://www.youtube.com/results?search_query='+ keyword)\n",
    "driver.implicitly_wait(5) # 영상 로딩하는 시간\n",
    "time.sleep(2)\n",
    "\n",
    "# 영상 선택\n",
    "# 썸네일, F12, COPY-XPATH 선택 \n",
    "driver.find_element(By.XPATH,'//*[@id=\"thumbnail\"]/yt-image/img').click()\n",
    "\n",
    "driver.implicitly_wait(5)\n",
    "time.sleep(2)\n",
    "\n",
    "# 진행 중인 영상 중지\n",
    "driver.find_element(By.XPATH,'//*[@id=\"movie_player\"]/div[30]/div[2]/div[1]/button').click()\n",
    "\n",
    "# 끝까지 스크롤 내리기\n",
    "driver.find_element(By.CSS_SELECTOR,'body').send_keys(Keys.END)\n",
    "time.sleep(1)\n",
    "\n",
    "# 필요한 댓글 확보를 위한 while문\n",
    "while True:\n",
    "    # 스크롤 전 현재높이 저장\n",
    "    new_height = driver.execute_script(\"return documentElement.scrollHeight\")\n",
    "    print('new_height',new_height)\n",
    "    time.sleep(1)\n",
    "\n",
    "    # while문 멈출지 체크\n",
    "    if count == -1:\n",
    "        # 페이지 끝까지 스크롤 내리기\n",
    "        driver.find_element(By.CSS_SELECTOR,'body').send_keys(Keys.END)\n",
    "        time.sleep(1)\n",
    "\n",
    "        # 스크롤 후 현재높이 저장\n",
    "        last_height = driver.execute_script()"
   ]
  },
  {
   "cell_type": "code",
   "execution_count": null,
   "metadata": {},
   "outputs": [],
   "source": []
  }
 ],
 "metadata": {
  "kernelspec": {
   "display_name": "py",
   "language": "python",
   "name": "python3"
  },
  "language_info": {
   "codemirror_mode": {
    "name": "ipython",
    "version": 3
   },
   "file_extension": ".py",
   "mimetype": "text/x-python",
   "name": "python",
   "nbconvert_exporter": "python",
   "pygments_lexer": "ipython3",
   "version": "3.11.3"
  },
  "orig_nbformat": 4
 },
 "nbformat": 4,
 "nbformat_minor": 2
}
