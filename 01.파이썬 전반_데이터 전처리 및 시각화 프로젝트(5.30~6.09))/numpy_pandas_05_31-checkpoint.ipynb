{
 "cells": [
  {
   "cell_type": "markdown",
   "id": "56ac4a92",
   "metadata": {},
   "source": [
    "# Numpy & Pandas "
   ]
  },
  {
   "cell_type": "code",
   "execution_count": 11,
   "id": "dd80429a",
   "metadata": {},
   "outputs": [],
   "source": [
    "import numpy as np"
   ]
  },
  {
   "cell_type": "code",
   "execution_count": 12,
   "id": "a52094ec",
   "metadata": {},
   "outputs": [],
   "source": [
    "data = [[1,2,3,4],[5,6,7,8],[9,10,11,12],[13,14,15,16]]"
   ]
  },
  {
   "cell_type": "code",
   "execution_count": 13,
   "id": "82c7d1f6",
   "metadata": {},
   "outputs": [],
   "source": [
    "# data = np.array(data)"
   ]
  },
  {
   "cell_type": "code",
   "execution_count": 14,
   "id": "28699f1f",
   "metadata": {},
   "outputs": [],
   "source": [
    "# data"
   ]
  },
  {
   "cell_type": "code",
   "execution_count": 15,
   "id": "fbb66888",
   "metadata": {},
   "outputs": [
    {
     "data": {
      "text/plain": [
       "[[1, 2, 3, 4], [5, 6, 7, 8], [9, 10, 11, 12], [13, 14, 15, 16]]"
      ]
     },
     "execution_count": 15,
     "metadata": {},
     "output_type": "execute_result"
    }
   ],
   "source": [
    "data"
   ]
  },
  {
   "cell_type": "code",
   "execution_count": 16,
   "id": "b463c353",
   "metadata": {},
   "outputs": [],
   "source": [
    "# 네카라쿠배 코테 준비 시 numpy에 의존하면 안됌"
   ]
  },
  {
   "cell_type": "markdown",
   "id": "6b2693c8",
   "metadata": {},
   "source": [
    "# 데이터 출력 방법"
   ]
  },
  {
   "cell_type": "code",
   "execution_count": 17,
   "id": "a67beedf",
   "metadata": {
    "scrolled": true
   },
   "outputs": [
    {
     "name": "stdout",
     "output_type": "stream",
     "text": [
      "[1, 2, 3, 4]\n",
      "[5, 6, 7, 8]\n",
      "[9, 10, 11, 12]\n",
      "[13, 14, 15, 16]\n"
     ]
    }
   ],
   "source": [
    "for row in data:\n",
    "    print(row)"
   ]
  },
  {
   "cell_type": "code",
   "execution_count": 20,
   "id": "8b6a0a54",
   "metadata": {},
   "outputs": [
    {
     "name": "stdout",
     "output_type": "stream",
     "text": [
      "[1, 2, 3, 4]\n",
      "----------\n",
      "[5, 6, 7, 8]\n",
      "----------\n",
      "[9, 10, 11, 12]\n",
      "----------\n",
      "[13, 14, 15, 16]\n",
      "----------\n"
     ]
    }
   ],
   "source": [
    "for row in range(len(data)):\n",
    "    print(data[row])\n",
    "    print(\"-\"*10)"
   ]
  },
  {
   "cell_type": "code",
   "execution_count": 30,
   "id": "03064e52",
   "metadata": {},
   "outputs": [
    {
     "name": "stdout",
     "output_type": "stream",
     "text": [
      "\n",
      ">>row 0 ----------\n",
      "1----------\n",
      "2----------\n",
      "3----------\n",
      "4----------\n",
      "sum : 10\n",
      "\n",
      ">>row 1 ----------\n",
      "5----------\n",
      "6----------\n",
      "7----------\n",
      "8----------\n",
      "sum : 26\n",
      "\n",
      ">>row 2 ----------\n",
      "9----------\n",
      "10----------\n",
      "11----------\n",
      "12----------\n",
      "sum : 42\n",
      "\n",
      ">>row 3 ----------\n",
      "13----------\n",
      "14----------\n",
      "15----------\n",
      "16----------\n",
      "sum : 58\n"
     ]
    }
   ],
   "source": [
    "for cnt1, row in enumerate(data):\n",
    "    print(\"\\n>>row\",cnt1,\"-\"*10)\n",
    "    sum = 0\n",
    "    for cnt2,col in row:\n",
    "        print(str(col)+\"-\"*10)\n",
    "        sum += \n",
    "    print(\"sum :\",sum)"
   ]
  },
  {
   "cell_type": "markdown",
   "id": "22844da0",
   "metadata": {},
   "source": [
    "#### col == j\n",
    "#### row == i"
   ]
  },
  {
   "cell_type": "code",
   "execution_count": 37,
   "id": "0df334ff",
   "metadata": {},
   "outputs": [
    {
     "name": "stdout",
     "output_type": "stream",
     "text": [
      "----------\n",
      "1\n",
      "5\n",
      "9\n",
      "13\n",
      "----------\n",
      "2\n",
      "6\n",
      "10\n",
      "14\n",
      "----------\n",
      "3\n",
      "7\n",
      "11\n",
      "15\n",
      "----------\n",
      "4\n",
      "8\n",
      "12\n",
      "16\n"
     ]
    }
   ],
   "source": [
    "for col in range(len(data)): # col == j\n",
    "    print(\"-\"*10)\n",
    "    for row in range(len(data)): # row == i\n",
    "        print(data[row][col])"
   ]
  },
  {
   "cell_type": "code",
   "execution_count": 41,
   "id": "ba68b1de",
   "metadata": {},
   "outputs": [
    {
     "name": "stdout",
     "output_type": "stream",
     "text": [
      "1\n",
      "5\n",
      "9\n",
      "13\n",
      "colSum :  28\n",
      "2\n",
      "6\n",
      "10\n",
      "14\n",
      "colSum :  32\n",
      "3\n",
      "7\n",
      "11\n",
      "15\n",
      "colSum :  36\n",
      "4\n",
      "8\n",
      "12\n",
      "16\n",
      "colSum :  40\n"
     ]
    }
   ],
   "source": [
    "for i in range(len(data)):\n",
    "    colSum = 0\n",
    "    for j in range(len(data[0])):\n",
    "        colSum += data[j][i]\n",
    "        print(data[j][i])\n",
    "    print(\"colSum : \", colSum)"
   ]
  },
  {
   "cell_type": "markdown",
   "id": "e08e5189",
   "metadata": {},
   "source": [
    "# 작업한 수식 함수로 제작"
   ]
  },
  {
   "cell_type": "code",
   "execution_count": 62,
   "id": "83e19144",
   "metadata": {},
   "outputs": [],
   "source": [
    "class mySum:\n",
    "\n",
    "    ### 행단위 sum\n",
    "    def rowSum(data):\n",
    "        for cnt1, row in enumerate(data):\n",
    "            print(\"\\n>>row\",cnt1,\"-\"*10)\n",
    "            sum = 0\n",
    "            for cnt2,col in enumerate(row):\n",
    "                print(str(col)+\"-\"*10)\n",
    "                sum +=  col\n",
    "            print(\"sum :\",sum)\n",
    "            \n",
    "    ### 행단위 sum\n",
    "    def colSum(data):\n",
    "        for i in range(len(data[0])):\n",
    "            colSum = 0\n",
    "            for j in range(len(data)):\n",
    "                colSum += data[j][i]\n",
    "                print(data[j][i])\n",
    "            print(\"colSum : \", colSum)"
   ]
  },
  {
   "cell_type": "code",
   "execution_count": 63,
   "id": "59742391",
   "metadata": {},
   "outputs": [],
   "source": [
    "obj1 = mySum"
   ]
  },
  {
   "cell_type": "code",
   "execution_count": 64,
   "id": "05e60c12",
   "metadata": {},
   "outputs": [
    {
     "name": "stdout",
     "output_type": "stream",
     "text": [
      "\n",
      ">>row 0 ----------\n",
      "2----------\n",
      "1----------\n",
      "2----------\n",
      "sum : 5\n",
      "\n",
      ">>row 1 ----------\n",
      "2----------\n",
      "3----------\n",
      "4----------\n",
      "sum : 9\n"
     ]
    }
   ],
   "source": [
    "obj1.rowSum(data)"
   ]
  },
  {
   "cell_type": "code",
   "execution_count": 65,
   "id": "8527e605",
   "metadata": {},
   "outputs": [
    {
     "name": "stdout",
     "output_type": "stream",
     "text": [
      "2\n",
      "2\n",
      "colSum :  4\n",
      "1\n",
      "3\n",
      "colSum :  4\n",
      "2\n",
      "4\n",
      "colSum :  6\n"
     ]
    }
   ],
   "source": [
    "obj1.colSum(data)"
   ]
  },
  {
   "cell_type": "code",
   "execution_count": 66,
   "id": "fc625600",
   "metadata": {},
   "outputs": [
    {
     "name": "stdout",
     "output_type": "stream",
     "text": [
      "\n",
      ">>row 0 ----------\n",
      "2----------\n",
      "1----------\n",
      "2----------\n",
      "sum : 5\n",
      "\n",
      ">>row 1 ----------\n",
      "2----------\n",
      "3----------\n",
      "4----------\n",
      "sum : 9\n"
     ]
    }
   ],
   "source": [
    "data = [[2,1,2],[2,3,4]]\n",
    "mySum.rowSum(data)"
   ]
  },
  {
   "cell_type": "code",
   "execution_count": 67,
   "id": "fcef3ae3",
   "metadata": {},
   "outputs": [
    {
     "name": "stdout",
     "output_type": "stream",
     "text": [
      "2\n",
      "2\n",
      "colSum :  4\n",
      "1\n",
      "3\n",
      "colSum :  4\n",
      "2\n",
      "4\n",
      "colSum :  6\n"
     ]
    }
   ],
   "source": [
    "mySum.colSum(data)"
   ]
  },
  {
   "cell_type": "markdown",
   "id": "c575b7d3",
   "metadata": {},
   "source": [
    "# Numpy Random"
   ]
  },
  {
   "cell_type": "code",
   "execution_count": 68,
   "id": "c86e5e23",
   "metadata": {
    "scrolled": true
   },
   "outputs": [
    {
     "data": {
      "text/plain": [
       "array([[0.68497873, 0.48838441, 0.1221608 , 0.87227976],\n",
       "       [0.24514171, 0.62590671, 0.11919491, 0.36497545],\n",
       "       [0.79977466, 0.41153044, 0.89799958, 0.95700698]])"
      ]
     },
     "execution_count": 68,
     "metadata": {},
     "output_type": "execute_result"
    }
   ],
   "source": [
    "np.random.rand(3,4)"
   ]
  },
  {
   "cell_type": "code",
   "execution_count": 69,
   "id": "70507670",
   "metadata": {},
   "outputs": [
    {
     "data": {
      "text/plain": [
       "array([[0.54711936, 0.7629202 , 0.14238146, 0.4625268 ],\n",
       "       [0.93013025, 0.39952575, 0.83051247, 0.24351489],\n",
       "       [0.46517127, 0.43785041, 0.91970867, 0.91186307]])"
      ]
     },
     "execution_count": 69,
     "metadata": {},
     "output_type": "execute_result"
    }
   ],
   "source": [
    "data = np.random.rand(3,4)\n",
    "data"
   ]
  },
  {
   "cell_type": "code",
   "execution_count": 85,
   "id": "7365f1d9",
   "metadata": {},
   "outputs": [],
   "source": [
    "# y1 = np.random.rand(1000)\n",
    "# y2 = np.random.randn(1000)"
   ]
  },
  {
   "cell_type": "code",
   "execution_count": 95,
   "id": "0a203487",
   "metadata": {},
   "outputs": [
    {
     "data": {
      "text/plain": [
       "(array([  3.,   5.,  47., 156., 227., 271., 173.,  79.,  35.,   4.]),\n",
       " array([-3.68119024, -2.97846717, -2.2757441 , -1.57302103, -0.87029796,\n",
       "        -0.16757488,  0.53514819,  1.23787126,  1.94059433,  2.6433174 ,\n",
       "         3.34604047]),\n",
       " <BarContainer object of 10 artists>)"
      ]
     },
     "execution_count": 95,
     "metadata": {},
     "output_type": "execute_result"
    },
    {
     "data": {
      "image/png": "[encoded data removed]",
      "text/plain": [
       "<Figure size 1000x300 with 2 Axes>"
      ]
     },
     "metadata": {},
     "output_type": "display_data"
    }
   ],
   "source": [
    "### 참고\n",
    "import matplotlib.pyplot as plt\n",
    "\n",
    "y1 = np.random.rand(1000)\n",
    "y2 = np.random.randn(1000) # 정규분포\n",
    "\n",
    "plt.figure(figsize=(10,3))\n",
    "plt.subplot(2,1,1)\n",
    "plt.hist(y1)\n",
    "plt.subplot(2,1,2)\n",
    "plt.hist(y2)"
   ]
  },
  {
   "cell_type": "code",
   "execution_count": 157,
   "id": "8fc7a995",
   "metadata": {},
   "outputs": [
    {
     "data": {
      "text/plain": [
       "array([[2.86735811, 2.26192898, 5.13410837, 3.98326752],\n",
       "       [6.95596537, 1.88478848, 4.10991835, 0.12645344],\n",
       "       [3.06332722, 3.69299576, 2.46153093, 6.93920242]])"
      ]
     },
     "execution_count": 157,
     "metadata": {},
     "output_type": "execute_result"
    }
   ],
   "source": [
    "data = np.random.rand(3,4) * 7\n",
    "data"
   ]
  },
  {
   "cell_type": "code",
   "execution_count": 158,
   "id": "9952b762",
   "metadata": {},
   "outputs": [
    {
     "ename": "TypeError",
     "evalue": "only size-1 arrays can be converted to Python scalars",
     "output_type": "error",
     "traceback": [
      "\u001b[1;31m---------------------------------------------------------------------------\u001b[0m",
      "\u001b[1;31mTypeError\u001b[0m                                 Traceback (most recent call last)",
      "Cell \u001b[1;32mIn[158], line 1\u001b[0m\n\u001b[1;32m----> 1\u001b[0m data \u001b[38;5;241m=\u001b[39m \u001b[38;5;28mint\u001b[39m(data)\n",
      "\u001b[1;31mTypeError\u001b[0m: only size-1 arrays can be converted to Python scalars"
     ]
    }
   ],
   "source": [
    "data = int(data)"
   ]
  },
  {
   "cell_type": "code",
   "execution_count": 159,
   "id": "2930170b",
   "metadata": {},
   "outputs": [],
   "source": [
    "data = data.astype('int8')"
   ]
  },
  {
   "cell_type": "code",
   "execution_count": 160,
   "id": "0c148137",
   "metadata": {},
   "outputs": [
    {
     "data": {
      "text/plain": [
       "array([[2, 2, 5, 3],\n",
       "       [6, 1, 4, 0],\n",
       "       [3, 3, 2, 6]], dtype=int8)"
      ]
     },
     "execution_count": 160,
     "metadata": {},
     "output_type": "execute_result"
    }
   ],
   "source": [
    "data"
   ]
  },
  {
   "cell_type": "code",
   "execution_count": 161,
   "id": "48158f12",
   "metadata": {},
   "outputs": [
    {
     "data": {
      "text/plain": [
       "array([[2, 2, 5, 3],\n",
       "       [6, 1, 4, 0],\n",
       "       [3, 3, 2, 6]], dtype=int8)"
      ]
     },
     "execution_count": 161,
     "metadata": {},
     "output_type": "execute_result"
    }
   ],
   "source": [
    "for i in range(len(data)):\n",
    "    for j in range(len(data[0])):\n",
    "        data[i][j] = float(data[i][j])\n",
    "data"
   ]
  },
  {
   "cell_type": "markdown",
   "id": "51216134",
   "metadata": {},
   "source": [
    "# Numpy 연산"
   ]
  },
  {
   "cell_type": "code",
   "execution_count": 145,
   "id": "326bcfd4",
   "metadata": {},
   "outputs": [
    {
     "data": {
      "text/plain": [
       "34"
      ]
     },
     "execution_count": 145,
     "metadata": {},
     "output_type": "execute_result"
    }
   ],
   "source": [
    "# Shift + Tab 누르면 함수 설명 나옴\n",
    "\n",
    "np.sum(data)"
   ]
  },
  {
   "cell_type": "code",
   "execution_count": 146,
   "id": "dea9609a",
   "metadata": {},
   "outputs": [
    {
     "data": {
      "text/plain": [
       "array([ 0, 10, 12, 12])"
      ]
     },
     "execution_count": 146,
     "metadata": {},
     "output_type": "execute_result"
    }
   ],
   "source": [
    "np.sum(data,axis=0)"
   ]
  },
  {
   "cell_type": "code",
   "execution_count": 147,
   "id": "f3d0a3e0",
   "metadata": {},
   "outputs": [
    {
     "data": {
      "text/plain": [
       "array([11,  8, 15])"
      ]
     },
     "execution_count": 147,
     "metadata": {},
     "output_type": "execute_result"
    }
   ],
   "source": [
    "np.sum(data,axis=1)"
   ]
  },
  {
   "cell_type": "code",
   "execution_count": 148,
   "id": "7d9bbea8",
   "metadata": {},
   "outputs": [
    {
     "data": {
      "text/plain": [
       "array([11,  8, 15])"
      ]
     },
     "execution_count": 148,
     "metadata": {},
     "output_type": "execute_result"
    }
   ],
   "source": [
    "np.sum(data,axis=-1)"
   ]
  },
  {
   "cell_type": "markdown",
   "id": "9ad622c2",
   "metadata": {},
   "source": [
    "# Numpy 조건문"
   ]
  },
  {
   "cell_type": "code",
   "execution_count": 162,
   "id": "e61b0733",
   "metadata": {},
   "outputs": [
    {
     "data": {
      "text/plain": [
       "array([[2, 2, 5, 3],\n",
       "       [6, 1, 4, 0],\n",
       "       [3, 3, 2, 6]], dtype=int8)"
      ]
     },
     "execution_count": 162,
     "metadata": {},
     "output_type": "execute_result"
    }
   ],
   "source": [
    "data"
   ]
  },
  {
   "cell_type": "code",
   "execution_count": 163,
   "id": "769739de",
   "metadata": {},
   "outputs": [
    {
     "data": {
      "text/plain": [
       "array([[0, 0, 5, 3],\n",
       "       [6, 0, 4, 0],\n",
       "       [3, 3, 0, 6]], dtype=int8)"
      ]
     },
     "execution_count": 163,
     "metadata": {},
     "output_type": "execute_result"
    }
   ],
   "source": [
    "# numpy는 인덱스에 조건문을 넣을 수 있음\n",
    "data[data<3] = 0\n",
    "data"
   ]
  },
  {
   "cell_type": "code",
   "execution_count": 164,
   "id": "ef9650b0",
   "metadata": {},
   "outputs": [
    {
     "data": {
      "text/plain": [
       "array([[-1, -1,  5,  3],\n",
       "       [ 6, -1,  4, -1],\n",
       "       [ 3,  3, -1,  6]], dtype=int8)"
      ]
     },
     "execution_count": 164,
     "metadata": {},
     "output_type": "execute_result"
    }
   ],
   "source": [
    "data[data==0] = -1\n",
    "data"
   ]
  },
  {
   "cell_type": "code",
   "execution_count": 165,
   "id": "faf69254",
   "metadata": {},
   "outputs": [
    {
     "data": {
      "text/plain": [
       "array([[-1, -1, -2, -2],\n",
       "       [-2, -1, -2, -1],\n",
       "       [-2, -2, -1, -2]], dtype=int8)"
      ]
     },
     "execution_count": 165,
     "metadata": {},
     "output_type": "execute_result"
    }
   ],
   "source": [
    "data[(data>3) | (data==3)] = -2\n",
    "data"
   ]
  },
  {
   "cell_type": "code",
   "execution_count": 167,
   "id": "1d3de995",
   "metadata": {},
   "outputs": [
    {
     "data": {
      "text/plain": [
       "(array([0, 0, 0, 0, 1, 1, 1, 1, 2, 2, 2, 2], dtype=int64),\n",
       " array([0, 1, 2, 3, 0, 1, 2, 3, 0, 1, 2, 3], dtype=int64))"
      ]
     },
     "execution_count": 167,
     "metadata": {},
     "output_type": "execute_result"
    }
   ],
   "source": [
    "np.where(data<5)"
   ]
  },
  {
   "cell_type": "code",
   "execution_count": 168,
   "id": "2a468ed0",
   "metadata": {},
   "outputs": [
    {
     "data": {
      "text/plain": [
       "(array([0, 0, 1, 1, 2], dtype=int64), array([0, 1, 1, 3, 2], dtype=int64))"
      ]
     },
     "execution_count": 168,
     "metadata": {},
     "output_type": "execute_result"
    }
   ],
   "source": [
    "np.where(data==-1)"
   ]
  },
  {
   "cell_type": "code",
   "execution_count": 170,
   "id": "e50ea812",
   "metadata": {},
   "outputs": [
    {
     "data": {
      "text/plain": [
       "[array([[ True,  True,  True,  True],\n",
       "        [ True,  True,  True,  True],\n",
       "        [ True,  True,  True,  True]])]"
      ]
     },
     "execution_count": 170,
     "metadata": {},
     "output_type": "execute_result"
    }
   ],
   "source": [
    "[(data==-1)|(data==-2)]"
   ]
  },
  {
   "cell_type": "code",
   "execution_count": 172,
   "id": "57460398",
   "metadata": {},
   "outputs": [
    {
     "data": {
      "text/plain": [
       "array([[3, 3, 3, 3],\n",
       "       [3, 3, 3, 3],\n",
       "       [3, 3, 3, 3]], dtype=int8)"
      ]
     },
     "execution_count": 172,
     "metadata": {},
     "output_type": "execute_result"
    }
   ],
   "source": [
    "data[np.logical_and(data>-3,data<1)] = 3\n",
    "data"
   ]
  },
  {
   "cell_type": "code",
   "execution_count": null,
   "id": "80e47dee",
   "metadata": {},
   "outputs": [],
   "source": []
  }
 ],
 "metadata": {
  "kernelspec": {
   "display_name": "Python 3 (ipykernel)",
   "language": "python",
   "name": "python3"
  },
  "language_info": {
   "codemirror_mode": {
    "name": "ipython",
    "version": 3
   },
   "file_extension": ".py",
   "mimetype": "text/x-python",
   "name": "python",
   "nbconvert_exporter": "python",
   "pygments_lexer": "ipython3",
   "version": "3.11.3"
  }
 },
 "nbformat": 4,
 "nbformat_minor": 5
}
