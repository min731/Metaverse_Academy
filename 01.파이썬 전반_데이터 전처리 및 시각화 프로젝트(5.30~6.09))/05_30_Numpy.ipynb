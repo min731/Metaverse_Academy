{
 "cells": [
  {
   "cell_type": "markdown",
   "id": "1d8fb833",
   "metadata": {},
   "source": [
    "# Numpy "
   ]
  },
  {
   "cell_type": "code",
   "execution_count": 1,
   "id": "2af1bf74",
   "metadata": {},
   "outputs": [],
   "source": [
    "# Jupyter Notebook 은 에디터일 뿐임\n",
    "# VIew - Toggle Line Numbers : 줄마다 숫자\n",
    "# Crtl + Enter 실행"
   ]
  },
  {
   "cell_type": "code",
   "execution_count": 2,
   "id": "07b3ebdd",
   "metadata": {},
   "outputs": [
    {
     "name": "stdout",
     "output_type": "stream",
     "text": [
      "Name: numpy\n",
      "Version: 1.24.3\n",
      "Summary: Fundamental package for array computing in Python\n",
      "Home-page: https://www.numpy.org\n",
      "Author: Travis E. Oliphant et al.\n",
      "Author-email: \n",
      "License: BSD-3-Clause\n",
      "Location: C:\\Users\\user\\miniconda3\\envs\\py\\Lib\\site-packages\n",
      "Requires: \n",
      "Required-by: mkl-fft, mkl-random\n"
     ]
    }
   ],
   "source": [
    "!pip show numpy"
   ]
  },
  {
   "cell_type": "code",
   "execution_count": 19,
   "id": "39bdfb97",
   "metadata": {},
   "outputs": [
    {
     "data": {
      "text/plain": [
       "array([ 0,  1,  2,  3,  4,  5,  6,  7,  8,  9, 10, 11, 12, 13, 14, 15, 16,\n",
       "       17, 18, 19, 20, 21, 22, 23])"
      ]
     },
     "execution_count": 19,
     "metadata": {},
     "output_type": "execute_result"
    }
   ],
   "source": [
    "import numpy as np ### numpy 폴더의 init.py를 실행함\n",
    "# from PIL import Image\n",
    "\n",
    "# arange(n) = 0 ~ n-1 까지\n",
    "x = np.arange(24)\n",
    "x"
   ]
  },
  {
   "cell_type": "code",
   "execution_count": 20,
   "id": "d233b91b",
   "metadata": {},
   "outputs": [
    {
     "data": {
      "text/plain": [
       "dtype('int32')"
      ]
     },
     "execution_count": 20,
     "metadata": {},
     "output_type": "execute_result"
    }
   ],
   "source": [
    "# 데이터 타입 확인\n",
    "x.dtype"
   ]
  },
  {
   "cell_type": "code",
   "execution_count": 21,
   "id": "b93ec3e5",
   "metadata": {},
   "outputs": [
    {
     "data": {
      "text/plain": [
       "0"
      ]
     },
     "execution_count": 21,
     "metadata": {},
     "output_type": "execute_result"
    }
   ],
   "source": [
    "np.min(x)"
   ]
  },
  {
   "cell_type": "code",
   "execution_count": 22,
   "id": "77610478",
   "metadata": {},
   "outputs": [],
   "source": [
    "# 데이터타입에 따라 범위가 달라짐\n",
    "# 이미지 데이터 RGB 색깔은 0~255 으로 표현\n",
    "# 1111111 ~ 0000000 비트 7개로 표현\n",
    "# int32로 해도 되지만 굳이 데이터형을 고르자면 uint8로 해도됌\n",
    "# 이미지 프로젝트 할때 int8 != int16 이라서 오류가 뜰 수도 있음\n",
    "\n",
    "# uint8 : 부호없는 8비트 정수형"
   ]
  },
  {
   "cell_type": "code",
   "execution_count": 23,
   "id": "07db91f5",
   "metadata": {},
   "outputs": [],
   "source": [
    "# 파이썬은 자료형을 선언하지 않다보니\n",
    "# 메모리 관리가 잘 안될 수 있음"
   ]
  },
  {
   "cell_type": "code",
   "execution_count": 24,
   "id": "2a4f081f",
   "metadata": {},
   "outputs": [
    {
     "data": {
      "text/plain": [
       "24"
      ]
     },
     "execution_count": 24,
     "metadata": {},
     "output_type": "execute_result"
    }
   ],
   "source": [
    "len(x)"
   ]
  },
  {
   "cell_type": "code",
   "execution_count": 25,
   "id": "04c4d82d",
   "metadata": {},
   "outputs": [
    {
     "data": {
      "text/plain": [
       "array([ 0.,  1.,  2.,  3.,  4.,  5.,  6.,  7.,  8.,  9., 10., 11., 12.,\n",
       "       13., 14., 15., 16., 17., 18., 19., 20., 21., 22., 23.],\n",
       "      dtype=float32)"
      ]
     },
     "execution_count": 25,
     "metadata": {},
     "output_type": "execute_result"
    }
   ],
   "source": [
    "# 타입 변경\n",
    "x.astype('float32')"
   ]
  },
  {
   "cell_type": "code",
   "execution_count": 26,
   "id": "4d148b8c",
   "metadata": {},
   "outputs": [
    {
     "data": {
      "text/plain": [
       "numpy.int32"
      ]
     },
     "execution_count": 26,
     "metadata": {},
     "output_type": "execute_result"
    }
   ],
   "source": [
    "type(x[0])"
   ]
  },
  {
   "cell_type": "code",
   "execution_count": 35,
   "id": "389b5e3b",
   "metadata": {},
   "outputs": [
    {
     "data": {
      "text/plain": [
       "array([ 0.8322152 ,  0.80755997, -0.60881285, -0.1720707 , -0.51269186])"
      ]
     },
     "execution_count": 35,
     "metadata": {},
     "output_type": "execute_result"
    }
   ],
   "source": [
    "# 정규분포 무작위 샘플\n",
    "\n",
    "x = np.random.normal(size=5)\n",
    "x"
   ]
  },
  {
   "cell_type": "code",
   "execution_count": 36,
   "id": "fca9ff57",
   "metadata": {},
   "outputs": [
    {
     "data": {
      "text/plain": [
       "array([0., 0., 0., 0., 0.])"
      ]
     },
     "execution_count": 36,
     "metadata": {},
     "output_type": "execute_result"
    }
   ],
   "source": [
    "# 데이터 값의 빈 공간을 만들어야 할 때\n",
    "\n",
    "tmp = np.zeros(5)\n",
    "tmp"
   ]
  },
  {
   "cell_type": "code",
   "execution_count": 39,
   "id": "5e4a8561",
   "metadata": {},
   "outputs": [
    {
     "data": {
      "text/plain": [
       "array([256., 256., 256., 256., 256.])"
      ]
     },
     "execution_count": 39,
     "metadata": {},
     "output_type": "execute_result"
    }
   ],
   "source": [
    "# 전체에 적용\n",
    "tmp[...] = 256\n",
    "tmp"
   ]
  },
  {
   "cell_type": "code",
   "execution_count": 40,
   "id": "2fd808d1",
   "metadata": {},
   "outputs": [
    {
     "data": {
      "text/plain": [
       "dtype('float64')"
      ]
     },
     "execution_count": 40,
     "metadata": {},
     "output_type": "execute_result"
    }
   ],
   "source": [
    "# numpy 생성할 때 float64 타입으로 만들어짐\n",
    "tmp.dtype"
   ]
  },
  {
   "cell_type": "code",
   "execution_count": 41,
   "id": "fb01a236",
   "metadata": {},
   "outputs": [
    {
     "data": {
      "text/plain": [
       "array([0, 0, 0, 0, 0], dtype=uint8)"
      ]
     },
     "execution_count": 41,
     "metadata": {},
     "output_type": "execute_result"
    }
   ],
   "source": [
    "# uint8은 255까지만 표현하기 때문에 0 으로 표현됌\n",
    "\n",
    "tmp.astype('uint8')"
   ]
  },
  {
   "cell_type": "code",
   "execution_count": 42,
   "id": "008c6822",
   "metadata": {},
   "outputs": [
    {
     "data": {
      "text/plain": [
       "array([256., 256., 256., 256., 256.])"
      ]
     },
     "execution_count": 42,
     "metadata": {},
     "output_type": "execute_result"
    }
   ],
   "source": [
    "# 반환해야 적용됌\n",
    "tmp"
   ]
  },
  {
   "cell_type": "code",
   "execution_count": 43,
   "id": "52bb9274",
   "metadata": {},
   "outputs": [],
   "source": [
    "# 이미지에 색이 이상하다? => 타입 변환 필요\n",
    "# 이미지라고 해서 음수값이 없는 것은 아님\n",
    "# 정규화 시 : -127~ 127 로 바꿔야할 수도 있음"
   ]
  },
  {
   "cell_type": "code",
   "execution_count": 48,
   "id": "8a6fc39a",
   "metadata": {},
   "outputs": [
    {
     "data": {
      "text/plain": [
       "[[50, 50, 255, 0, 0, 5], [255, 0, 0, 255, 0, 0]]"
      ]
     },
     "execution_count": 48,
     "metadata": {},
     "output_type": "execute_result"
    }
   ],
   "source": [
    "# numpy vs list\n",
    "# 0 => 255 색깔을 밝게 하고 싶을 때\n",
    "a = [[0,0,255,0,0,5],\n",
    "     [255,0,0,255,0,0]]\n",
    "\n",
    "# list 구조\n",
    "# 장점: 막 쓴다\n",
    "# 단점: 일일히 작업해주어야함, 속도가 느리다\n",
    "a[0][0] = a[0][0] + 50\n",
    "a[0][1] = a[0][1] + 50\n",
    "a"
   ]
  },
  {
   "cell_type": "code",
   "execution_count": 49,
   "id": "f773a079",
   "metadata": {
    "scrolled": true
   },
   "outputs": [
    {
     "ename": "TypeError",
     "evalue": "can only concatenate list (not \"int\") to list",
     "output_type": "error",
     "traceback": [
      "\u001b[1;31m---------------------------------------------------------------------------\u001b[0m",
      "\u001b[1;31mTypeError\u001b[0m                                 Traceback (most recent call last)",
      "Cell \u001b[1;32mIn[49], line 1\u001b[0m\n\u001b[1;32m----> 1\u001b[0m a \u001b[38;5;241m+\u001b[39m\u001b[38;5;241m3\u001b[39m\n",
      "\u001b[1;31mTypeError\u001b[0m: can only concatenate list (not \"int\") to list"
     ]
    }
   ],
   "source": [
    "# 한번에 연산 안됌\n",
    "a + 3 "
   ]
  },
  {
   "cell_type": "code",
   "execution_count": 51,
   "id": "9732f728",
   "metadata": {},
   "outputs": [
    {
     "data": {
      "text/plain": [
       "[[50, 50, 255, 0, 0, 5],\n",
       " [255, 0, 0, 255, 0, 0],\n",
       " [50, 50, 255, 0, 0, 5],\n",
       " [255, 0, 0, 255, 0, 0],\n",
       " [50, 50, 255, 0, 0, 5],\n",
       " [255, 0, 0, 255, 0, 0]]"
      ]
     },
     "execution_count": 51,
     "metadata": {},
     "output_type": "execute_result"
    }
   ],
   "source": [
    "# 전체가 반복됌\n",
    "a * 3"
   ]
  },
  {
   "cell_type": "code",
   "execution_count": 55,
   "id": "f3c5930a",
   "metadata": {},
   "outputs": [
    {
     "data": {
      "text/plain": [
       "(numpy.ndarray,\n",
       " array([[ 50,  50, 255,   0,   0,   5],\n",
       "        [255,   0,   0, 255,   0,   0]]))"
      ]
     },
     "execution_count": 55,
     "metadata": {},
     "output_type": "execute_result"
    }
   ],
   "source": [
    "# numpy a[0,0]\n",
    "b = np.array(a)\n",
    "type(b), b"
   ]
  },
  {
   "cell_type": "code",
   "execution_count": 53,
   "id": "f608f6ed",
   "metadata": {},
   "outputs": [
    {
     "data": {
      "text/plain": [
       "array([[ 53,  53, 258,   3,   3,   8],\n",
       "       [258,   3,   3, 258,   3,   3]])"
      ]
     },
     "execution_count": 53,
     "metadata": {},
     "output_type": "execute_result"
    }
   ],
   "source": [
    "# 한번에 연산 가능\n",
    "# broadcast 가능\n",
    "# 연산할 것이면 array! , 인공지능은 array\n",
    "# array가 속도가 훨씬 빠름\n",
    "\n",
    "b + 3"
   ]
  },
  {
   "cell_type": "code",
   "execution_count": 54,
   "id": "cd146be6",
   "metadata": {},
   "outputs": [
    {
     "data": {
      "text/plain": [
       "array([[150, 150, 765,   0,   0,  15],\n",
       "       [765,   0,   0, 765,   0,   0]])"
      ]
     },
     "execution_count": 54,
     "metadata": {},
     "output_type": "execute_result"
    }
   ],
   "source": [
    "b * 3"
   ]
  },
  {
   "cell_type": "code",
   "execution_count": 56,
   "id": "a27c1e3a",
   "metadata": {},
   "outputs": [],
   "source": [
    "# 파이썬은 for를 안써야함\n",
    "# numpy의 문법으로 해결 가능함"
   ]
  },
  {
   "cell_type": "code",
   "execution_count": 57,
   "id": "9102fd80",
   "metadata": {},
   "outputs": [],
   "source": [
    "# 스칼라(크기) -> 벡터(크기와 방향) -> array -> 텐서\n",
    "\n",
    "# 스칼라 \n",
    "a = 3\n",
    "\n",
    "# 벡터\n",
    "# 포인터 구조를 갖고 있음\n",
    "a = [3]\n",
    "\n",
    "# array : 같은 배열의 크기와 같은 데이터 타입을 가지고 있는 데이터의 집합체\n",
    "\n",
    "# 크기가 다르기 때문에 array 구조 아님\n",
    "# 문자가 있기 때문에 array 구조 아님\n",
    "a = [[1,2], [3,4,5], ['rk',1]]\n",
    "\n",
    "\n",
    "a = [[2,3,1],[2,1,2]]\n",
    "b = [[1,1,1],[4,6,6]]\n",
    "\n",
    "# 텐서\n",
    "# 한 차원 더 확장함 (+array)\n",
    "tensor1 = [\n",
    "        [[2,3,1],[2,1,2]],\n",
    "        [[1,1,1],[4,6,6]]       \n",
    "        ]\n",
    "\n",
    "# 텐서임\n",
    "tensor2 = [\n",
    "        [[2,3,1],[2,1,2]]       \n",
    "        ]"
   ]
  },
  {
   "cell_type": "code",
   "execution_count": 60,
   "id": "c0894c0b",
   "metadata": {},
   "outputs": [
    {
     "data": {
      "text/plain": [
       "array([ 0,  1,  2,  3,  4,  5,  6,  7,  8,  9, 10, 11, 12, 13, 14, 15, 16,\n",
       "       17, 18, 19, 20, 21, 22, 23])"
      ]
     },
     "execution_count": 60,
     "metadata": {},
     "output_type": "execute_result"
    }
   ],
   "source": [
    "x = np.arange(24)\n",
    "x"
   ]
  },
  {
   "cell_type": "code",
   "execution_count": 62,
   "id": "1d7118e5",
   "metadata": {},
   "outputs": [
    {
     "data": {
      "text/plain": [
       "array([[ 0,  1,  2,  3,  4,  5,  6,  7,  8,  9, 10, 11],\n",
       "       [12, 13, 14, 15, 16, 17, 18, 19, 20, 21, 22, 23]])"
      ]
     },
     "execution_count": 62,
     "metadata": {},
     "output_type": "execute_result"
    }
   ],
   "source": [
    "x1 = x.reshape((2,12))\n",
    "x1"
   ]
  },
  {
   "cell_type": "code",
   "execution_count": 64,
   "id": "cbd2ea36",
   "metadata": {},
   "outputs": [
    {
     "data": {
      "text/plain": [
       "array([[ 0,  1,  2,  3,  4,  5],\n",
       "       [ 6,  7,  8,  9, 10, 11],\n",
       "       [12, 13, 14, 15, 16, 17],\n",
       "       [18, 19, 20, 21, 22, 23]])"
      ]
     },
     "execution_count": 64,
     "metadata": {},
     "output_type": "execute_result"
    }
   ],
   "source": [
    "x1 = x.reshape((4,6))\n",
    "x1"
   ]
  },
  {
   "cell_type": "code",
   "execution_count": 66,
   "id": "bf19e640",
   "metadata": {},
   "outputs": [
    {
     "data": {
      "text/plain": [
       "((24,), (4, 6))"
      ]
     },
     "execution_count": 66,
     "metadata": {},
     "output_type": "execute_result"
    }
   ],
   "source": [
    "np.shape(x), np.shape(x1)"
   ]
  },
  {
   "cell_type": "code",
   "execution_count": 73,
   "id": "aff8aa83",
   "metadata": {},
   "outputs": [
    {
     "data": {
      "text/plain": [
       "(array([ 0,  1,  2,  3,  4,  5,  6,  7,  8,  9, 10, 11, 12, 13, 14, 15, 16,\n",
       "        17, 18, 19, 20, 21, 22, 23]),\n",
       " array([[ 0],\n",
       "        [ 1],\n",
       "        [ 2],\n",
       "        [ 3],\n",
       "        [ 4],\n",
       "        [ 5],\n",
       "        [ 6],\n",
       "        [ 7],\n",
       "        [ 8],\n",
       "        [ 9],\n",
       "        [10],\n",
       "        [11],\n",
       "        [12],\n",
       "        [13],\n",
       "        [14],\n",
       "        [15],\n",
       "        [16],\n",
       "        [17],\n",
       "        [18],\n",
       "        [19],\n",
       "        [20],\n",
       "        [21],\n",
       "        [22],\n",
       "        [23]]))"
      ]
     },
     "execution_count": 73,
     "metadata": {},
     "output_type": "execute_result"
    }
   ],
   "source": [
    "x2 = x.reshape((24,)) ### 각 행에 1개의 스칼라 값이 있음\n",
    "x3 = x.reshape((24,1)) ### 각 행에 1개의 벡터값이 있음\n",
    "\n",
    "x2, x3"
   ]
  },
  {
   "cell_type": "code",
   "execution_count": 74,
   "id": "b9628646",
   "metadata": {},
   "outputs": [
    {
     "data": {
      "text/plain": [
       "(0, array([0]), 0)"
      ]
     },
     "execution_count": 74,
     "metadata": {},
     "output_type": "execute_result"
    }
   ],
   "source": [
    "x2[0], x3[0], x3[0][0]"
   ]
  },
  {
   "cell_type": "code",
   "execution_count": 75,
   "id": "4dcb0cbf",
   "metadata": {},
   "outputs": [],
   "source": [
    "# 필터 사이즈 = 3x3\n",
    "# 커널 갯수 = 5\n",
    "# 몇 개의 커널 수가 특징을 잘 나타낼 수 있는지?\n",
    "\n",
    "# 합성곱신경망 공식\n",
    "# array에 무작위로 숫자를 뿌린다 (잘나오는 랜덤 값이 이미 만들어진게 전이 학습,논문 참고)\n",
    "# reshape : 차원 변경\n",
    "# flatten : 일차원으로 변경"
   ]
  },
  {
   "cell_type": "code",
   "execution_count": 76,
   "id": "a7832b1d",
   "metadata": {},
   "outputs": [
    {
     "data": {
      "text/plain": [
       "array([ 0,  1,  2,  3,  4,  5,  6,  7,  8,  9, 10, 11, 12, 13, 14, 15, 16,\n",
       "       17, 18, 19, 20, 21, 22, 23])"
      ]
     },
     "execution_count": 76,
     "metadata": {},
     "output_type": "execute_result"
    }
   ],
   "source": [
    "x"
   ]
  },
  {
   "cell_type": "code",
   "execution_count": 77,
   "id": "142456c8",
   "metadata": {},
   "outputs": [
    {
     "data": {
      "text/plain": [
       "array([[[ 0,  1,  2,  3],\n",
       "        [ 4,  5,  6,  7],\n",
       "        [ 8,  9, 10, 11],\n",
       "        [12, 13, 14, 15],\n",
       "        [16, 17, 18, 19],\n",
       "        [20, 21, 22, 23]]])"
      ]
     },
     "execution_count": 77,
     "metadata": {},
     "output_type": "execute_result"
    }
   ],
   "source": [
    "# -1은 알아서 해라\n",
    "x.reshape((1,6,-1))"
   ]
  },
  {
   "cell_type": "code",
   "execution_count": 78,
   "id": "70a480d7",
   "metadata": {},
   "outputs": [
    {
     "data": {
      "text/plain": [
       "array([[[ 0,  1,  2,  3,  4,  5],\n",
       "        [ 6,  7,  8,  9, 10, 11],\n",
       "        [12, 13, 14, 15, 16, 17],\n",
       "        [18, 19, 20, 21, 22, 23]]])"
      ]
     },
     "execution_count": 78,
     "metadata": {},
     "output_type": "execute_result"
    }
   ],
   "source": [
    "x.reshape((1,4,-1))"
   ]
  },
  {
   "cell_type": "code",
   "execution_count": 79,
   "id": "0582f415",
   "metadata": {},
   "outputs": [
    {
     "ename": "ValueError",
     "evalue": "cannot reshape array of size 24 into shape (1,5,newaxis)",
     "output_type": "error",
     "traceback": [
      "\u001b[1;31m---------------------------------------------------------------------------\u001b[0m",
      "\u001b[1;31mValueError\u001b[0m                                Traceback (most recent call last)",
      "Cell \u001b[1;32mIn[79], line 1\u001b[0m\n\u001b[1;32m----> 1\u001b[0m x\u001b[38;5;241m.\u001b[39mreshape((\u001b[38;5;241m1\u001b[39m,\u001b[38;5;241m5\u001b[39m,\u001b[38;5;241m-\u001b[39m\u001b[38;5;241m1\u001b[39m))\n",
      "\u001b[1;31mValueError\u001b[0m: cannot reshape array of size 24 into shape (1,5,newaxis)"
     ]
    }
   ],
   "source": [
    "# 사이즈가 안맞으면 안나옴\n",
    "x.reshape((1,5,-1))"
   ]
  },
  {
   "cell_type": "code",
   "execution_count": 80,
   "id": "88e9cd48",
   "metadata": {},
   "outputs": [],
   "source": [
    "# 주어진 데이터가\n",
    "# (1,24,1) 일 수도 있음\n",
    "# array 인덱싱을 통해 데이터를 꺼내올 수 있으면 됌"
   ]
  },
  {
   "cell_type": "code",
   "execution_count": 85,
   "id": "912ff7b6",
   "metadata": {},
   "outputs": [
    {
     "data": {
      "text/plain": [
       "(list,\n",
       " list,\n",
       " [[[100, 5, 0, 11], [0, 255, 0, 0]], [[100, 50, 0, 100], [0, 255, 257, 0]]],\n",
       " list,\n",
       " array([[[100,   5,   0,  11],\n",
       "         [  0, 255,   0,   0]],\n",
       " \n",
       "        [[100,  50,   0, 100],\n",
       "         [  0, 255, 257,   0]]]))"
      ]
     },
     "execution_count": 85,
     "metadata": {},
     "output_type": "execute_result"
    }
   ],
   "source": [
    "x1 = [[100,5,0,11],[0,255,0,0]]\n",
    "x2 = [[100,50,0,100],[0,255,257,0]]\n",
    "img = [x1,x2]\n",
    "type(x1), type(x2),img, type(img) , np.array(img)"
   ]
  },
  {
   "cell_type": "code",
   "execution_count": 90,
   "id": "f9846788",
   "metadata": {},
   "outputs": [
    {
     "data": {
      "text/plain": [
       "numpy.ndarray"
      ]
     },
     "execution_count": 90,
     "metadata": {},
     "output_type": "execute_result"
    }
   ],
   "source": [
    "img = np.array(img)\n",
    "type(img)"
   ]
  },
  {
   "cell_type": "code",
   "execution_count": 91,
   "id": "88a5f6db",
   "metadata": {},
   "outputs": [
    {
     "data": {
      "text/plain": [
       "array([[[200, 105, 100, 111],\n",
       "        [100, 355, 100, 100]],\n",
       "\n",
       "       [[200, 150, 100, 200],\n",
       "        [100, 355, 357, 100]]])"
      ]
     },
     "execution_count": 91,
     "metadata": {},
     "output_type": "execute_result"
    }
   ],
   "source": [
    "img"
   ]
  },
  {
   "cell_type": "code",
   "execution_count": 92,
   "id": "20dc450b",
   "metadata": {},
   "outputs": [
    {
     "data": {
      "text/plain": [
       "array([[[250, 155, 150, 161],\n",
       "        [150, 405, 150, 150]],\n",
       "\n",
       "       [[250, 200, 150, 250],\n",
       "        [150, 405, 407, 150]]])"
      ]
     },
     "execution_count": 92,
     "metadata": {},
     "output_type": "execute_result"
    }
   ],
   "source": [
    "img = img + 50\n",
    "img"
   ]
  },
  {
   "cell_type": "code",
   "execution_count": 93,
   "id": "903e8e99",
   "metadata": {},
   "outputs": [
    {
     "data": {
      "text/plain": [
       "dtype('int32')"
      ]
     },
     "execution_count": 93,
     "metadata": {},
     "output_type": "execute_result"
    }
   ],
   "source": [
    "# uint8로 바꾸어 주어야 0~255 이미지를 표현할 수 있음\n",
    "img.dtype"
   ]
  },
  {
   "cell_type": "code",
   "execution_count": 94,
   "id": "4b46115b",
   "metadata": {},
   "outputs": [
    {
     "data": {
      "text/plain": [
       "array([[[250, 155, 150, 161],\n",
       "        [150, 149, 150, 150]],\n",
       "\n",
       "       [[250, 200, 150, 250],\n",
       "        [150, 149, 151, 150]]], dtype=uint8)"
      ]
     },
     "execution_count": 94,
     "metadata": {},
     "output_type": "execute_result"
    }
   ],
   "source": [
    "img = img.astype('uint8')\n",
    "img"
   ]
  },
  {
   "cell_type": "code",
   "execution_count": 95,
   "id": "80e1719d",
   "metadata": {},
   "outputs": [
    {
     "data": {
      "text/plain": [
       "(2, 2, 4)"
      ]
     },
     "execution_count": 95,
     "metadata": {},
     "output_type": "execute_result"
    }
   ],
   "source": [
    "x1 = np.array([[100,5,0,11],[0,255,0,0]]) # array\n",
    "x2 = np.array([[100,50,0,100],[0,255,257,0]]) # array\n",
    "img = [x1,x2] # tensor\n",
    "np.shape(img)"
   ]
  },
  {
   "cell_type": "code",
   "execution_count": 96,
   "id": "443163b1",
   "metadata": {},
   "outputs": [
    {
     "data": {
      "text/plain": [
       "[array([[100,   5,   0,  11],\n",
       "        [  0, 255,   0,   0]]),\n",
       " array([[100,  50,   0, 100],\n",
       "        [  0, 255, 257,   0]])]"
      ]
     },
     "execution_count": 96,
     "metadata": {},
     "output_type": "execute_result"
    }
   ],
   "source": [
    "img"
   ]
  },
  {
   "cell_type": "code",
   "execution_count": 97,
   "id": "d23cb318",
   "metadata": {},
   "outputs": [
    {
     "name": "stdout",
     "output_type": "stream",
     "text": [
      "Collecting matplotlib\n",
      "  Downloading matplotlib-3.7.1-cp311-cp311-win_amd64.whl (7.6 MB)\n",
      "     ---------------------------------------- 0.0/7.6 MB ? eta -:--:--\n",
      "     -- ------------------------------------- 0.4/7.6 MB 9.2 MB/s eta 0:00:01\n",
      "     ------- -------------------------------- 1.4/7.6 MB 14.3 MB/s eta 0:00:01\n",
      "     ---------- ----------------------------- 2.1/7.6 MB 16.6 MB/s eta 0:00:01\n",
      "     ---------- ----------------------------- 2.1/7.6 MB 16.6 MB/s eta 0:00:01\n",
      "     ----------- ---------------------------- 2.1/7.6 MB 8.4 MB/s eta 0:00:01\n",
      "     -------------------- ------------------- 3.9/7.6 MB 13.0 MB/s eta 0:00:01\n",
      "     --------------------------- ------------ 5.3/7.6 MB 16.2 MB/s eta 0:00:01\n",
      "     -------------------------------------- - 7.4/7.6 MB 19.0 MB/s eta 0:00:01\n",
      "     ---------------------------------------- 7.6/7.6 MB 18.0 MB/s eta 0:00:00\n",
      "Collecting contourpy>=1.0.1\n",
      "  Downloading contourpy-1.0.7-cp311-cp311-win_amd64.whl (162 kB)\n",
      "     ---------------------------------------- 0.0/163.0 kB ? eta -:--:--\n",
      "     ---------------------------------------- 163.0/163.0 kB ? eta 0:00:00\n",
      "Collecting cycler>=0.10\n",
      "  Downloading cycler-0.11.0-py3-none-any.whl (6.4 kB)\n",
      "Collecting fonttools>=4.22.0\n",
      "  Downloading fonttools-4.39.4-py3-none-any.whl (1.0 MB)\n",
      "     ---------------------------------------- 0.0/1.0 MB ? eta -:--:--\n",
      "     ---------------------------------------- 1.0/1.0 MB 32.3 MB/s eta 0:00:00\n",
      "Collecting kiwisolver>=1.0.1\n",
      "  Downloading kiwisolver-1.4.4-cp311-cp311-win_amd64.whl (55 kB)\n",
      "     ---------------------------------------- 0.0/55.4 kB ? eta -:--:--\n",
      "     ---------------------------------------- 55.4/55.4 kB ? eta 0:00:00\n",
      "Requirement already satisfied: numpy>=1.20 in c:\\users\\user\\miniconda3\\envs\\py\\lib\\site-packages (from matplotlib) (1.24.3)\n",
      "Requirement already satisfied: packaging>=20.0 in c:\\users\\user\\miniconda3\\envs\\py\\lib\\site-packages (from matplotlib) (23.0)\n",
      "Collecting pillow>=6.2.0\n",
      "  Downloading Pillow-9.5.0-cp311-cp311-win_amd64.whl (2.5 MB)\n",
      "     ---------------------------------------- 0.0/2.5 MB ? eta -:--:--\n",
      "     ---------------------------------------  2.5/2.5 MB 80.6 MB/s eta 0:00:01\n",
      "     ---------------------------------------- 2.5/2.5 MB 53.2 MB/s eta 0:00:00\n",
      "Collecting pyparsing>=2.3.1\n",
      "  Downloading pyparsing-3.0.9-py3-none-any.whl (98 kB)\n",
      "     ---------------------------------------- 0.0/98.3 kB ? eta -:--:--\n",
      "     ---------------------------------------- 98.3/98.3 kB 5.5 MB/s eta 0:00:00\n",
      "Requirement already satisfied: python-dateutil>=2.7 in c:\\users\\user\\miniconda3\\envs\\py\\lib\\site-packages (from matplotlib) (2.8.2)\n",
      "Requirement already satisfied: six>=1.5 in c:\\users\\user\\miniconda3\\envs\\py\\lib\\site-packages (from python-dateutil>=2.7->matplotlib) (1.16.0)\n",
      "Installing collected packages: pyparsing, pillow, kiwisolver, fonttools, cycler, contourpy, matplotlib\n",
      "Successfully installed contourpy-1.0.7 cycler-0.11.0 fonttools-4.39.4 kiwisolver-1.4.4 matplotlib-3.7.1 pillow-9.5.0 pyparsing-3.0.9\n"
     ]
    }
   ],
   "source": [
    "# array화를 시킨 데이터를 이미지로!\n",
    "\n",
    "#!pip install matplotlib\n",
    "# 주의 env - py - lib - site pacakage\n",
    "# 지금은 일단 설치\n",
    "!pip install matplotlib"
   ]
  },
  {
   "cell_type": "code",
   "execution_count": 99,
   "id": "565eafd2",
   "metadata": {},
   "outputs": [
    {
     "name": "stdout",
     "output_type": "stream",
     "text": [
      "Requirement already satisfied: PILLOW in c:\\users\\user\\miniconda3\\envs\\py\\lib\\site-packages (9.5.0)\n"
     ]
    }
   ],
   "source": [
    "!pip install PILLOW"
   ]
  },
  {
   "cell_type": "code",
   "execution_count": 100,
   "id": "16f50b91",
   "metadata": {},
   "outputs": [
    {
     "data": {
      "text/plain": [
       "<matplotlib.image.AxesImage at 0x19dd756ea90>"
      ]
     },
     "execution_count": 100,
     "metadata": {},
     "output_type": "execute_result"
    },
    {
     "data": {
      "image/png": "[encoded data removed]",
      "text/plain": [
       "<Figure size 640x480 with 1 Axes>"
      ]
     },
     "metadata": {},
     "output_type": "display_data"
    }
   ],
   "source": [
    "import matplotlib.pyplot as plt\n",
    "\n",
    "plt.imshow(x1,cmap='gray') # cmap = color map"
   ]
  },
  {
   "cell_type": "code",
   "execution_count": 107,
   "id": "4bfb09d7",
   "metadata": {},
   "outputs": [
    {
     "data": {
      "text/plain": [
       "<matplotlib.image.AxesImage at 0x19ddbdc6b90>"
      ]
     },
     "execution_count": 107,
     "metadata": {},
     "output_type": "execute_result"
    },
    {
     "data": {
      "image/png": "[encoded data removed]",
      "text/plain": [
       "<Figure size 640x480 with 1 Axes>"
      ]
     },
     "metadata": {},
     "output_type": "display_data"
    }
   ],
   "source": [
    "x1 = np.array([[100,5,0,100,5],[0,255,0,0,5]]) # array\n",
    "x2 = np.array([[100,100,100,100,2],[0,255,257,0,2]]) # array\n",
    "\n",
    "img = np.array([x1,x2])\n",
    "imgs = img.astype('uint8')\n",
    "# plt는 여러 장을 볼 수 없음\n",
    "# plt.imshow(imgs,cmap='gray') imgs[0] 만 봐야함\n",
    "plt.imshow(imgs[0],cmap='gray')"
   ]
  },
  {
   "cell_type": "code",
   "execution_count": 108,
   "id": "06c680e4",
   "metadata": {},
   "outputs": [
    {
     "data": {
      "image/png": "[encoded data removed]",
      "text/plain": [
       "<Figure size 640x480 with 2 Axes>"
      ]
     },
     "metadata": {},
     "output_type": "display_data"
    }
   ],
   "source": [
    "#  subplot으로 여러장 보면됌\n",
    "cnt = 0\n",
    "for x in imgs :\n",
    "    cnt += 1\n",
    "    plt.subplot(1,len(imgs),cnt) # len(imgs) or np.shape(imgs)[0]\n",
    "    plt.imshow(x,cmap='gray')"
   ]
  },
  {
   "cell_type": "code",
   "execution_count": 109,
   "id": "d3642e66",
   "metadata": {},
   "outputs": [
    {
     "data": {
      "image/png": "[encoded data removed]",
      "text/plain": [
       "<Figure size 640x480 with 2 Axes>"
      ]
     },
     "metadata": {},
     "output_type": "display_data"
    }
   ],
   "source": [
    "cnt = 0; sample_cnt = 5\n",
    "for x in imgs[:sample_cnt] :\n",
    "    cnt += 1\n",
    "    plt.subplot(1,sample_cnt,cnt) # len(imgs) or np.shape(imgs)[0]\n",
    "    plt.imshow(x,cmap='gray')"
   ]
  },
  {
   "cell_type": "code",
   "execution_count": 110,
   "id": "14f033b6",
   "metadata": {},
   "outputs": [
    {
     "data": {
      "image/png": "[encoded data removed]",
      "text/plain": [
       "<Figure size 640x480 with 2 Axes>"
      ]
     },
     "metadata": {},
     "output_type": "display_data"
    }
   ],
   "source": [
    "sample_cnt = 5\n",
    "for cnt, x in enumerate(imgs[:sample_cnt]) :\n",
    "    cnt += 1\n",
    "    plt.subplot(1,sample_cnt,cnt) # len(imgs) or np.shape(imgs)[0]\n",
    "    plt.imshow(x,cmap='gray')"
   ]
  },
  {
   "cell_type": "code",
   "execution_count": 170,
   "id": "c6ac6c34",
   "metadata": {},
   "outputs": [
    {
     "data": {
      "text/plain": [
       "(2, 10)"
      ]
     },
     "execution_count": 170,
     "metadata": {},
     "output_type": "execute_result"
    }
   ],
   "source": [
    "# 사진1장이1차원이기 때문에 그림으로 못바꿈  \n",
    "x1 = np.array([[1,2,4,2,5,2,4,4,5,1],[1,2,4,2,5,2,4,4,5,1]])\n",
    "x2 = np.array([[5,6,11,3,5,6,4,3,5,1],[5,6,11,3,5,6,4,3,5,1]])\n",
    "\n",
    "x1.shape"
   ]
  },
  {
   "cell_type": "code",
   "execution_count": 171,
   "id": "545ed18e",
   "metadata": {},
   "outputs": [
    {
     "data": {
      "text/plain": [
       "array([[[ 1,  2,  4,  2,  5,  2,  4,  4,  5,  1],\n",
       "        [ 1,  2,  4,  2,  5,  2,  4,  4,  5,  1]],\n",
       "\n",
       "       [[ 5,  6, 11,  3,  5,  6,  4,  3,  5,  1],\n",
       "        [ 5,  6, 11,  3,  5,  6,  4,  3,  5,  1]]])"
      ]
     },
     "execution_count": 171,
     "metadata": {},
     "output_type": "execute_result"
    }
   ],
   "source": [
    "imgs = np.array([x1,x2])\n",
    "imgs"
   ]
  },
  {
   "cell_type": "code",
   "execution_count": 172,
   "id": "2d6e3383",
   "metadata": {},
   "outputs": [
    {
     "data": {
      "text/plain": [
       "(2, 2, 10)"
      ]
     },
     "execution_count": 172,
     "metadata": {},
     "output_type": "execute_result"
    }
   ],
   "source": [
    "imgs.shape"
   ]
  },
  {
   "cell_type": "code",
   "execution_count": 173,
   "id": "3f699621",
   "metadata": {
    "scrolled": true
   },
   "outputs": [
    {
     "data": {
      "text/plain": [
       "array([[[ 1,  2,  4,  2,  5,  2,  4,  4,  5,  1],\n",
       "        [ 1,  2,  4,  2,  5,  2,  4,  4,  5,  1]],\n",
       "\n",
       "       [[ 5,  6, 11,  3,  5,  6,  4,  3,  5,  1],\n",
       "        [ 5,  6, 11,  3,  5,  6,  4,  3,  5,  1]]])"
      ]
     },
     "execution_count": 173,
     "metadata": {},
     "output_type": "execute_result"
    }
   ],
   "source": [
    "imgs = imgs.reshape(2,2,-1)\n",
    "imgs"
   ]
  },
  {
   "cell_type": "code",
   "execution_count": 174,
   "id": "48d94fb6",
   "metadata": {},
   "outputs": [
    {
     "data": {
      "text/plain": [
       "(2, 2, 10)"
      ]
     },
     "execution_count": 174,
     "metadata": {},
     "output_type": "execute_result"
    }
   ],
   "source": [
    "imgs.shape"
   ]
  },
  {
   "cell_type": "code",
   "execution_count": 175,
   "id": "a03d435e",
   "metadata": {},
   "outputs": [
    {
     "data": {
      "text/plain": [
       "dtype('int32')"
      ]
     },
     "execution_count": 175,
     "metadata": {},
     "output_type": "execute_result"
    }
   ],
   "source": [
    "imgs.dtype"
   ]
  },
  {
   "cell_type": "code",
   "execution_count": 176,
   "id": "e38aeb48",
   "metadata": {
    "scrolled": true
   },
   "outputs": [
    {
     "data": {
      "text/plain": [
       "array([[[ 1,  2,  4,  2,  5,  2,  4,  4,  5,  1],\n",
       "        [ 1,  2,  4,  2,  5,  2,  4,  4,  5,  1]],\n",
       "\n",
       "       [[ 5,  6, 11,  3,  5,  6,  4,  3,  5,  1],\n",
       "        [ 5,  6, 11,  3,  5,  6,  4,  3,  5,  1]]], dtype=uint8)"
      ]
     },
     "execution_count": 176,
     "metadata": {},
     "output_type": "execute_result"
    }
   ],
   "source": [
    "imgs.astype('uint8')"
   ]
  },
  {
   "cell_type": "code",
   "execution_count": 177,
   "id": "b0e1e0a6",
   "metadata": {},
   "outputs": [
    {
     "data": {
      "text/plain": [
       "(2, 2, 10)"
      ]
     },
     "execution_count": 177,
     "metadata": {},
     "output_type": "execute_result"
    }
   ],
   "source": [
    "imgs.shape"
   ]
  },
  {
   "cell_type": "code",
   "execution_count": 178,
   "id": "554d9b1c",
   "metadata": {
    "scrolled": true
   },
   "outputs": [
    {
     "data": {
      "text/plain": [
       "2"
      ]
     },
     "execution_count": 178,
     "metadata": {},
     "output_type": "execute_result"
    }
   ],
   "source": [
    "len(imgs)"
   ]
  },
  {
   "cell_type": "code",
   "execution_count": 185,
   "id": "feab1504",
   "metadata": {},
   "outputs": [
    {
     "data": {
      "image/png": "[encoded data removed]",
      "text/plain": [
       "<Figure size 640x480 with 2 Axes>"
      ]
     },
     "metadata": {},
     "output_type": "display_data"
    }
   ],
   "source": [
    "for i,x in enumerate(imgs):\n",
    "    i += 1\n",
    "    plt.subplot(1,len(imgs),i)\n",
    "    plt.imshow(x,cmap='gray')"
   ]
  },
  {
   "cell_type": "code",
   "execution_count": 115,
   "id": "2c9f88b9",
   "metadata": {},
   "outputs": [
    {
     "data": {
      "text/plain": [
       "((3,), (3,))"
      ]
     },
     "execution_count": 115,
     "metadata": {},
     "output_type": "execute_result"
    }
   ],
   "source": [
    "# 리스트는 np.shape 해야함\n",
    "# array는 .shape하면 됌\n",
    "a = [1,2,3]\n",
    "b = np.array([1,2,3])\n",
    "np.shape(a) , b.shape"
   ]
  },
  {
   "cell_type": "code",
   "execution_count": 116,
   "id": "7decf041",
   "metadata": {},
   "outputs": [
    {
     "data": {
      "text/plain": [
       "(array([[1],\n",
       "        [2],\n",
       "        [3]]),\n",
       " array([[1],\n",
       "        [2],\n",
       "        [3]]))"
      ]
     },
     "execution_count": 116,
     "metadata": {},
     "output_type": "execute_result"
    }
   ],
   "source": [
    "np.reshape(a,(3,1)) , b.reshape(3,1)"
   ]
  },
  {
   "cell_type": "code",
   "execution_count": 192,
   "id": "8e9a2b43",
   "metadata": {},
   "outputs": [
    {
     "data": {
      "text/plain": [
       "(array([ 0,  1,  2,  3,  4,  5,  6,  7,  8,  9, 10, 11, 12, 13, 14, 15, 16,\n",
       "        17, 18, 19, 20, 21, 22, 23, 24, 25, 26, 27, 28, 29, 30, 31, 32, 33,\n",
       "        34, 35, 36, 37, 38, 39, 40, 41, 42, 43, 44, 45, 46, 47, 48, 49, 50,\n",
       "        51, 52, 53, 54, 55, 56, 57, 58, 59, 60, 61, 62, 63, 64, 65, 66, 67,\n",
       "        68, 69, 70, 71, 72, 73, 74, 75, 76, 77, 78, 79, 80, 81, 82, 83, 84,\n",
       "        85, 86, 87, 88, 89, 90, 91, 92, 93, 94, 95, 96, 97, 98, 99]),\n",
       " array([-0.30585854,  0.59456998,  0.94504167,  1.59538664,  0.7187676 ,\n",
       "         2.04188392, -0.28872055, -0.32735834,  0.14677324, -0.13384511,\n",
       "         0.36130185, -0.24828083, -0.5837094 ,  0.5160177 , -0.02877698,\n",
       "         0.44577371,  0.42972987, -0.12664928,  0.43628684, -0.84215291,\n",
       "         1.01223834, -0.83714239, -0.09423662, -0.21641435, -0.18310476,\n",
       "        -0.31746711, -0.96205071, -2.69957607, -0.21540299, -0.11094222,\n",
       "         1.35688952, -1.11210465, -0.91594088, -0.7395023 , -1.69878611,\n",
       "         1.35935686,  1.10675683,  0.80746417, -0.61660157, -0.03531872,\n",
       "         0.79234962,  0.90643399,  1.17181283,  0.55767046, -0.25302975,\n",
       "        -0.19890054, -0.44265145,  2.19648073, -0.81551324,  0.16740971,\n",
       "        -0.48544443,  0.67740294,  0.28404816, -0.73942472,  0.24813255,\n",
       "        -0.37052477,  1.04793815,  0.04873999,  0.61504553,  0.34980348,\n",
       "         0.84284412,  0.71746441,  0.22307229, -1.65480956,  0.40987348,\n",
       "         0.81049039,  1.5205656 , -1.86092251, -0.40640262, -1.75729962,\n",
       "        -1.40395536, -0.6080286 ,  0.9432888 ,  0.68170098,  0.63616698,\n",
       "        -1.08844117,  1.73584208, -0.56699321, -0.27347322, -0.89748874,\n",
       "         2.02352675,  0.30531027,  0.05023103, -1.08960475,  0.38118905,\n",
       "        -0.18845416, -0.68535648,  0.16852097, -1.32143293,  1.51232832,\n",
       "         2.3098434 ,  1.07758771,  0.99363416, -1.55191382, -1.40623492,\n",
       "         0.598841  ,  0.05996041, -1.61683981, -1.50095434,  0.88693967]))"
      ]
     },
     "execution_count": 192,
     "metadata": {},
     "output_type": "execute_result"
    }
   ],
   "source": [
    "### 구글검색 '파이썬 random함수'\n",
    "### 실행할 때마다 값이 다름\n",
    "\n",
    "# 모델링할 때 seed number를 붙혀서 결과물 값을 고정시킴\n",
    "# random.normal 정규분포로로 임의의 샘플 생성\n",
    "y = np.random.normal(size=100)\n",
    "x = np.arange(len(y))\n",
    "x, y"
   ]
  },
  {
   "cell_type": "code",
   "execution_count": 193,
   "id": "6660ddf1",
   "metadata": {},
   "outputs": [
    {
     "data": {
      "text/plain": [
       "<BarContainer object of 100 artists>"
      ]
     },
     "execution_count": 193,
     "metadata": {},
     "output_type": "execute_result"
    },
    {
     "data": {
      "image/png": "[encoded data removed]",
      "text/plain": [
       "<Figure size 640x480 with 1 Axes>"
      ]
     },
     "metadata": {},
     "output_type": "display_data"
    }
   ],
   "source": [
    "plt.bar(x,y)"
   ]
  },
  {
   "cell_type": "code",
   "execution_count": null,
   "id": "f0f34701",
   "metadata": {},
   "outputs": [],
   "source": [
    "# 데이터 빈도 수\n",
    "plt.hist(y)"
   ]
  },
  {
   "cell_type": "code",
   "execution_count": 203,
   "id": "59162db4",
   "metadata": {},
   "outputs": [
    {
     "data": {
      "text/plain": [
       "(array([[0.53070617, 0.        , 0.        , ..., 0.59365679, 0.34125827,\n",
       "         0.87107614],\n",
       "        [0.        , 0.        , 0.        , ..., 0.8436167 , 0.        ,\n",
       "         0.        ],\n",
       "        [0.        , 1.21388032, 0.        , ..., 0.66750432, 1.25112462,\n",
       "         0.        ],\n",
       "        ...,\n",
       "        [0.        , 0.        , 0.92885921, ..., 1.16378718, 2.15374551,\n",
       "         0.        ],\n",
       "        [0.        , 1.90602433, 0.38694009, ..., 0.        , 0.73232925,\n",
       "         0.        ],\n",
       "        [0.        , 0.        , 1.36408128, ..., 0.36112916, 2.29740103,\n",
       "         0.        ]]),\n",
       " 0.0,\n",
       " 3.1306972799096027)"
      ]
     },
     "execution_count": 203,
     "metadata": {},
     "output_type": "execute_result"
    }
   ],
   "source": [
    "y = np.random.normal(size=2500)\n",
    "y = y.reshape(50,50)\n",
    "\n",
    "# 조건을 통해 0으로 만들 수 있음\n",
    "y[y<0] = 0\n",
    "y , np.min(y) , np.max(y)"
   ]
  },
  {
   "cell_type": "code",
   "execution_count": 204,
   "id": "88f835cf",
   "metadata": {},
   "outputs": [
    {
     "data": {
      "text/plain": [
       "<matplotlib.image.AxesImage at 0x19ddbfc6010>"
      ]
     },
     "execution_count": 204,
     "metadata": {},
     "output_type": "execute_result"
    },
    {
     "data": {
      "image/png": "[encoded data removed]",
      "text/plain": [
       "<Figure size 640x480 with 1 Axes>"
      ]
     },
     "metadata": {},
     "output_type": "display_data"
    }
   ],
   "source": [
    "# Data Augumentation으로 증강할 수도 있지만\n",
    "# 직접 노이즈 데이터를 만들 수도 있음\n",
    "# 노이즈데이터\n",
    "# 랜덤 데이터로 노이즈 데이터를 만듬\n",
    "# 데이터 증강할 때 쓰임\n",
    "plt.imshow(y,cmap='gray')"
   ]
  },
  {
   "cell_type": "code",
   "execution_count": 211,
   "id": "3842816e",
   "metadata": {},
   "outputs": [
    {
     "data": {
      "text/plain": [
       "array([[ 0,  1,  2,  3,  4],\n",
       "       [ 5,  6,  7,  8,  9],\n",
       "       [10, 11, 12, 13, 14]])"
      ]
     },
     "execution_count": 211,
     "metadata": {},
     "output_type": "execute_result"
    }
   ],
   "source": [
    "a = np.arange(15).reshape(3,5)\n",
    "a"
   ]
  },
  {
   "cell_type": "code",
   "execution_count": 214,
   "id": "cd34ac4a",
   "metadata": {},
   "outputs": [
    {
     "data": {
      "text/plain": [
       "array([[50, 50, 50, 50, 50],\n",
       "       [ 5,  6,  7,  8,  9],\n",
       "       [10, 11, 12, 13, 14]])"
      ]
     },
     "execution_count": 214,
     "metadata": {},
     "output_type": "execute_result"
    }
   ],
   "source": [
    "# for문으로 돌리면 시간이 많이 걸림\n",
    "\n",
    "for row,rowData in enumerate(a):\n",
    "    for col,colData in enumerate(rowData):\n",
    "        if colData < 5:\n",
    "            a[row][col] = 50\n",
    "a"
   ]
  },
  {
   "cell_type": "code",
   "execution_count": 222,
   "id": "92b941b7",
   "metadata": {},
   "outputs": [
    {
     "data": {
      "text/plain": [
       "array([[50, 50, 50, 50, 50],\n",
       "       [ 5,  6,  7,  8,  9],\n",
       "       [10, 11, 12, 13, 14]])"
      ]
     },
     "execution_count": 222,
     "metadata": {},
     "output_type": "execute_result"
    }
   ],
   "source": [
    "# array 구조에서 돌리면 더 빠름\n",
    "\n",
    "a = np.arange(15).reshape(3,5)\n",
    "a[a<5] = 50\n",
    "a"
   ]
  },
  {
   "cell_type": "code",
   "execution_count": 223,
   "id": "ef1638a9",
   "metadata": {},
   "outputs": [],
   "source": [
    "# 차트 그릴 때 np.arange() 자주 사용함"
   ]
  },
  {
   "cell_type": "code",
   "execution_count": 224,
   "id": "e2e571ea",
   "metadata": {},
   "outputs": [],
   "source": [
    "# 브로드캐스트"
   ]
  },
  {
   "cell_type": "code",
   "execution_count": 225,
   "id": "1d1b9e38",
   "metadata": {},
   "outputs": [
    {
     "data": {
      "text/plain": [
       "array([[50, 50, 50, 50, 50],\n",
       "       [ 5,  6,  7,  8,  9],\n",
       "       [10, 11, 12, 13, 14]])"
      ]
     },
     "execution_count": 225,
     "metadata": {},
     "output_type": "execute_result"
    }
   ],
   "source": [
    "a"
   ]
  },
  {
   "cell_type": "code",
   "execution_count": 226,
   "id": "c5e6919a",
   "metadata": {},
   "outputs": [
    {
     "data": {
      "text/plain": [
       "array([[150, 150, 150, 150, 150],\n",
       "       [105, 106, 107, 108, 109],\n",
       "       [110, 111, 112, 113, 114]])"
      ]
     },
     "execution_count": 226,
     "metadata": {},
     "output_type": "execute_result"
    }
   ],
   "source": [
    "a + 100"
   ]
  },
  {
   "cell_type": "code",
   "execution_count": 227,
   "id": "a325a58d",
   "metadata": {},
   "outputs": [
    {
     "data": {
      "text/plain": [
       "array([[   51,    60,   150,  1050, 10050],\n",
       "       [    6,    16,   107,  1008, 10009],\n",
       "       [   11,    21,   112,  1013, 10014]])"
      ]
     },
     "execution_count": 227,
     "metadata": {},
     "output_type": "execute_result"
    }
   ],
   "source": [
    "a + [1,10,100,1000,10000]"
   ]
  },
  {
   "cell_type": "code",
   "execution_count": 228,
   "id": "64d800ae",
   "metadata": {},
   "outputs": [
    {
     "data": {
      "text/plain": [
       "array([[100,  50,  50,  50,  50],\n",
       "       [ 55,   6,   7,   8,   9],\n",
       "       [ 60,  11,  12,  13,  14]])"
      ]
     },
     "execution_count": 228,
     "metadata": {},
     "output_type": "execute_result"
    }
   ],
   "source": [
    "# 인덱스 + 슬라이싱\n",
    "# 이미지의 테두리 그릴 때 필요함\n",
    "\n",
    "a[:,0] = a[:,0] + 50\n",
    "# col = den \n",
    "# den1 = 100,55,60\n",
    "# den2 = 50,6,11 ...\n",
    "\n",
    "# den1에만 가중치를 바꾸고 싶을 때가 있음\n",
    "a"
   ]
  },
  {
   "cell_type": "code",
   "execution_count": 229,
   "id": "7ff3a135",
   "metadata": {},
   "outputs": [
    {
     "data": {
      "text/plain": [
       "array([[500, 500, 500, 500, 500],\n",
       "       [500, 500, 500, 500, 500],\n",
       "       [500, 500, 500, 500, 500]])"
      ]
     },
     "execution_count": 229,
     "metadata": {},
     "output_type": "execute_result"
    }
   ],
   "source": [
    "a[:,:] = 500\n",
    "a"
   ]
  },
  {
   "cell_type": "code",
   "execution_count": 239,
   "id": "2e1876c9",
   "metadata": {},
   "outputs": [
    {
     "data": {
      "text/plain": [
       "(array([-0.55150106, -0.06573001, -1.4646222 ,  0.04645202, -0.06675237,\n",
       "        -1.61019264, -0.03085175, -0.20320495,  1.28935744, -1.43585584]),\n",
       " array([ 0.38905387, -0.27334152,  1.47942438,  0.84424166, -1.03216197,\n",
       "         1.17967694, -1.37011489, -0.08497391,  0.12386026,  1.63221122]),\n",
       " (10,),\n",
       " (10,))"
      ]
     },
     "execution_count": 239,
     "metadata": {},
     "output_type": "execute_result"
    }
   ],
   "source": [
    "a = np.random.normal(size=10)\n",
    "b = np.random.normal(size=10)\n",
    "a, b , a.shape, b.shape"
   ]
  },
  {
   "cell_type": "code",
   "execution_count": 240,
   "id": "d2f54cb9",
   "metadata": {},
   "outputs": [
    {
     "data": {
      "text/plain": [
       "(array([[-0.55150106, -0.06573001, -1.4646222 ,  0.04645202, -0.06675237,\n",
       "         -1.61019264, -0.03085175, -0.20320495,  1.28935744, -1.43585584],\n",
       "        [ 0.38905387, -0.27334152,  1.47942438,  0.84424166, -1.03216197,\n",
       "          1.17967694, -1.37011489, -0.08497391,  0.12386026,  1.63221122]]),\n",
       " (2, 10))"
      ]
     },
     "execution_count": 240,
     "metadata": {},
     "output_type": "execute_result"
    }
   ],
   "source": [
    "np.vstack((a,b)) , np.vstack((a,b)).shape"
   ]
  },
  {
   "cell_type": "code",
   "execution_count": 241,
   "id": "ffa1dcf6",
   "metadata": {},
   "outputs": [
    {
     "data": {
      "text/plain": [
       "(array([-0.55150106, -0.06573001, -1.4646222 ,  0.04645202, -0.06675237,\n",
       "        -1.61019264, -0.03085175, -0.20320495,  1.28935744, -1.43585584,\n",
       "         0.38905387, -0.27334152,  1.47942438,  0.84424166, -1.03216197,\n",
       "         1.17967694, -1.37011489, -0.08497391,  0.12386026,  1.63221122]),\n",
       " (20,))"
      ]
     },
     "execution_count": 241,
     "metadata": {},
     "output_type": "execute_result"
    }
   ],
   "source": [
    "np.hstack((a,b)), np.hstack((a,b)).shape"
   ]
  },
  {
   "cell_type": "code",
   "execution_count": 4,
   "id": "8b2cd47e",
   "metadata": {},
   "outputs": [
    {
     "data": {
      "text/plain": [
       "(<matplotlib.image.AxesImage at 0x15247179850>, (16, 16))"
      ]
     },
     "execution_count": 4,
     "metadata": {},
     "output_type": "execute_result"
    },
    {
     "data": {
      "image/png": "[encoded data removed]",
      "text/plain": [
       "<Figure size 640x480 with 1 Axes>"
      ]
     },
     "metadata": {},
     "output_type": "display_data"
    }
   ],
   "source": [
    "import numpy as np\n",
    "import matplotlib.pyplot as plt\n",
    "\n",
    "duckGray = np.array([\n",
    "[255,255,255,255,255,255,255,255,255,255,255,255,255,255,255,255],\n",
    "[255,255,255,255,255,255,255,255,255,255,255,255,255,255,255,255],\n",
    "[255,255,255,255,201,201,201,201,201,255,255,255,255,255,255,255],\n",
    "[255,255,255,201,201,201,201,201,201,201,255,255,255,255,255,255],\n",
    "[255,255,255,150,201, 0,201,201,201,201,255,255,255,255,255,255],\n",
    "[255,150,150,150,201,201,201,201,201,201,255,255,255,255,255,255],\n",
    "[255,255,150,150,150,201,201,201,201,255,255,255,255,255,255,255],\n",
    "[255,255,255,255,201,201,201,201,255,201,201,201,255,201,255,255],\n",
    "[255,255,255,201,201,201,201,201,201,201,201,201, 0,201,255,255],\n",
    "[255,255,201,201,201,201,201, 0,201,201,201, 0,201,201,255,255],\n",
    "[255,255,201,201,201,201,201,201, 0, 0, 0,201,201,201,255,255],\n",
    "[ 50, 50,201,201,201,201,201,201,201,201,201,201,201,201, 50, 50],\n",
    "[ 50, 50, 50,201,201,201,201,201,201,201,201,201,201, 50, 50, 50],\n",
    "[ 50, 50, 50, 50,201,201,201,201,201,201,201,201, 50, 50, 50, 50],\n",
    "[ 50, 50, 50, 50, 50, 50, 50, 50, 50, 50, 50, 50, 50, 50, 50, 50],\n",
    "[ 50, 50, 50, 50, 50, 50, 50, 50, 50, 50, 50, 50, 50, 50, 50, 50],\n",
    "], dtype=np.uint8)\n",
    "\n",
    "\n",
    "plt.imshow(duckGray,cmap='gray'), duckGray.shape"
   ]
  },
  {
   "cell_type": "code",
   "execution_count": 244,
   "id": "afcbf52a",
   "metadata": {},
   "outputs": [
    {
     "data": {
      "text/plain": [
       "<matplotlib.image.AxesImage at 0x19ddbd7ecd0>"
      ]
     },
     "execution_count": 244,
     "metadata": {},
     "output_type": "execute_result"
    },
    {
     "data": {
      "image/png": "[encoded data removed]",
      "text/plain": [
       "<Figure size 640x480 with 1 Axes>"
      ]
     },
     "metadata": {},
     "output_type": "display_data"
    }
   ],
   "source": [
    "duckRGB = np.array([\n",
    "[[255,255,255],[255,255,255],[255,255,255],[255,255,255],[255,255,255],[255,255,255],[255,255,255],[255,255,255],[255,255,255],[255,255,255],[255,255,255],[255,255,255],[255,255,255],[255,255,255],[255,255,255],[255,255,255]],\n",
    "[[255,255,255],[255,255,255],[255,255,255],[255,255,255],[255,255,255],[255,255,255],[255,255,255],[255,255,255],[255,255,255],[255,255,255],[255,255,255],[255,255,255],[255,255,255],[255,255,255],[255,255,255],[255,255,255]],\n",
    "[[255,255,255],[255,255,255],[255,255,255],[255,255,255],[255,229,153],[255,229,153],[255,229,153],[255,229,153],[255,229,153],[255,255,255],[255,255,255],[255,255,255],[255,255,255],[255,255,255],[255,255,255],[255,255,255]],\n",
    "[[255,255,255],[255,255,255],[255,255,255],[255,229,153],[255,229,153],[255,229,153],[255,229,153],[255,229,153],[255,229,153],[255,229,153],[255,255,255],[255,255,255],[255,255,255],[255,255,255],[255,255,255],[255,255,255]],\n",
    "[[255,255,255],[255,255,255],[255,255,255],[255,153, 0],[255,229,153],[ 0, 0, 0],[255,229,153],[255,229,153],[255,229,153],[255,229,153],[255,255,255],[255,255,255],[255,255,255],[255,255,255],[255,255,255],[255,255,255]],\n",
    "[[255,255,255],[255,153, 0],[255,153, 0],[255,153, 0],[255,229,153],[255,229,153],[255,229,153],[255,229,153],[255,229,153],[255,229,153],[255,255,255],[255,255,255],[255,255,255],[255,255,255],[255,255,255],[255,255,255]],\n",
    "[[255,255,255],[255,255,255],[255,153, 0],[255,153, 0],[255,153, 0],[255,229,153],[255,229,153],[255,229,153],[255,229,153],[255,255,255],[255,255,255],[255,255,255],[255,255,255],[255,255,255],[255,255,255],[255,255,255]],\n",
    "[[255,255,255],[255,255,255],[255,255,255],[255,255,255],[255,229,153],[255,229,153],[255,229,153],[255,229,153],[255,255,255],[255,229,153],[255,229,153],[255,229,153],[255,255,255],[255,229,153],[255,255,255],[255,255,255]],\n",
    "[[255,255,255],[255,255,255],[255,255,255],[255,229,153],[255,229,153],[255,229,153],[255,229,153],[255,229,153],[255,229,153],[255,229,153],[255,229,153],[255,229,153],[ 0, 0, 0],[255,229,153],[255,255,255],[255,255,255]],\n",
    "[[255,255,255],[255,255,255],[255,229,153],[255,229,153],[255,229,153],[255,229,153],[255,229,153],[ 0, 0, 0],[255,229,153],[255,229,153],[255,229,153],[ 0, 0, 0],[255,229,153],[255,229,153],[255,255,255],[255,255,255]],\n",
    "[[255,255,255],[255,255,255],[255,229,153],[255,229,153],[255,229,153],[255,229,153],[255,229,153],[255,229,153],[ 0, 0, 0],[ 0, 0, 0],[ 0, 0, 0],[255,229,153],[255,229,153],[255,229,153],[255,255,255],[255,255,255]],\n",
    "[[ 74,134,232],[ 74,134,232],[255,229,153],[255,229,153],[255,229,153],[255,229,153],[255,229,153],[255,229,153],[255,229,153],[255,229,153],[255,229,153],[255,229,153],[255,229,153],[255,229,153],[ 74,134,232],[ 74,134,232]],\n",
    "[[ 74,134,232],[ 74,134,232],[ 74,134,232],[255,229,153],[255,229,153],[255,229,153],[255,229,153],[255,229,153],[255,229,153],[255,229,153],[255,229,153],[255,229,153],[255,229,153],[ 74,134,232],[ 74,134,232],[ 74,134,232]],\n",
    "[[ 74,134,232],[ 74,134,232],[ 74,134,232],[ 74,134,232],[255,229,153],[255,229,153],[255,229,153],[255,229,153],[255,229,153],[255,229,153],[255,229,153],[255,229,153],[ 74,134,232],[ 74,134,232],[ 74,134,232],[ 74,134,232]],\n",
    "[[ 74,134,232],[ 74,134,232],[ 74,134,232],[ 74,134,232],[ 74,134,232],[ 74,134,232],[ 74,134,232],[ 74,134,232],[ 74,134,232],[ 74,134,232],[ 74,134,232],[ 74,134,232],[ 74,134,232],[ 74,134,232],[ 74,134,232],[ 74,134,232]],\n",
    "[[ 74,134,232],[ 74,134,232],[ 74,134,232],[ 74,134,232],[ 74,134,232],[ 74,134,232],[ 74,134,232],[ 74,134,232],[ 74,134,232],[ 74,134,232],[ 74,134,232],[ 74,134,232],[ 74,134,232],[ 74,134,232],[ 74,134,232],[ 74,134,232]],\n",
    "], dtype=np.uint8)\n",
    "\n",
    "plt.imshow(duckRGB)"
   ]
  },
  {
   "cell_type": "code",
   "execution_count": 245,
   "id": "f2d9dc39",
   "metadata": {},
   "outputs": [
    {
     "data": {
      "text/plain": [
       "array([[[ True,  True,  True],\n",
       "        [ True,  True,  True],\n",
       "        [ True,  True,  True],\n",
       "        [ True,  True,  True],\n",
       "        [ True,  True,  True],\n",
       "        [ True,  True,  True],\n",
       "        [ True,  True,  True],\n",
       "        [ True,  True,  True],\n",
       "        [ True,  True,  True],\n",
       "        [ True,  True,  True],\n",
       "        [ True,  True,  True],\n",
       "        [ True,  True,  True],\n",
       "        [ True,  True,  True],\n",
       "        [ True,  True,  True],\n",
       "        [ True,  True,  True],\n",
       "        [ True,  True,  True]],\n",
       "\n",
       "       [[ True,  True,  True],\n",
       "        [ True,  True,  True],\n",
       "        [ True,  True,  True],\n",
       "        [ True,  True,  True],\n",
       "        [ True,  True,  True],\n",
       "        [ True,  True,  True],\n",
       "        [ True,  True,  True],\n",
       "        [ True,  True,  True],\n",
       "        [ True,  True,  True],\n",
       "        [ True,  True,  True],\n",
       "        [ True,  True,  True],\n",
       "        [ True,  True,  True],\n",
       "        [ True,  True,  True],\n",
       "        [ True,  True,  True],\n",
       "        [ True,  True,  True],\n",
       "        [ True,  True,  True]],\n",
       "\n",
       "       [[ True,  True,  True],\n",
       "        [ True,  True,  True],\n",
       "        [ True,  True,  True],\n",
       "        [ True,  True,  True],\n",
       "        [ True, False, False],\n",
       "        [ True, False, False],\n",
       "        [ True, False, False],\n",
       "        [ True, False, False],\n",
       "        [ True, False, False],\n",
       "        [ True,  True,  True],\n",
       "        [ True,  True,  True],\n",
       "        [ True,  True,  True],\n",
       "        [ True,  True,  True],\n",
       "        [ True,  True,  True],\n",
       "        [ True,  True,  True],\n",
       "        [ True,  True,  True]],\n",
       "\n",
       "       [[ True,  True,  True],\n",
       "        [ True,  True,  True],\n",
       "        [ True,  True,  True],\n",
       "        [ True, False, False],\n",
       "        [ True, False, False],\n",
       "        [ True, False, False],\n",
       "        [ True, False, False],\n",
       "        [ True, False, False],\n",
       "        [ True, False, False],\n",
       "        [ True, False, False],\n",
       "        [ True,  True,  True],\n",
       "        [ True,  True,  True],\n",
       "        [ True,  True,  True],\n",
       "        [ True,  True,  True],\n",
       "        [ True,  True,  True],\n",
       "        [ True,  True,  True]],\n",
       "\n",
       "       [[ True,  True,  True],\n",
       "        [ True,  True,  True],\n",
       "        [ True,  True,  True],\n",
       "        [ True, False, False],\n",
       "        [ True, False, False],\n",
       "        [False, False, False],\n",
       "        [ True, False, False],\n",
       "        [ True, False, False],\n",
       "        [ True, False, False],\n",
       "        [ True, False, False],\n",
       "        [ True,  True,  True],\n",
       "        [ True,  True,  True],\n",
       "        [ True,  True,  True],\n",
       "        [ True,  True,  True],\n",
       "        [ True,  True,  True],\n",
       "        [ True,  True,  True]],\n",
       "\n",
       "       [[ True,  True,  True],\n",
       "        [ True, False, False],\n",
       "        [ True, False, False],\n",
       "        [ True, False, False],\n",
       "        [ True, False, False],\n",
       "        [ True, False, False],\n",
       "        [ True, False, False],\n",
       "        [ True, False, False],\n",
       "        [ True, False, False],\n",
       "        [ True, False, False],\n",
       "        [ True,  True,  True],\n",
       "        [ True,  True,  True],\n",
       "        [ True,  True,  True],\n",
       "        [ True,  True,  True],\n",
       "        [ True,  True,  True],\n",
       "        [ True,  True,  True]],\n",
       "\n",
       "       [[ True,  True,  True],\n",
       "        [ True,  True,  True],\n",
       "        [ True, False, False],\n",
       "        [ True, False, False],\n",
       "        [ True, False, False],\n",
       "        [ True, False, False],\n",
       "        [ True, False, False],\n",
       "        [ True, False, False],\n",
       "        [ True, False, False],\n",
       "        [ True,  True,  True],\n",
       "        [ True,  True,  True],\n",
       "        [ True,  True,  True],\n",
       "        [ True,  True,  True],\n",
       "        [ True,  True,  True],\n",
       "        [ True,  True,  True],\n",
       "        [ True,  True,  True]],\n",
       "\n",
       "       [[ True,  True,  True],\n",
       "        [ True,  True,  True],\n",
       "        [ True,  True,  True],\n",
       "        [ True,  True,  True],\n",
       "        [ True, False, False],\n",
       "        [ True, False, False],\n",
       "        [ True, False, False],\n",
       "        [ True, False, False],\n",
       "        [ True,  True,  True],\n",
       "        [ True, False, False],\n",
       "        [ True, False, False],\n",
       "        [ True, False, False],\n",
       "        [ True,  True,  True],\n",
       "        [ True, False, False],\n",
       "        [ True,  True,  True],\n",
       "        [ True,  True,  True]],\n",
       "\n",
       "       [[ True,  True,  True],\n",
       "        [ True,  True,  True],\n",
       "        [ True,  True,  True],\n",
       "        [ True, False, False],\n",
       "        [ True, False, False],\n",
       "        [ True, False, False],\n",
       "        [ True, False, False],\n",
       "        [ True, False, False],\n",
       "        [ True, False, False],\n",
       "        [ True, False, False],\n",
       "        [ True, False, False],\n",
       "        [ True, False, False],\n",
       "        [False, False, False],\n",
       "        [ True, False, False],\n",
       "        [ True,  True,  True],\n",
       "        [ True,  True,  True]],\n",
       "\n",
       "       [[ True,  True,  True],\n",
       "        [ True,  True,  True],\n",
       "        [ True, False, False],\n",
       "        [ True, False, False],\n",
       "        [ True, False, False],\n",
       "        [ True, False, False],\n",
       "        [ True, False, False],\n",
       "        [False, False, False],\n",
       "        [ True, False, False],\n",
       "        [ True, False, False],\n",
       "        [ True, False, False],\n",
       "        [False, False, False],\n",
       "        [ True, False, False],\n",
       "        [ True, False, False],\n",
       "        [ True,  True,  True],\n",
       "        [ True,  True,  True]],\n",
       "\n",
       "       [[ True,  True,  True],\n",
       "        [ True,  True,  True],\n",
       "        [ True, False, False],\n",
       "        [ True, False, False],\n",
       "        [ True, False, False],\n",
       "        [ True, False, False],\n",
       "        [ True, False, False],\n",
       "        [ True, False, False],\n",
       "        [False, False, False],\n",
       "        [False, False, False],\n",
       "        [False, False, False],\n",
       "        [ True, False, False],\n",
       "        [ True, False, False],\n",
       "        [ True, False, False],\n",
       "        [ True,  True,  True],\n",
       "        [ True,  True,  True]],\n",
       "\n",
       "       [[False, False, False],\n",
       "        [False, False, False],\n",
       "        [ True, False, False],\n",
       "        [ True, False, False],\n",
       "        [ True, False, False],\n",
       "        [ True, False, False],\n",
       "        [ True, False, False],\n",
       "        [ True, False, False],\n",
       "        [ True, False, False],\n",
       "        [ True, False, False],\n",
       "        [ True, False, False],\n",
       "        [ True, False, False],\n",
       "        [ True, False, False],\n",
       "        [ True, False, False],\n",
       "        [False, False, False],\n",
       "        [False, False, False]],\n",
       "\n",
       "       [[False, False, False],\n",
       "        [False, False, False],\n",
       "        [False, False, False],\n",
       "        [ True, False, False],\n",
       "        [ True, False, False],\n",
       "        [ True, False, False],\n",
       "        [ True, False, False],\n",
       "        [ True, False, False],\n",
       "        [ True, False, False],\n",
       "        [ True, False, False],\n",
       "        [ True, False, False],\n",
       "        [ True, False, False],\n",
       "        [ True, False, False],\n",
       "        [False, False, False],\n",
       "        [False, False, False],\n",
       "        [False, False, False]],\n",
       "\n",
       "       [[False, False, False],\n",
       "        [False, False, False],\n",
       "        [False, False, False],\n",
       "        [False, False, False],\n",
       "        [ True, False, False],\n",
       "        [ True, False, False],\n",
       "        [ True, False, False],\n",
       "        [ True, False, False],\n",
       "        [ True, False, False],\n",
       "        [ True, False, False],\n",
       "        [ True, False, False],\n",
       "        [ True, False, False],\n",
       "        [False, False, False],\n",
       "        [False, False, False],\n",
       "        [False, False, False],\n",
       "        [False, False, False]],\n",
       "\n",
       "       [[False, False, False],\n",
       "        [False, False, False],\n",
       "        [False, False, False],\n",
       "        [False, False, False],\n",
       "        [False, False, False],\n",
       "        [False, False, False],\n",
       "        [False, False, False],\n",
       "        [False, False, False],\n",
       "        [False, False, False],\n",
       "        [False, False, False],\n",
       "        [False, False, False],\n",
       "        [False, False, False],\n",
       "        [False, False, False],\n",
       "        [False, False, False],\n",
       "        [False, False, False],\n",
       "        [False, False, False]],\n",
       "\n",
       "       [[False, False, False],\n",
       "        [False, False, False],\n",
       "        [False, False, False],\n",
       "        [False, False, False],\n",
       "        [False, False, False],\n",
       "        [False, False, False],\n",
       "        [False, False, False],\n",
       "        [False, False, False],\n",
       "        [False, False, False],\n",
       "        [False, False, False],\n",
       "        [False, False, False],\n",
       "        [False, False, False],\n",
       "        [False, False, False],\n",
       "        [False, False, False],\n",
       "        [False, False, False],\n",
       "        [False, False, False]]])"
      ]
     },
     "execution_count": 245,
     "metadata": {},
     "output_type": "execute_result"
    }
   ],
   "source": [
    "duckRGB[:,:,:] == [255,255,255]"
   ]
  },
  {
   "cell_type": "code",
   "execution_count": 249,
   "id": "b047bfc9",
   "metadata": {},
   "outputs": [
    {
     "data": {
      "text/plain": [
       "<matplotlib.image.AxesImage at 0x19ddbd06b90>"
      ]
     },
     "execution_count": 249,
     "metadata": {},
     "output_type": "execute_result"
    },
    {
     "data": {
      "image/png": "[encoded data removed]",
      "text/plain": [
       "<Figure size 640x480 with 1 Axes>"
      ]
     },
     "metadata": {},
     "output_type": "display_data"
    }
   ],
   "source": [
    "duckRGB[duckRGB[:,:,:] == [255,255,255]] = 0\n",
    "plt.imshow(duckRGB)"
   ]
  },
  {
   "cell_type": "code",
   "execution_count": 257,
   "id": "0eef448f",
   "metadata": {},
   "outputs": [
    {
     "data": {
      "text/plain": [
       "array([[255, 255, 255, 255, 255, 255, 255, 255, 255, 255, 255, 255, 255,\n",
       "        255, 255, 255],\n",
       "       [255, 255, 255, 255, 255, 255, 255, 255, 255, 255, 255, 255, 255,\n",
       "        255, 255, 255],\n",
       "       [255, 255, 255, 255, 201, 201, 201, 201, 201, 255, 255, 255, 255,\n",
       "        255, 255, 255]], dtype=uint8)"
      ]
     },
     "execution_count": 257,
     "metadata": {},
     "output_type": "execute_result"
    }
   ],
   "source": [
    "duckGray = np.array([\n",
    "[255,255,255,255,255,255,255,255,255,255,255,255,255,255,255,255],\n",
    "[255,255,255,255,255,255,255,255,255,255,255,255,255,255,255,255],\n",
    "[255,255,255,255,201,201,201,201,201,255,255,255,255,255,255,255],\n",
    "[255,255,255,201,201,201,201,201,201,201,255,255,255,255,255,255],\n",
    "[255,255,255,150,201, 0,201,201,201,201,255,255,255,255,255,255],\n",
    "[255,150,150,150,201,201,201,201,201,201,255,255,255,255,255,255],\n",
    "[255,255,150,150,150,201,201,201,201,255,255,255,255,255,255,255],\n",
    "[255,255,255,255,201,201,201,201,255,201,201,201,255,201,255,255],\n",
    "[255,255,255,201,201,201,201,201,201,201,201,201, 0,201,255,255],\n",
    "[255,255,201,201,201,201,201, 0,201,201,201, 0,201,201,255,255],\n",
    "[255,255,201,201,201,201,201,201, 0, 0, 0,201,201,201,255,255],\n",
    "[ 50, 50,201,201,201,201,201,201,201,201,201,201,201,201, 50, 50],\n",
    "[ 50, 50, 50,201,201,201,201,201,201,201,201,201,201, 50, 50, 50],\n",
    "[ 50, 50, 50, 50,201,201,201,201,201,201,201,201, 50, 50, 50, 50],\n",
    "[ 50, 50, 50, 50, 50, 50, 50, 50, 50, 50, 50, 50, 50, 50, 50, 50],\n",
    "[ 50, 50, 50, 50, 50, 50, 50, 50, 50, 50, 50, 50, 50, 50, 50, 50],\n",
    "], dtype=np.uint8)\n",
    "\n",
    "duckGray[:3,:]"
   ]
  },
  {
   "cell_type": "code",
   "execution_count": 258,
   "id": "62ccf35d",
   "metadata": {},
   "outputs": [
    {
     "data": {
      "text/plain": [
       "<matplotlib.image.AxesImage at 0x19dddf72ed0>"
      ]
     },
     "execution_count": 258,
     "metadata": {},
     "output_type": "execute_result"
    },
    {
     "data": {
      "image/png": "[encoded data removed]",
      "text/plain": [
       "<Figure size 640x480 with 1 Axes>"
      ]
     },
     "metadata": {},
     "output_type": "display_data"
    }
   ],
   "source": [
    "duckGray[:3,:] = 0\n",
    "plt.imshow(duckGray,cmap='gray')"
   ]
  },
  {
   "cell_type": "code",
   "execution_count": 259,
   "id": "cabd096a",
   "metadata": {},
   "outputs": [
    {
     "data": {
      "text/plain": [
       "<matplotlib.image.AxesImage at 0x19ddc2f4390>"
      ]
     },
     "execution_count": 259,
     "metadata": {},
     "output_type": "execute_result"
    },
    {
     "data": {
      "image/png": "[encoded data removed]",
      "text/plain": [
       "<Figure size 640x480 with 1 Axes>"
      ]
     },
     "metadata": {},
     "output_type": "display_data"
    }
   ],
   "source": [
    "# duckGray[len(duckGray)-3:,:] = 255\n",
    "duckGray[-2:,:] = 255\n",
    "plt.imshow(duckGray,cmap='gray')"
   ]
  },
  {
   "cell_type": "code",
   "execution_count": 260,
   "id": "966e7c78",
   "metadata": {},
   "outputs": [
    {
     "data": {
      "text/plain": [
       "<matplotlib.image.AxesImage at 0x19ddc359e50>"
      ]
     },
     "execution_count": 260,
     "metadata": {},
     "output_type": "execute_result"
    },
    {
     "data": {
      "image/png": "[encoded data removed]",
      "text/plain": [
       "<Figure size 640x480 with 1 Axes>"
      ]
     },
     "metadata": {},
     "output_type": "display_data"
    }
   ],
   "source": [
    "duckGray[:,0] = 255\n",
    "plt.imshow(duckGray,cmap='gray')"
   ]
  },
  {
   "cell_type": "code",
   "execution_count": 261,
   "id": "f5acc1a7",
   "metadata": {},
   "outputs": [
    {
     "data": {
      "text/plain": [
       "<matplotlib.image.AxesImage at 0x19ddc4f6a90>"
      ]
     },
     "execution_count": 261,
     "metadata": {},
     "output_type": "execute_result"
    },
    {
     "data": {
      "image/png": "[encoded data removed]",
      "text/plain": [
       "<Figure size 640x480 with 1 Axes>"
      ]
     },
     "metadata": {},
     "output_type": "display_data"
    }
   ],
   "source": [
    "duckGray[:,-1] = 255\n",
    "plt.imshow(duckGray,cmap='gray')"
   ]
  },
  {
   "cell_type": "code",
   "execution_count": 263,
   "id": "0a76e94e",
   "metadata": {},
   "outputs": [
    {
     "data": {
      "text/plain": [
       "<matplotlib.image.AxesImage at 0x19ddc2b6a90>"
      ]
     },
     "execution_count": 263,
     "metadata": {},
     "output_type": "execute_result"
    },
    {
     "data": {
      "image/png": "[encoded data removed]",
      "text/plain": [
       "<Figure size 640x480 with 1 Axes>"
      ]
     },
     "metadata": {},
     "output_type": "display_data"
    }
   ],
   "source": [
    "# 테두리 그리는 법\n",
    "duckGray = np.array([\n",
    "[255,255,255,255,255,255,255,255,255,255,255,255,255,255,255,255],\n",
    "[255,255,255,255,255,255,255,255,255,255,255,255,255,255,255,255],\n",
    "[255,255,255,255,201,201,201,201,201,255,255,255,255,255,255,255],\n",
    "[255,255,255,201,201,201,201,201,201,201,255,255,255,255,255,255],\n",
    "[255,255,255,150,201, 0,201,201,201,201,255,255,255,255,255,255],\n",
    "[255,150,150,150,201,201,201,201,201,201,255,255,255,255,255,255],\n",
    "[255,255,150,150,150,201,201,201,201,255,255,255,255,255,255,255],\n",
    "[255,255,255,255,201,201,201,201,255,201,201,201,255,201,255,255],\n",
    "[255,255,255,201,201,201,201,201,201,201,201,201, 0,201,255,255],\n",
    "[255,255,201,201,201,201,201, 0,201,201,201, 0,201,201,255,255],\n",
    "[255,255,201,201,201,201,201,201, 0, 0, 0,201,201,201,255,255],\n",
    "[ 50, 50,201,201,201,201,201,201,201,201,201,201,201,201, 50, 50],\n",
    "[ 50, 50, 50,201,201,201,201,201,201,201,201,201,201, 50, 50, 50],\n",
    "[ 50, 50, 50, 50,201,201,201,201,201,201,201,201, 50, 50, 50, 50],\n",
    "[ 50, 50, 50, 50, 50, 50, 50, 50, 50, 50, 50, 50, 50, 50, 50, 50],\n",
    "[ 50, 50, 50, 50, 50, 50, 50, 50, 50, 50, 50, 50, 50, 50, 50, 50],\n",
    "], dtype=np.uint8)\n",
    "back = np.zeros((16,16))\n",
    "# plt.imshow(back,cmap='gray')\n",
    "back[2:14,2:14] = duckGray[2:14,2:14]\n",
    "plt.imshow(back,cmap='gray')"
   ]
  },
  {
   "cell_type": "code",
   "execution_count": null,
   "id": "f8e89de1",
   "metadata": {},
   "outputs": [],
   "source": []
  }
 ],
 "metadata": {
  "kernelspec": {
   "display_name": "Python 3 (ipykernel)",
   "language": "python",
   "name": "python3"
  },
  "language_info": {
   "codemirror_mode": {
    "name": "ipython",
    "version": 3
   },
   "file_extension": ".py",
   "mimetype": "text/x-python",
   "name": "python",
   "nbconvert_exporter": "python",
   "pygments_lexer": "ipython3",
   "version": "3.11.3"
  }
 },
 "nbformat": 4,
 "nbformat_minor": 5
}
