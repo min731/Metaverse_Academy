{
 "cells": [
  {
   "cell_type": "markdown",
   "metadata": {},
   "source": [
    "### 기초 개념"
   ]
  },
  {
   "cell_type": "code",
   "execution_count": null,
   "metadata": {},
   "outputs": [],
   "source": [
    "### TDD, DDD\n",
    "\n",
    "### '빅데이터를 지칭하는 기술' 도서 추천\n",
    "\n",
    "### 데이터웨어하우스 : 의사결정에 활용하는 DB, 서비스 DB 자체가 데이터웨어하우스일 수 있음\n",
    "### 데이터레이크 : 원시 데이터를 모으는 작업\n",
    "\n",
    "### 데이터 엔지니어의 역할\n",
    "### ex) raw1,raw2,raw3 -> data lake -> ETL pipeline(processing) -> data warehouse\n",
    "### ex) raw1,raw2,raw3 -> data lake -> ETL pipeline(processing) -> data warehouse -> ETL pipeline(processing) -> data marts\n",
    "### 원하는 형태에 따라 다름"
   ]
  },
  {
   "cell_type": "code",
   "execution_count": null,
   "metadata": {},
   "outputs": [],
   "source": [
    "# ELK : Elasticsearch , Logstash, Kibana\n",
    "# EFK : Elasticsearch , Fluentd, Kibana"
   ]
  },
  {
   "cell_type": "markdown",
   "metadata": {},
   "source": [
    "### GIT Clone 주소"
   ]
  },
  {
   "cell_type": "code",
   "execution_count": null,
   "metadata": {},
   "outputs": [],
   "source": [
    "https://github.com/suhyunjeon/docker-elk"
   ]
  }
 ],
 "metadata": {
  "language_info": {
   "name": "python"
  },
  "orig_nbformat": 4
 },
 "nbformat": 4,
 "nbformat_minor": 2
}
