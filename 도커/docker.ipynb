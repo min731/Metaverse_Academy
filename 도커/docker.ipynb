{
 "cells": [
  {
   "cell_type": "markdown",
   "metadata": {},
   "source": [
    "# 도커"
   ]
  },
  {
   "cell_type": "code",
   "execution_count": null,
   "metadata": {},
   "outputs": [],
   "source": [
    "### 운영체제 위의 얇은 운영체제가 새로 들어감, 가상의 운영체제가 생김\n",
    "### 운영체제,프로그램,라이브러리를 패키징 해놓은 것\n",
    "### 도커 컨테이너 이미지를 실행시키면 됌\n",
    "### 실행되는 모든 환경들을 파일로 저장해서 관리할 수 있다\n",
    "### 도커 파일만 있으면 어느 환경에서든 실행시킬 수 있음\n",
    "### 도커는 운영체제에서 단 하나의 프로그램을 실행시키기 위한 도구"
   ]
  },
  {
   "cell_type": "code",
   "execution_count": null,
   "metadata": {},
   "outputs": [],
   "source": [
    "### window에서 docker를 실행하기 위해서는 docker desktop 설치\n",
    "### docker desktop : 초록불 == 정상\n",
    "\n",
    "### docker 목록 확인\n",
    "### cmd - docker ps "
   ]
  },
  {
   "cell_type": "code",
   "execution_count": null,
   "metadata": {},
   "outputs": [],
   "source": [
    "### https://hub.docker.com/search?q=hello%20world\n",
    "### 도커 official image\n",
    "### cmd - docker pull hello-world\n",
    "### cmd - docker images\n",
    "\n",
    "# docker 실행\n",
    "### cmd - docker run hello-world\n",
    "\n",
    "# 죽어있는 이미지\n",
    "### cmd - docker ps -a\n",
    "\n",
    "### 도커 이미지는 도커 파일로 만들고 빌드함"
   ]
  },
  {
   "cell_type": "code",
   "execution_count": null,
   "metadata": {},
   "outputs": [],
   "source": [
    "# 도커 튜토리얼\n",
    "# https://docs.docker.com/get-started/02_our_app/\n",
    "\n",
    "# 현재 디렉토리에\n",
    "# git clone https://github.com/docker/getting-started.git\n",
    "\n",
    "# app/Dockerfile 파일 만들기\n",
    "# syntax=docker/dockerfile:1\n",
    "\n",
    "# 어떤 운영체제에서 출발할지 (기존에 만들어져 있는 환경을 베이스 삼아서)\n",
    "# FROM node:18-alpine\n",
    "\n",
    "# 어느 디렉토리에서 시작할지\n",
    "# WORKDIR /app\n",
    "\n",
    "# COPY, 빌드할 때 있는 모든 파일, WORKDIR/app : app안에다가 모든 것들을 복사한다\n",
    "# COPY . .\n",
    "\n",
    "# yarn 실행\n",
    "# RUN yarn install --production\n",
    "\n",
    "# CMD [\"node\", \"src/index.js\"]\n",
    "\n",
    "# EXPOSE 3000"
   ]
  },
  {
   "cell_type": "code",
   "execution_count": null,
   "metadata": {},
   "outputs": [],
   "source": [
    "# cmd - cd app\n",
    "# docker build -t myfirstimage . (. : 여기 있는 파일을 모두)(운영체제,프로그램을 패키징해줌)\n",
    "\n",
    "# 컨테이너 실행\n",
    "# docker run -dp 127.0.0.1:3000:3000 myfirstimage\n",
    "\n",
    "# 확인\n",
    "# docker permissions"
   ]
  }
 ],
 "metadata": {
  "language_info": {
   "name": "python"
  },
  "orig_nbformat": 4
 },
 "nbformat": 4,
 "nbformat_minor": 2
}
