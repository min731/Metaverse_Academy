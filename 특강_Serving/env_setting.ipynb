{
 "cells": [
  {
   "cell_type": "markdown",
   "metadata": {},
   "source": [
    "# Python 환경 설정"
   ]
  },
  {
   "cell_type": "code",
   "execution_count": null,
   "metadata": {},
   "outputs": [],
   "source": [
    "# cmd 에서 python 쳤을 때 \n",
    "# python 3~나와야함"
   ]
  },
  {
   "cell_type": "code",
   "execution_count": 1,
   "metadata": {},
   "outputs": [],
   "source": [
    "# anaconda prompt 우클릭 속성 '파일 위치 열기'\n",
    "# 경로 'C:\\Users\\user\\miniconda3'\n",
    "# 환경 변수(user에 대한 사용자 변수)\n",
    "\n",
    "#C:\\Users\\user\\miniconda3\n",
    "#C:\\Users\\user\\miniconda3\\Library\\mingw-w64\\bin\n",
    "#C:\\Users\\user\\miniconda3\\Library\\usr\\bin\n",
    "#C:\\Users\\user\\miniconda3\\Library\\bin\n",
    "#C:\\Users\\user\\miniconda3\\Scripts\n",
    "# windowsapps를 밑에\n",
    "\n",
    "# vscode 터미널에서 python 쳤을 때 python 버전이 나와야함"
   ]
  }
 ],
 "metadata": {
  "kernelspec": {
   "display_name": "DL_06_22",
   "language": "python",
   "name": "python3"
  },
  "language_info": {
   "codemirror_mode": {
    "name": "ipython",
    "version": 3
   },
   "file_extension": ".py",
   "mimetype": "text/x-python",
   "name": "python",
   "nbconvert_exporter": "python",
   "pygments_lexer": "ipython3",
   "version": "3.7.16"
  },
  "orig_nbformat": 4
 },
 "nbformat": 4,
 "nbformat_minor": 2
}
