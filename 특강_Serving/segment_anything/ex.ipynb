{
 "cells": [
  {
   "cell_type": "markdown",
   "metadata": {},
   "source": [
    "# Segment Anything"
   ]
  },
  {
   "cell_type": "markdown",
   "metadata": {},
   "source": [
    "### https://github.com/facebookresearch/segment-anything"
   ]
  },
  {
   "cell_type": "code",
   "execution_count": null,
   "metadata": {},
   "outputs": [],
   "source": [
    "# Pytorch는 따로 설치\n",
    "# conda로 설치\n",
    "\n",
    "# conda 가상환경 만들기\n",
    "# git clone\n",
    "\n",
    "# pip install -e \n",
    "\n",
    "# conda 로 torch, torchvision 설치\n",
    "# 요구사항(pycocotools 무시해도 됌) \n",
    "# pip install opencv-python pycocotools matplotlib onnxruntime onnx\n",
    "# python scripts/amg.py --checkpoint <path/to/checkpoint> --model-type <model_type> --input <image_or_folder> --output <path/to/output>"
   ]
  }
 ],
 "metadata": {
  "kernelspec": {
   "display_name": "DL_06_22",
   "language": "python",
   "name": "python3"
  },
  "language_info": {
   "name": "python",
   "version": "3.10.12"
  },
  "orig_nbformat": 4
 },
 "nbformat": 4,
 "nbformat_minor": 2
}
